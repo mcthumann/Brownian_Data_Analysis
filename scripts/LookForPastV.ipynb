{
 "cells": [
  {
   "metadata": {
    "ExecuteTime": {
     "end_time": "2025-06-26T19:04:27.665984Z",
     "start_time": "2025-06-26T19:04:24.654826Z"
    }
   },
   "cell_type": "code",
   "source": [
    "import numpy as np\n",
    "import matplotlib.pyplot as plt\n",
    "from tqdm import tqdm\n",
    "import scipy\n",
    "import pandas as pd\n"
   ],
   "id": "a92fb8be7215fdc1",
   "outputs": [],
   "execution_count": 1
  },
  {
   "cell_type": "code",
   "id": "initial_id",
   "metadata": {
    "collapsed": true,
    "ExecuteTime": {
     "end_time": "2025-06-26T19:04:28.328201Z",
     "start_time": "2025-06-26T19:04:27.936549Z"
    }
   },
   "source": [
    "# SHARED\n",
    "_k_b = scipy.constants.k\n",
    "_rho = 4200\n",
    "_rho_f = 789\n",
    "\n",
    "_r =  1.3760960015750753e-06\n",
    "_gain = np.sqrt(546732846741466.4 )\n",
    "_K = 8.123362924657555e-05\n",
    "\n",
    "_m = 4/3 *np.pi *_r**3*_rho + 2/3 *np.pi *_r**3*_rho_f\n",
    "_temp = 293\n",
    "_viscous = 0.36e-3\n",
    "_v_force = 6*np.pi*_r*_viscous\n",
    "\n",
    "print(\"momentum relation time is \" + str(_m/_v_force))\n"
   ],
   "outputs": [
    {
     "name": "stdout",
     "output_type": "stream",
     "text": [
      "momentum relation time is 5.370574027409662e-06\n"
     ]
    }
   ],
   "execution_count": 2
  },
  {
   "metadata": {
    "ExecuteTime": {
     "end_time": "2025-06-26T19:04:28.437489Z",
     "start_time": "2025-06-26T19:04:28.433940Z"
    }
   },
   "cell_type": "code",
   "source": [
    "# Calculate the average MSD\n",
    "def compute_msd(time_trace, dt):\n",
    "    n = len(time_trace)\n",
    "    msd = np.zeros(n)  # Allocate array for MSD\n",
    "    lag_times = np.arange(n) * dt  # Calculate lag times\n",
    "\n",
    "    for tau in tqdm(range(n)):\n",
    "        displacements = time_trace[tau:] - time_trace[:n - tau]\n",
    "        msd[tau] = np.mean(displacements**2)\n",
    "\n",
    "    return msd, lag_times\n",
    "\n",
    "# Calculate the zero init MSD\n",
    "\n",
    "def compute_init_msd(sequence):\n",
    "    MS = np.zeros(len(sequence))\n",
    "    for i in range(1, len(MS)):\n",
    "        MS[i] = (sequence[0] - sequence[i])**2\n",
    "        #print(np.abs(sequence[0] - sequence[1]) / np.abs(sequence[50] - sequence[55]))\n",
    "    return MS\n",
    "\n",
    "def compute_init_msd2(time_trace):\n",
    "\n",
    "    n = len(time_trace)\n",
    "\n",
    "    msd_ = [(time_trace[k]-time_trace[0])**2 for k in range(n)]\n",
    "    return msd_\n"
   ],
   "id": "ade88513cba776ce",
   "outputs": [],
   "execution_count": 3
  },
  {
   "metadata": {
    "ExecuteTime": {
     "end_time": "2025-06-26T19:04:28.476878Z",
     "start_time": "2025-06-26T19:04:28.471500Z"
    }
   },
   "cell_type": "code",
   "source": [
    "# ANALYTICAL FUNCTIONS\n",
    "\n",
    "# GENERAL WHITE NOISE\n",
    "def msd_wn(t):\n",
    "    tau = _m / _v_force\n",
    "    omega_0 = np.sqrt(_K / _m)\n",
    "    omega_1 = np.sqrt(1/(4*tau**2) - omega_0**2)\n",
    "    return (2*_k_b*_temp/_K)*(1-np.exp(-t/(2*tau))*(np.cosh(omega_1*t)+(1/(2*omega_1*tau))*np.sinh(omega_1*t)))\n",
    "\n",
    "# INITIALLY ZERO WHITE NOISE\n",
    "def just_noise(t):\n",
    "\n",
    "    tau = _m / _v_force\n",
    "    omega_0 = np.sqrt(_K / _m)\n",
    "    omega_1 = np.sqrt(1/(4*tau**2) - omega_0**2)\n",
    "    numerator = tau*np.exp(-1*t / tau)*(-1-4*tau**2*(-1 + np.exp(t/tau))*omega_1**2 + np.cosh(2*t*omega_1)+2*tau*omega_1*np.sinh(2*t*omega_1))\n",
    "    denominator = -2 + 8*tau**2*omega_1**2#-1*8*tau**2*omega_0**2\n",
    "    final_scale = 12*np.pi*_r*_viscous*_k_b*_temp / _m**2 / omega_1**2\n",
    "    return (numerator / denominator) * final_scale\n",
    "\n",
    "# INITIAL SET VARIANCE WHITE NOISE\n",
    "def known_initial_v_0(t, tol_percent):\n",
    "\n",
    "    tau = _m / _v_force\n",
    "\n",
    "    #Defines important auxillary variables\n",
    "\n",
    "    omega_0 = np.sqrt(_K / _m)\n",
    "    omega_1 = np.sqrt(1/(4*tau**2) - omega_0**2)\n",
    "    T = omega_1*t\n",
    "\n",
    "    #Gets contribution from the thermal white noise\n",
    "    gamma = just_noise(t)\n",
    "\n",
    "    #Gets contribution from initial position variation\n",
    "    # hyp_factors = np.exp(-1*t/tau)*(np.cosh(T)**2 + 1/(4*(omega_1*tau)**2)*np.sinh(T)**2 + 1/(omega_1*tau)*np.cosh(T)*np.sinh(T)) - np.exp(-1*t/(2*tau))*(2*np.cosh(T) - 1/(2*omega_1*tau)*np.sinh(T))\n",
    "    hyp_factors = (1 - np.exp(-t/(2*tau))*(np.cosh(omega_1*t) + np.sinh(omega_1*t)/(2*omega_1*tau)))**2\n",
    "\n",
    "    #alpha easier to type than tol_percent\n",
    "    alpha = tol_percent\n",
    "\n",
    "    #Gets the second moment of the velocity assuming a probabiity distribution of\n",
    "    #a Gaussian cut off on its wings by some fraction of its standard deviation (alpha/tol_percent)\n",
    "    updated_sigma = 1 - alpha*np.exp(-alpha**2/2)*np.sqrt(2/np.pi)/scipy.special.erf(alpha/np.sqrt(2))\n",
    "\n",
    "    #Calculates the contribution from the intitial velocity spread\n",
    "    velo = np.exp(-1*t/tau) / omega_1**2 * np.sinh(omega_1*t)**2 *_k_b*_temp / _m * updated_sigma\n",
    "\n",
    "    #Puts the pieces together\n",
    "    return _k_b*_temp / _K * ( hyp_factors) + gamma + velo\n",
    "\n",
    "# HYDRODYNAMIC GENERAL CASE\n",
    "def hydro_msd(t):\n",
    "    trap_const = _K\n",
    "    use_mass = _m\n",
    "    m_f = 2 / 3 * np.pi * _r ** 3 * 1000\n",
    "    t_k = (6 * np.pi * _r * _viscous) / _K\n",
    "    t_f = (_rho_f * _r ** 2) / _viscous\n",
    "    t_p = _m / (6 * np.pi * _r * _viscous)\n",
    "    print(\"tp is \" + str(t_p))\n",
    "    print(t_f)\n",
    "    # find roots\n",
    "    # a * z^4 + b * z^3 + c * z^2 + d * z + e = 0\n",
    "    a_ = t_p\n",
    "    b = -1 * np.sqrt(t_f)\n",
    "    c = 1\n",
    "    d = 0\n",
    "    e = 1 / t_k\n",
    "\n",
    "    # Coefficients array for the polynomial equation\n",
    "    coefficients = [a_, b, c, d, e]\n",
    "\n",
    "    # Find the roots\n",
    "    roots = np.roots(coefficients)\n",
    "\n",
    "    # I need to learn how to vectorize my code better\n",
    "    term_1 = scipy.special.erfcx(roots[0] * np.sqrt(t)) / (\n",
    "                roots[0] * (roots[0] - roots[1]) * (roots[0] - roots[2]) * (roots[0] - roots[3]))\n",
    "    term_2 = scipy.special.erfcx(roots[1] * np.sqrt(t)) / (\n",
    "                roots[1] * (roots[1] - roots[0]) * (roots[1] - roots[2]) * (roots[1] - roots[3]))\n",
    "    term_3 = scipy.special.erfcx(roots[2] * np.sqrt(t)) / (\n",
    "                roots[2] * (roots[2] - roots[1]) * (roots[2] - roots[0]) * (roots[2] - roots[3]))\n",
    "    term_4 = scipy.special.erfcx(roots[3] * np.sqrt(t)) / (\n",
    "                roots[3] * (roots[3] - roots[1]) * (roots[3] - roots[2]) * (roots[3] - roots[0]))\n",
    "\n",
    "    D = _k_b * _temp / (6 * np.pi * _viscous * _r)\n",
    "    # Returns theoretical MSD\n",
    "    print(\"use_mass is \" + str(use_mass))\n",
    "    return np.real(2 * _k_b * _temp / trap_const + 2 * _k_b * _temp / (use_mass) * (\n",
    "                term_1 + term_2 + term_3 + term_4))\n",
    "\n"
   ],
   "id": "5e52744aafd266a2",
   "outputs": [],
   "execution_count": 4
  },
  {
   "metadata": {
    "ExecuteTime": {
     "end_time": "2025-06-26T19:11:26.314506Z",
     "start_time": "2025-06-26T19:04:28.510541Z"
    }
   },
   "cell_type": "code",
   "source": [
    "# SIMULATIONS\n",
    "series_percent = 50\n",
    "chunksize = 10 ** 6  # Adjust chunk size based on your memory availability\n",
    "chunks = []\n",
    "\n",
    "for chunk in pd.read_csv(r'C:\\Users\\mct2723\\Desktop\\Repos\\MarkovianEmbedding\\position_velocity_data.csv', chunksize=chunksize, low_memory=False):\n",
    "    # process each chunk individually or filter/aggregate it\n",
    "    chunks.append(chunk)\n",
    "\n",
    "df = pd.concat(chunks, ignore_index=True)\n",
    "\n",
    "# Extract only the columns that start with 'Position' or 'Velocity'\n",
    "position_cols = [col for col in df.columns if col.startswith('Position')]\n",
    "velocity_cols = [col for col in df.columns if col.startswith('Velocity')]\n",
    "print(position_cols)\n",
    "print(velocity_cols)\n",
    "timestep_sim = df['real_timestep_s'].values[0]\n",
    "positions_sim = []\n",
    "velocities_sim = []\n",
    "for i in range(len(position_cols)):\n",
    "    positions_sim.append(df[position_cols[i]].astype(float).values)\n",
    "    velocities_sim.append(df[velocity_cols[i]].astype(float).values)\n",
    "\n",
    "# print(f\"Positions shape: {positions_sim.shape}\")\n",
    "# print(f\"Velocities shape: {velocities_sim.shape}\")\n",
    "\n",
    "bin_num_sim = 50\n",
    "fs_sim = 1/(timestep_sim * bin_num_sim)\n",
    "print(1/fs_sim)\n",
    "\n",
    "def bin_data(series, bin_size):\n",
    "    # Ensuring the length of series is divisible by bin_size\n",
    "    length = len(series) - len(series) % bin_size\n",
    "    series = np.array(series[:length])\n",
    "    return np.mean(series.reshape(-1, bin_size), axis=1)\n",
    "\n",
    "traces_sim = []\n",
    "for trace in positions_sim:\n",
    "    series = bin_data(trace, bin_num_sim)\n",
    "    traces_sim.append(series)\n",
    "\n",
    "v_traces_sim = []\n",
    "for trace in velocities_sim:\n",
    "    series = bin_data(trace, bin_num_sim)\n",
    "    v_traces_sim.append(series)\n",
    "\n",
    "\n",
    "# GET THE EQ MSD\n",
    "all_msd_sim = []\n",
    "lag_times_sim = 0\n",
    "for series in traces_sim:\n",
    "    msd, lag_times_sim = compute_msd(series[:int(len(series)*series_percent/100)], timestep_sim*bin_num_sim)\n",
    "    all_msd_sim.append(msd)\n",
    "\n",
    "eq_msd_sim = np.mean(all_msd_sim, axis=0)\n",
    "\n"
   ],
   "id": "b8a5e88b5ed06c15",
   "outputs": [
    {
     "name": "stdout",
     "output_type": "stream",
     "text": [
      "['Position 0', 'Position 1', 'Position 2', 'Position 3', 'Position 4', 'Position 5', 'Position 6', 'Position 7', 'Position 8', 'Position 9']\n",
      "['Velocity 0', 'Velocity 1', 'Velocity 2', 'Velocity 3', 'Velocity 4', 'Velocity 5', 'Velocity 6', 'Velocity 7', 'Velocity 8', 'Velocity 9']\n",
      "2.6852870137048313e-08\n"
     ]
    },
    {
     "name": "stderr",
     "output_type": "stream",
     "text": [
      "100%|██████████| 186199/186199 [00:34<00:00, 5346.58it/s] \n",
      "100%|██████████| 186199/186199 [00:32<00:00, 5662.19it/s] \n",
      "100%|██████████| 186199/186199 [00:36<00:00, 5110.15it/s] \n",
      "100%|██████████| 186199/186199 [00:33<00:00, 5632.11it/s] \n",
      "100%|██████████| 186199/186199 [00:32<00:00, 5773.49it/s] \n",
      "100%|██████████| 186199/186199 [00:37<00:00, 4938.70it/s] \n",
      "100%|██████████| 186199/186199 [00:33<00:00, 5583.60it/s] \n",
      "100%|██████████| 186199/186199 [00:40<00:00, 4549.65it/s] \n",
      "100%|██████████| 186199/186199 [00:45<00:00, 4101.01it/s] \n",
      "100%|██████████| 186199/186199 [00:32<00:00, 5793.84it/s] \n"
     ]
    }
   ],
   "execution_count": 5
  },
  {
   "metadata": {
    "ExecuteTime": {
     "end_time": "2025-06-26T19:11:26.370379Z",
     "start_time": "2025-06-26T19:11:26.363777Z"
    }
   },
   "cell_type": "code",
   "source": [
    "import math\n",
    "from scipy import constants\n",
    "\n",
    "def compute_roots(m, K, r, eta, rho_f):\n",
    "    t_f = (rho_f * r ** 2) / eta\n",
    "    t_p = m / (6 * np.pi * r * eta)\n",
    "    a = 1\n",
    "    b = -6*math.pi*r**2*np.sqrt(rho_f*eta)/m\n",
    "    c = 6*math.pi*r*eta/m\n",
    "    d = 0\n",
    "    e = K/m\n",
    "\n",
    "    coeffs = [a, b, c, d, e]\n",
    "    return np.roots(coeffs)\n",
    "\n",
    "roots = compute_roots(_m, _K, _r, _viscous, _rho_f)\n",
    "\n",
    "def a_inverse_form(t, roots):\n",
    "    return np.real((1/_m) * sum(\n",
    "        (z**3 * scipy.special.erfcx(z * np.sqrt(t))) /\n",
    "        (np.prod([z - z_j for z_j in roots if z != z_j])) for z in roots))\n",
    "\n",
    "def b_inverse_form(t, roots):\n",
    "    return np.real((1/_m) * sum(\n",
    "        (z * scipy.special.erfcx(z * np.sqrt(t))) /\n",
    "        (np.prod([z - z_j for z_j in roots if z != z_j])) for z in roots))\n",
    "\n",
    "def c_inverse_form(t, roots):\n",
    "    a = roots[0]\n",
    "    b = roots[1]\n",
    "    c = roots[2]\n",
    "    d = roots[3]\n",
    "\n",
    "    m_over_k = 1/(a*b*c*d)\n",
    "\n",
    "    ret = np.real((1/_m) * sum(\n",
    "        (scipy.special.erfcx(z * np.sqrt(t))) /\n",
    "        (z*(np.prod([z - z_j for z_j in roots if z != z_j]))) for z in roots))\n",
    "\n",
    "    return ret + m_over_k/_m\n",
    "\n",
    "def s_half_b_inverse_form(t, roots):\n",
    "    return np.real((-1/_m) * sum(\n",
    "        (z**2 * scipy.special.erfcx(z * np.sqrt(t))) /\n",
    "        (np.prod([z - z_j for z_j in roots if z != z_j])) for z in roots))\n",
    "\n",
    "def s_minus_half_b_inverse_form(t, roots):\n",
    "     return np.real((-1/_m) * sum(\n",
    "        (scipy.special.erfcx(z * np.sqrt(t))) /\n",
    "        (np.prod([z - z_j for z_j in roots if z != z_j])) for z in roots))\n",
    "\n",
    "def experfc_inverse_form(t, tau, roots):\n",
    "    return np.real((1/_m) * sum(\n",
    "        (z * ((1/np.sqrt(np.pi*(t-tau)))-(z*np.exp(z**2*(t-tau))*scipy.special.erfc(z*np.sqrt(t-tau))))) /\n",
    "        (np.prod([z - z_j for z_j in roots if z != z_j])) for z in roots))\n",
    "\n",
    "def ensemble_r_term(t1, t2, m, K, roots):\n",
    "    return np.real((constants.k*_temp)*(c_inverse_form(t1, roots) + c_inverse_form(t2, roots) - c_inverse_form(np.abs(t2-t1), roots) - m*b_inverse_form(t1, roots)*b_inverse_form(t2, roots) - K*c_inverse_form(t1, roots)*c_inverse_form(t2, roots)))\n",
    "\n",
    "def e_and_f(t, mass, radius, rho_f, eta, x0, v0, roots):\n",
    "    gamma = 6*np.pi*radius*eta\n",
    "    z = 6*radius**2*np.pi*np.sqrt(rho_f*eta)\n",
    "    return mass*x0*a_inverse_form(t, roots) + mass*v0*b_inverse_form(t, roots) + gamma*x0*b_inverse_form(t, roots) + z*x0*s_half_b_inverse_form(t, roots) #+ z*v0*s_minus_half_b_inverse_form(t, roots)\n",
    "\n",
    "def x_t1_x_t2(t1, t2, m, K, radius, eta, rho_f, x0, v0):\n",
    "    return e_and_f(t1, m, radius, rho_f, eta, x0, v0, roots)*e_and_f(t2, m, radius, rho_f, eta, x0, v0, roots) + ensemble_r_term(t1,t2, m, K, roots)\n",
    "\n",
    "def full_hydro_msd(t1, t2, m, K, radius, eta, rho_f, x0, v0):\n",
    "    return x_t1_x_t2(t1, t1, m, K, radius, eta, rho_f, x0, v0) + x_t1_x_t2(t2, t2, m, K, radius, eta, rho_f, x0, v0) - 2 * x_t1_x_t2(t1, t2, m, K, radius, eta, rho_f, x0, v0)\n",
    "#\n",
    "def stat_hydro_msd(t, roots):\n",
    "    return 2*constants.k*_temp*c_inverse_form(t, roots)\n",
    "\n",
    "def v_t1_v_t2(t1, t2, m, K):\n",
    "    return _k_b*_temp*(a_inverse_form(np.abs(t2-t1), roots) - m*a_inverse_form(t1, roots)*a_inverse_form(t2, roots) - K*b_inverse_form(t1, roots)*b_inverse_form(t2, roots))\n",
    "\n"
   ],
   "id": "7cc133a593edb65f",
   "outputs": [],
   "execution_count": 6
  },
  {
   "metadata": {
    "ExecuteTime": {
     "end_time": "2025-06-26T19:11:26.448366Z",
     "start_time": "2025-06-26T19:11:26.425455Z"
    }
   },
   "cell_type": "code",
   "source": [
    "# speeds = [0, .5, .75, 1, 2, 4]\n",
    "speeds = [1]#, .5, 1]\n",
    "# traces_per_speed = [0, 0, 0, 0, 0, 0]\n",
    "traces_per_speed = [0]#, 0, 0]\n",
    "# GET THE VAR INT MSD\n",
    "\n",
    "sim_speeds_msds = []\n",
    "\n",
    "# speed_tol = [.015, .015, .015, .015, .015, .015]\n",
    "speed_tol = [.01]#, .001, .001]\n",
    "lag_times_speed_sim = 0"
   ],
   "id": "7ca2edc530593285",
   "outputs": [],
   "execution_count": 7
  },
  {
   "metadata": {
    "ExecuteTime": {
     "end_time": "2025-06-26T19:14:12.592538Z",
     "start_time": "2025-06-26T19:14:12.589625Z"
    }
   },
   "cell_type": "code",
   "source": [
    "times_analytic = np.logspace(-7, -2, 200)\n",
    "#\n",
    "# mu = 0\n",
    "# # sigma_v = np.sqrt(_k_b*_temp/_m)\n",
    "# sigma_x = np.sqrt(_k_b*_temp/_K)\n",
    "# num_samples = 10000\n",
    "#\n",
    "# # initial_conditions_v = np.random.normal(mu, sigma_v, num_samples)\n",
    "# initial_conditions_x = np.random.normal(mu, sigma_x, num_samples)\n",
    "#\n",
    "# results_speed_no_half = np.zeros((num_samples, len(times_analytic)))\n",
    "#\n",
    "# speeds_analytic_no_half = []\n",
    "# for speed in speeds:\n",
    "#     print(\"Speed X\")\n",
    "#     for i in tqdm(range(num_samples)):\n",
    "#         results_speed_no_half[i, :] = full_hydro_msd(0, times_analytic, _m, _K, _r, _viscous, _rho_f, initial_conditions_x[i], speed* np.sqrt(_k_b*_temp/_m))\n",
    "#     speeds_analytic_no_half.append(results_speed_no_half.mean(axis=0))\n",
    "#     results_speed_no_half = np.zeros((num_samples, len(times_analytic)))\n"
   ],
   "id": "e161d95557f65b41",
   "outputs": [],
   "execution_count": 12
  },
  {
   "metadata": {
    "ExecuteTime": {
     "end_time": "2025-06-26T20:47:37.541647Z",
     "start_time": "2025-06-26T20:47:36.265906Z"
    }
   },
   "cell_type": "code",
   "source": [
    "# LOOK FOR SPECIFIC SPEEDS\n",
    "# SIM PART 3\n",
    "init_len_sim = int(len(traces_sim[0])/20)\n",
    "x_ax = np.arange(init_len_sim)*timestep_sim*bin_num_sim\n",
    "sum_vel = np.zeros(init_len_sim)\n",
    "sum_vel_forward = np.zeros(init_len_sim)\n",
    "for s in range(len(speeds)):\n",
    "    #Comment out SIM\n",
    "    # all_speeds_msd_data = []\n",
    "\n",
    "    msd_sum = np.zeros(init_len_sim)\n",
    "    total_idx = 0\n",
    "    lag_times_speed_sim = np.arange(init_len_sim)/fs_sim\n",
    "    for i in range(len(traces_sim)):\n",
    "        speed_idxs_sim = []\n",
    "        print(\"std of sim vel \" + str(np.std(v_traces_sim[i])))\n",
    "        print(\"sqrt kbt/m \" + str(np.sqrt(_k_b*_temp/_m)))\n",
    "        v_tolerance = (speeds[s] * np.std(v_traces_sim[i]))\n",
    "        speed_tolerance = speed_tol[s] *np.std(v_traces_sim[i])\n",
    "        v_indices_sim = np.where((v_traces_sim[i] < v_tolerance + speed_tolerance) & (v_traces_sim[i] > v_tolerance - speed_tolerance))[0]\n",
    "        print(\"speed idx sim: \" + str(len(v_indices_sim)))\n",
    "\n",
    "        for idx in v_indices_sim:\n",
    "            if idx > init_len_sim and idx < len(v_traces_sim[i])-init_len_sim:\n",
    "                speed_idxs_sim.append(idx)\n",
    "\n",
    "        print(\"total idx speed sim: \" + str(len(speed_idxs_sim)))\n",
    "\n",
    "        for idx in tqdm(speed_idxs_sim):\n",
    "            sum_vel += (v_traces_sim[i][idx-init_len_sim+1:idx+1])\n",
    "            sum_vel_forward+= (traces_sim[i][idx:idx+init_len_sim] - traces_sim[i][idx])\n",
    "            total_idx += 1\n",
    "    avg_vel = np.array(sum_vel)/total_idx\n",
    "    avg_vel_forward = np.array(sum_vel_forward)/total_idx\n",
    "plt.plot(x_ax, avg_vel)\n",
    "plt.axhline(v_tolerance)\n",
    "print(total_idx)\n",
    "plt.show()\n",
    "\n",
    "plt.plot(x_ax, avg_vel_forward)\n",
    "plt.xscale('log')\n",
    "plt.show()\n",
    "\n",
    "with open('../data/past_v.dat', 'w') as f:\n",
    "    f.write(f\"# tau | avg v where v_0 = std_v \\n\")\n",
    "    data = np.column_stack((x_ax, avg_vel))\n",
    "    np.savetxt(f, data, fmt='%.15e')\n",
    "with open('../data/forward_v.dat', 'w') as f:\n",
    "    f.write(f\"# tau | avg v where v_0 = std_v \\n\")\n",
    "    data = np.column_stack((x_ax, avg_vel_forward))\n",
    "    np.savetxt(f, data, fmt='%.15e')\n"
   ],
   "id": "354b3d58c1e5381b",
   "outputs": [
    {
     "name": "stdout",
     "output_type": "stream",
     "text": [
      "std of sim vel 0.0002830465457653249\n",
      "sqrt kbt/m 0.0002840134579274491\n",
      "speed idx sim: 1798\n",
      "total idx speed sim: 1617\n"
     ]
    },
    {
     "name": "stderr",
     "output_type": "stream",
     "text": [
      "100%|██████████| 1617/1617 [00:00<00:00, 17068.38it/s]\n"
     ]
    },
    {
     "name": "stdout",
     "output_type": "stream",
     "text": [
      "std of sim vel 0.0002853283303301409\n",
      "sqrt kbt/m 0.0002840134579274491\n",
      "speed idx sim: 1892\n",
      "total idx speed sim: 1726\n"
     ]
    },
    {
     "name": "stderr",
     "output_type": "stream",
     "text": [
      "100%|██████████| 1726/1726 [00:00<00:00, 16367.81it/s]\n"
     ]
    },
    {
     "name": "stdout",
     "output_type": "stream",
     "text": [
      "std of sim vel 0.00028430408699366\n",
      "sqrt kbt/m 0.0002840134579274491\n",
      "speed idx sim: 1844\n",
      "total idx speed sim: 1665\n"
     ]
    },
    {
     "name": "stderr",
     "output_type": "stream",
     "text": [
      "100%|██████████| 1665/1665 [00:00<00:00, 15530.42it/s]\n"
     ]
    },
    {
     "name": "stdout",
     "output_type": "stream",
     "text": [
      "std of sim vel 0.0002847380356220501\n",
      "sqrt kbt/m 0.0002840134579274491\n",
      "speed idx sim: 1814\n",
      "total idx speed sim: 1622\n"
     ]
    },
    {
     "name": "stderr",
     "output_type": "stream",
     "text": [
      "100%|██████████| 1622/1622 [00:00<00:00, 16932.38it/s]\n"
     ]
    },
    {
     "name": "stdout",
     "output_type": "stream",
     "text": [
      "std of sim vel 0.0002842281960023003\n",
      "sqrt kbt/m 0.0002840134579274491\n",
      "speed idx sim: 1896\n",
      "total idx speed sim: 1677\n"
     ]
    },
    {
     "name": "stderr",
     "output_type": "stream",
     "text": [
      "100%|██████████| 1677/1677 [00:00<00:00, 17059.11it/s]\n"
     ]
    },
    {
     "name": "stdout",
     "output_type": "stream",
     "text": [
      "std of sim vel 0.0002759990351093425\n",
      "sqrt kbt/m 0.0002840134579274491\n",
      "speed idx sim: 1765\n",
      "total idx speed sim: 1571\n"
     ]
    },
    {
     "name": "stderr",
     "output_type": "stream",
     "text": [
      "100%|██████████| 1571/1571 [00:00<00:00, 17490.97it/s]\n"
     ]
    },
    {
     "name": "stdout",
     "output_type": "stream",
     "text": [
      "std of sim vel 0.00028826580335043924\n",
      "sqrt kbt/m 0.0002840134579274491\n",
      "speed idx sim: 1814\n",
      "total idx speed sim: 1627\n"
     ]
    },
    {
     "name": "stderr",
     "output_type": "stream",
     "text": [
      "100%|██████████| 1627/1627 [00:00<00:00, 17407.12it/s]\n"
     ]
    },
    {
     "name": "stdout",
     "output_type": "stream",
     "text": [
      "std of sim vel 0.00028563868989205625\n",
      "sqrt kbt/m 0.0002840134579274491\n",
      "speed idx sim: 1829\n",
      "total idx speed sim: 1658\n"
     ]
    },
    {
     "name": "stderr",
     "output_type": "stream",
     "text": [
      "100%|██████████| 1658/1658 [00:00<00:00, 17170.88it/s]\n"
     ]
    },
    {
     "name": "stdout",
     "output_type": "stream",
     "text": [
      "std of sim vel 0.0002808215133484715\n",
      "sqrt kbt/m 0.0002840134579274491\n",
      "speed idx sim: 1862\n",
      "total idx speed sim: 1679\n"
     ]
    },
    {
     "name": "stderr",
     "output_type": "stream",
     "text": [
      "100%|██████████| 1679/1679 [00:00<00:00, 17922.60it/s]\n"
     ]
    },
    {
     "name": "stdout",
     "output_type": "stream",
     "text": [
      "std of sim vel 0.0002807270323816071\n",
      "sqrt kbt/m 0.0002840134579274491\n",
      "speed idx sim: 1763\n",
      "total idx speed sim: 1607\n"
     ]
    },
    {
     "name": "stderr",
     "output_type": "stream",
     "text": [
      "100%|██████████| 1607/1607 [00:00<00:00, 17734.08it/s]\n"
     ]
    },
    {
     "name": "stdout",
     "output_type": "stream",
     "text": [
      "16449\n"
     ]
    },
    {
     "data": {
      "text/plain": [
       "<Figure size 640x480 with 1 Axes>"
      ],
      "image/png": "[encoded data removed]"
     },
     "metadata": {},
     "output_type": "display_data"
    },
    {
     "data": {
      "text/plain": [
       "<Figure size 640x480 with 1 Axes>"
      ],
      "image/png": "[encoded data removed]"
     },
     "metadata": {},
     "output_type": "display_data"
    }
   ],
   "execution_count": 22
  },
  {
   "metadata": {
    "ExecuteTime": {
     "end_time": "2025-06-26T19:13:04.486918Z",
     "start_time": "2025-06-26T19:13:04.324882Z"
    }
   },
   "cell_type": "code",
   "source": [
    "# GRAPHING\n",
    "\n",
    "basset_msd = hydro_msd(times_analytic)\n",
    "\n",
    "# ANALYTIC GRAPHING\n",
    "plt.figure(figsize=(10,10))\n",
    "plt.plot(times_analytic, basset_msd, color='green', linewidth=4,label=\"Equilibrium Basset\")\n",
    "\n",
    "# SIMULATION GRAPHING\n",
    "plt.plot(lag_times_sim, eq_msd_sim, color = \"red\", label=\"Equilibrium Basset SIM\")\n",
    "# plt.plot(init_lag_times_sim[1:], sim_tol_msds[-1][1:], label=f\"Initial Variable Basset Variance Basset SIM tol={tols[0]}\")\n",
    "# for i in range(len(tols)):\n",
    "    # plt.plot(init_lag_times_sim[40:], sim_tol_msds[i][40:]*_gain**2, linestyle = 'dashed', color = \"red\", label=f\"Initial Variable Basset Variance Basset SIM tol={tols[i]}\")\n",
    "plt.xlabel(\"Time (s)\")\n",
    "plt.ylabel(\"MSD (m^2)\")\n",
    "plt.title(\"Conditioning on variable velocities\")\n",
    "plt.xscale('log')\n",
    "plt.yscale('log')\n",
    "plt.legend()\n",
    "plt.show()\n",
    "\n",
    "# SPEEDS\n",
    "plt.figure(figsize=(10,10))\n",
    "for i in range(0, len(speeds)):\n",
    "    plt.plot(lag_times_speed_sim[1:], sim_speeds_msds[i][1:], linestyle = 'dashed', label=f\"Speed Basset Variance Basset SIM speed={speeds[i]}\")\n",
    "    plt.plot(times_analytic, speeds_analytic_no_half[i], label=f\"Analytical for Speed: {speeds[i]}\")\n",
    "\n",
    "plt.xlabel(\"Time (s)\")\n",
    "plt.ylabel(\"MSD (m^2)\")\n",
    "plt.title(\"Conditioning on variable velocities\")\n",
    "plt.xscale('log')\n",
    "plt.yscale('log')\n",
    "plt.legend()\n",
    "plt.show()\n",
    "\n",
    "# ZERO PLOT\n",
    "plt.figure(figsize=(10,10))\n",
    "plt.plot(lag_times_speed_sim[1:], sim_speeds_msds[0][1:], linestyle = 'dashed', label=f\"v(0) = 0 Data {speeds[0]}\")\n",
    "plt.plot(times_analytic, speeds_analytic_no_half[0], label=f\"v(0) = 0 Analytics\")\n",
    "\n",
    "plt.title(\"Super Balistic Hydrodynamics\")\n",
    "plt.xlabel(\"Time (s)\")\n",
    "plt.ylabel(\"MSD (m^2)\")\n",
    "plt.xscale('log')\n",
    "plt.yscale('log')\n",
    "plt.legend()\n",
    "plt.show()\n",
    "\n",
    "# interp and diff\n",
    "from scipy.interpolate import interp1d\n",
    "\n",
    "mask = lag_times_speed_sim[1:] > 4e-7\n",
    "\n",
    "domain = lag_times_speed_sim[1:][mask]\n",
    "\n",
    "interpo = interp1d(times_analytic, speeds_analytic_no_half[0])\n",
    "analytic_interp = interpo(domain)\n",
    "\n",
    "# plt.plot(lag_times_speed_sim[1:], sim_speeds_msds[0][1:], linestyle = 'dashed', label=f\"v(0) = 0 Data {speeds[0]}\")\n",
    "plt.plot(domain, (sim_speeds_msds[0][1:][mask]-analytic_interp)/analytic_interp, label=f\"ratio\")\n",
    "plt.xscale('log')\n",
    "plt.xlim(left = 1e-6)\n",
    "plt.ylim(top = .05, bottom=-.15)\n",
    "# plt.yscale('log')\n",
    "plt.legend()\n",
    "plt.show()\n"
   ],
   "id": "2f4a03fd75110e6a",
   "outputs": [
    {
     "ename": "NameError",
     "evalue": "name 'times_analytic' is not defined",
     "output_type": "error",
     "traceback": [
      "\u001B[31m---------------------------------------------------------------------------\u001B[39m",
      "\u001B[31mNameError\u001B[39m                                 Traceback (most recent call last)",
      "\u001B[36mCell\u001B[39m\u001B[36m \u001B[39m\u001B[32mIn[10]\u001B[39m\u001B[32m, line 3\u001B[39m\n\u001B[32m      1\u001B[39m \u001B[38;5;66;03m# GRAPHING\u001B[39;00m\n\u001B[32m----> \u001B[39m\u001B[32m3\u001B[39m basset_msd = hydro_msd(\u001B[43mtimes_analytic\u001B[49m)\n\u001B[32m      5\u001B[39m \u001B[38;5;66;03m# ANALYTIC GRAPHING\u001B[39;00m\n\u001B[32m      6\u001B[39m plt.figure(figsize=(\u001B[32m10\u001B[39m,\u001B[32m10\u001B[39m))\n",
      "\u001B[31mNameError\u001B[39m: name 'times_analytic' is not defined"
     ]
    }
   ],
   "execution_count": 10
  },
  {
   "metadata": {
    "ExecuteTime": {
     "end_time": "2025-06-26T19:13:04.492890400Z",
     "start_time": "2025-06-13T15:16:19.195982Z"
    }
   },
   "cell_type": "code",
   "source": [
    "import pandas as pd\n",
    "\n",
    "# Load the data\n",
    "df = pd.read_csv(r\"..\\data\\total_data.txt\", sep=\"\\t\")\n",
    "t_evals = df['t_evals'].values\n",
    "total_hist_value = df['Total_Value'].values\n",
    "\n",
    "\n",
    "interpo = interp1d(t_evals, total_hist_value)\n",
    "total_hist_interp = interpo(domain)\n",
    "\n",
    "# plt.plot(lag_times_speed_sim[1:], sim_speeds_msds[0][1:], linestyle = 'dashed', label=f\"v(0) = 0 Data {speeds[0]}\")\n",
    "plt.plot(domain, (sim_speeds_msds[0][1:][mask]-(analytic_interp+total_hist_interp))/(analytic_interp+total_hist_interp), label=f\"total hist ratio\")\n",
    "plt.plot(domain, (sim_speeds_msds[0][1:][mask]-analytic_interp)/analytic_interp, label=f\"ratio\")\n",
    "plt.xscale('log')\n",
    "# plt.yscale('log')\n",
    "plt.legend()\n",
    "plt.grid(True)\n",
    "plt.show()\n"
   ],
   "id": "1cc04538417c8f38",
   "outputs": [
    {
     "data": {
      "text/plain": [
       "<Figure size 640x480 with 1 Axes>"
      ],
      "image/png": "[encoded data removed]"
     },
     "metadata": {},
     "output_type": "display_data"
    }
   ],
   "execution_count": 79
  },
  {
   "metadata": {
    "ExecuteTime": {
     "end_time": "2025-06-26T19:13:04.493890300Z",
     "start_time": "2025-06-13T15:16:19.596474Z"
    }
   },
   "cell_type": "code",
   "source": "",
   "id": "3f97602fbb7f31b1",
   "outputs": [],
   "execution_count": null
  }
 ],
 "metadata": {
  "kernelspec": {
   "display_name": "Python 3",
   "language": "python",
   "name": "python3"
  },
  "language_info": {
   "codemirror_mode": {
    "name": "ipython",
    "version": 2
   },
   "file_extension": ".py",
   "mimetype": "text/x-python",
   "name": "python",
   "nbconvert_exporter": "python",
   "pygments_lexer": "ipython2",
   "version": "2.7.6"
  }
 },
 "nbformat": 4,
 "nbformat_minor": 5
}
