{
 "cells": [
  {
   "cell_type": "code",
   "id": "initial_id",
   "metadata": {
    "collapsed": true,
    "ExecuteTime": {
     "end_time": "2025-04-29T18:52:41.330888Z",
     "start_time": "2025-04-29T18:52:40.601833Z"
    }
   },
   "source": [
    "import numpy as np\n",
    "import matplotlib.pyplot as plt\n",
    "from scipy.integrate import cumtrapz\n",
    "\n",
    "from polished_scripts.MemoryTerm import rho_f\n",
    "\n",
    "\n",
    "def func(t):\n",
    "    return 1/(t)**(2/3)\n",
    "\n",
    "times = np.logspace(-8,-2,100000)\n",
    "total = np.trapz(func(times))\n",
    "# plt.axhline(total, color='k')\n",
    "# plt.plot(times,func(times))\n",
    "# plt.plot(times[0:-1], cumtrapz(func(times)))\n",
    "plt.plot(times[0:-1], cumtrapz(func(times))/total, label = \"percent\")\n",
    "stop = np.where(cumtrapz(func(times))/total < .99)\n",
    "plt.plot(times[stop][0:-1], cumtrapz(func(times[stop]))/total, label = \"99.99 Percent\")\n",
    "plt.xscale('log')\n",
    "plt.legend()\n",
    "print(\"stopped at \" + str(times[stop][-1]))\n",
    "# plt.xlim(left=10**-7)\n",
    "# plt.ylim(bottom=7e11)"
   ],
   "outputs": [
    {
     "name": "stderr",
     "output_type": "stream",
     "text": [
      "C:\\Users\\mcthu\\AppData\\Local\\Temp\\ipykernel_31844\\630802546.py:13: DeprecationWarning: 'scipy.integrate.cumtrapz' is deprecated in favour of 'scipy.integrate.cumulative_trapezoid' and will be removed in SciPy 1.14.0\n",
      "  plt.plot(times[0:-1], cumtrapz(func(times))/total, label = \"percent\")\n",
      "C:\\Users\\mcthu\\AppData\\Local\\Temp\\ipykernel_31844\\630802546.py:14: DeprecationWarning: 'scipy.integrate.cumtrapz' is deprecated in favour of 'scipy.integrate.cumulative_trapezoid' and will be removed in SciPy 1.14.0\n",
      "  stop = np.where(cumtrapz(func(times))/total < .99)\n",
      "C:\\Users\\mcthu\\AppData\\Local\\Temp\\ipykernel_31844\\630802546.py:15: DeprecationWarning: 'scipy.integrate.cumtrapz' is deprecated in favour of 'scipy.integrate.cumulative_trapezoid' and will be removed in SciPy 1.14.0\n",
      "  plt.plot(times[stop][0:-1], cumtrapz(func(times[stop]))/total, label = \"99.99 Percent\")\n"
     ]
    },
    {
     "name": "stdout",
     "output_type": "stream",
     "text": [
      "stopped at 9.851218116019386e-06\n"
     ]
    },
    {
     "data": {
      "text/plain": [
       "<Figure size 640x480 with 1 Axes>"
      ],
      "image/png": "[encoded data removed]"
     },
     "metadata": {},
     "output_type": "display_data"
    }
   ],
   "execution_count": 19
  },
  {
   "metadata": {
    "jupyter": {
     "is_executing": true
    },
    "ExecuteTime": {
     "start_time": "2025-05-04T23:05:49.076653Z"
    }
   },
   "cell_type": "code",
   "source": [
    "import numpy as np\n",
    "import mpmath as mp\n",
    "from scipy.integrate import quad\n",
    "import matplotlib.pyplot as plt\n",
    "\n",
    "# Set mpmath precision for numerical inverse Laplace transform\n",
    "mp.dps = 15\n",
    "\n",
    "# Physical constants\n",
    "radius = 2.639e-6\n",
    "rho_f = 789\n",
    "rho_p = 4200\n",
    "eta = 0.36e-3\n",
    "v_0 = 0.0003\n",
    "mass = 4/3 * np.pi * radius**3 * rho_p + 2/3 * np.pi * radius**3 * rho_f\n",
    "\n",
    "# Define the Laplace space function F(s, tau)\n",
    "def F(s, tau):\n",
    "    roots = [108.66994871+196.31569885j, 108.66994871-196.31569885j,\n",
    "             -9.77032846 +66.56826441j,  -9.77032846 -66.56826441j]\n",
    "    # Convert s and tau to mpmath for complex arithmetic\n",
    "    s = mp.mpc(s)\n",
    "    tau = mp.mpf(tau)\n",
    "    # Compute denominator D\n",
    "    D = (roots[0] + mp.sqrt(s)) * (roots[1] + mp.sqrt(s)) * (roots[2] + mp.sqrt(s)) * (roots[3] + mp.sqrt(s))\n",
    "    # Compute numerator for negative tau\n",
    "    inv = 2 * (-mp.exp(-tau*s) * mp.sqrt(s) * mp.sqrt(mp.pi) * mp.erfc(mp.sqrt(-tau*s)))\n",
    "    return inv / D\n",
    "\n",
    "def F2(s, tau):\n",
    "    roots = [108.66994871+196.31569885j, 108.66994871-196.31569885j,\n",
    "             -9.77032846 +66.56826441j,  -9.77032846 -66.56826441j]\n",
    "    # Convert s and tau to mpmath for complex arithmetic\n",
    "    s = mp.mpc(s)\n",
    "    tau = mp.mpf(tau)\n",
    "    # Compute denominator D\n",
    "    D = (roots[0] + mp.sqrt(s)) * (roots[1] + mp.sqrt(s)) * (roots[2] + mp.sqrt(s)) * (roots[3] + mp.sqrt(s))\n",
    "    # Compute numerator for negative tau\n",
    "    inv = 2/mp.sqrt(-tau)\n",
    "    return inv / D\n",
    "\n",
    "# Define the multiplier function h(tau)\n",
    "def h(tau):\n",
    "    prefactor = 6 * radius**2 * np.sqrt(np.pi * rho_f * eta) * (1/mass)\n",
    "    return prefactor * v_0\n",
    "\n",
    "# Define the inverse Laplace transform f(t, tau)\n",
    "def f(t, tau):\n",
    "    # Wrap F(s, tau) for mpmath's invertlaplace\n",
    "    def F_s(s):\n",
    "        return F(s, tau)\n",
    "    # Compute numerical inverse Laplace transform using Talbot method\n",
    "    result = mp.invertlaplace(F_s, t, method='talbot')\n",
    "    # Convert to float, handling small imaginary parts\n",
    "    return float(mp.re(result))\n",
    "\n",
    "# Define the inverse Laplace transform f(t, tau)\n",
    "def f2(t, tau):\n",
    "    # Wrap F(s, tau) for mpmath's invertlaplace\n",
    "    def F_s(s):\n",
    "        return F2(s, tau)\n",
    "    # Compute numerical inverse Laplace transform using Talbot method\n",
    "    result = mp.invertlaplace(F_s, t, method='talbot')\n",
    "    # Convert to float, handling small imaginary parts\n",
    "    return float(mp.re(result))\n",
    "\n",
    "# Define the integrand g(t, tau) = f(t, tau) * h(tau)\n",
    "def g(t, tau):\n",
    "    return f(t, tau) * h(tau)\n",
    "\n",
    "# Compute the final function u(t) by integrating over tau\n",
    "def u(t):\n",
    "    # Integrate from tauMax to tauMin (since -1e-6 > -1e-4)\n",
    "    result, _ = quad(lambda tau: g(t, tau), tauMax, tauMin, epsabs=1e-10, epsrel=1e-10)\n",
    "    return result\n",
    "\n",
    "# Define ranges for t and tau\n",
    "tMin = 1e-6\n",
    "tMax = 1e-2\n",
    "tauMin = -1e-1  # Negative tau\n",
    "tauMax = -1e-6  # Negative tau, larger value\n",
    "\n",
    "# Create logarithmic grid for visualization of f(t, tau)\n",
    "nPoints = 30  # Grid size (30x30)\n",
    "tGrid = np.logspace(np.log10(tMin), np.log10(tMax), nPoints)\n",
    "# Logarithmic spacing for negative tau: use positive magnitudes and negate\n",
    "tauGrid = -np.logspace(np.log10(-tauMin), np.log10(-tauMax), nPoints)[::-1]  # Reverse to go from -1e-6 to -1e-4\n",
    "T, Tau = np.meshgrid(tGrid, tauGrid)\n",
    "\n",
    "# Compute f(t, tau) on the grid\n",
    "fGrid = np.vectorize(f)(T, Tau)\n",
    "\n",
    "# Compute f(t, tau) on the grid\n",
    "f2Grid = np.vectorize(f2)(T, Tau)\n",
    "\n",
    "# Create heatmap for f(t, tau) with logarithmic color scale\n",
    "plt.figure(figsize=(8, 6))\n",
    "plt.imshow(np.log10(np.abs(fGrid + 1e-10)), origin='lower',\n",
    "           extent=[np.log10(tMin), np.log10(tMax), np.log10(-tauMin), np.log10(-tauMax)],\n",
    "           cmap='viridis', aspect='auto')\n",
    "plt.colorbar(label='log10(|f(t, τ)|)')\n",
    "plt.xlabel('log10(t)')\n",
    "plt.ylabel('log10(-τ)')\n",
    "plt.title('Logarithmic Heatmap of f(t, τ)')\n",
    "plt.grid(True)\n",
    "plt.show()\n",
    "# Create heatmap for f(t, tau) with logarithmic color scale\n",
    "plt.figure(figsize=(8, 6))\n",
    "plt.imshow(np.log10(np.abs(f2Grid + 1e-10)), origin='lower',\n",
    "           extent=[np.log10(tMin), np.log10(tMax), np.log10(-tauMin), np.log10(-tauMax)],\n",
    "           cmap='viridis', aspect='auto')\n",
    "plt.colorbar(label='log10(|f(t, τ)|)')\n",
    "plt.xlabel('log10(t)')\n",
    "plt.ylabel('log10(-τ)')\n",
    "plt.title('Logarithmic Heatmap of f(t, τ)')\n",
    "plt.grid(True)\n",
    "plt.show()\n",
    "\n",
    "# Compute u(t) for plotting\n",
    "tPoints = np.logspace(np.log10(tMin), np.log10(tMax), 100)  # Logarithmic t-points\n",
    "uValues = [u(t) for t in tPoints]\n",
    "\n",
    "# Plot u(t) with logarithmic t-axis\n",
    "plt.figure(figsize=(8, 6))\n",
    "plt.semilogx(tPoints, uValues, '-b', label='u(t)')\n",
    "plt.xlabel('t')\n",
    "plt.ylabel('u(t)')\n",
    "plt.title('Final Function u(t)')\n",
    "plt.grid(True)\n",
    "plt.legend()\n",
    "plt.show()"
   ],
   "id": "b11c756a6ab7ee06",
   "outputs": [],
   "execution_count": null
  },
  {
   "metadata": {},
   "cell_type": "code",
   "outputs": [],
   "execution_count": null,
   "source": "",
   "id": "560872a019e88491"
  }
 ],
 "metadata": {
  "kernelspec": {
   "display_name": "Python 3",
   "language": "python",
   "name": "python3"
  },
  "language_info": {
   "codemirror_mode": {
    "name": "ipython",
    "version": 2
   },
   "file_extension": ".py",
   "mimetype": "text/x-python",
   "name": "python",
   "nbconvert_exporter": "python",
   "pygments_lexer": "ipython2",
   "version": "2.7.6"
  }
 },
 "nbformat": 4,
 "nbformat_minor": 5
}
