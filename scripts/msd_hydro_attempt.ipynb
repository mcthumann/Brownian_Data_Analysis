{
 "cells": [
  {
   "cell_type": "code",
   "id": "initial_id",
   "metadata": {
    "collapsed": true,
    "ExecuteTime": {
     "end_time": "2025-04-02T12:21:38.732843Z",
     "start_time": "2025-04-02T12:21:38.403353Z"
    }
   },
   "source": [
    "import math\n",
    "import numpy as np\n",
    "from scipy import constants\n",
    "import scipy\n",
    "import matplotlib.pyplot as plt\n",
    "import mpmath as mp\n",
    "\n",
    "eta = 1e-3\n",
    "rho_f = 700\n",
    "temp = 293\n",
    "\n",
    "m = 5e-13\n",
    "K = 1e-6\n",
    "r = 3e-6\n",
    "\n",
    "def hydro_msd(t):\n",
    "    trap_const = K\n",
    "    use_mass = m\n",
    "    m_f = 2 / 3 * np.pi * r ** 3 * 1000\n",
    "    t_k = (6 * np.pi * r * eta) / K\n",
    "    t_f = (rho_f * r ** 2) / eta\n",
    "    t_p = m / (6 * np.pi * r * eta)\n",
    "    print(t_p)\n",
    "    # find roots\n",
    "    # a * z^4 + b * z^3 + c * z^2 + d * z + e = 0\n",
    "    a_ = t_p\n",
    "    b = -1 * np.sqrt(t_f)\n",
    "    c = 1\n",
    "    d = 0\n",
    "    e = 1 / t_k\n",
    "\n",
    "    # Coefficients array for the polynomial equation\n",
    "    coefficients = [a_, b, c, d, e]\n",
    "\n",
    "    # Find the roots\n",
    "    roots = np.roots(coefficients)\n",
    "\n",
    "    # I need to learn how to vectorize my code better\n",
    "    term_1 = scipy.special.erfcx(roots[0] * np.sqrt(t)) / (\n",
    "                roots[0] * (roots[0] - roots[1]) * (roots[0] - roots[2]) * (roots[0] - roots[3]))\n",
    "    term_2 = scipy.special.erfcx(roots[1] * np.sqrt(t)) / (\n",
    "                roots[1] * (roots[1] - roots[0]) * (roots[1] - roots[2]) * (roots[1] - roots[3]))\n",
    "    term_3 = scipy.special.erfcx(roots[2] * np.sqrt(t)) / (\n",
    "                roots[2] * (roots[2] - roots[1]) * (roots[2] - roots[0]) * (roots[2] - roots[3]))\n",
    "    term_4 = scipy.special.erfcx(roots[3] * np.sqrt(t)) / (\n",
    "                roots[3] * (roots[3] - roots[1]) * (roots[3] - roots[2]) * (roots[3] - roots[0]))\n",
    "\n",
    "    D = constants.k * temp / (6 * np.pi * eta * r)\n",
    "    # Returns theoretical MSD\n",
    "    return np.real(2 * constants.k * temp / trap_const + 2 * constants.k * temp / (use_mass) * (\n",
    "                term_1 + term_2 + term_3 + term_4))\n",
    "\n",
    "def VACF_init_conditions_hydro(t, m, K, r):\n",
    "    t_k = (6 * math.pi * r * eta) / K\n",
    "    t_f = (rho_f * r ** 2) / eta\n",
    "    t_p = m / (6 * math.pi * r * eta)\n",
    "\n",
    "    # find roots\n",
    "    # a * z^4 + b * z^3 + c * z^2 + d * z + e = 0\n",
    "\n",
    "    a = t_p #+ (1 / 9.0) * t_f\n",
    "    b = -np.sqrt(t_f)\n",
    "    c = 1\n",
    "    d = 0\n",
    "    e = 1 / t_k\n",
    "\n",
    "    coefficients = [a, b, c, d, e]\n",
    "\n",
    "    roots = np.roots(coefficients)\n",
    "    print(\"roots: \" + str(roots))\n",
    "\n",
    "    term1 = (1/m) * sum(\n",
    "        (roots[i] ** 3 * scipy.special.erfcx(roots[i] * np.sqrt(t))) /\n",
    "        (np.prod([roots[i] - roots[j] for j in range(len(roots)) if i != j])) for i in range(len(roots))\n",
    "    )\n",
    "    big_a = np.real(term1)\n",
    "    term2 = (1/m) * sum(\n",
    "        (z * scipy.special.erfcx(z * np.sqrt(t))) /\n",
    "        (np.prod([z - z_j for z_j in roots if z != z_j])) for z in roots)\n",
    "    big_b = np.real(term2)\n",
    "    az = (1/m) * sum(\n",
    "        (z ** 3  * scipy.special.erfcx(z * np.sqrt(1e-20))) /\n",
    "        (np.prod([z - z_j for z_j in roots if z != z_j])) for z in roots\n",
    "    )\n",
    "    a_zero = np.real(az)\n",
    "    bz = (1/m) * sum(\n",
    "        (z* scipy.special.erfcx(z * np.sqrt(1e-20))) /\n",
    "        (np.prod([z - z_j for z_j in roots if z != z_j])) for z in roots)\n",
    "    b_zero = np.real(bz)\n",
    "\n",
    "    vacf = constants.k * temp * (big_a - m*a_zero*big_a - K*b_zero*big_b)\n",
    "    return vacf\n"
   ],
   "outputs": [],
   "execution_count": 1
  },
  {
   "metadata": {
    "ExecuteTime": {
     "end_time": "2025-04-02T12:21:38.744163Z",
     "start_time": "2025-04-02T12:21:38.739497Z"
    }
   },
   "cell_type": "code",
   "source": [
    "def compute_roots(m, K, r):\n",
    "    t_k = (6 * math.pi * r * eta) / K\n",
    "    t_f = (rho_f * r ** 2) / eta\n",
    "    t_p = m / (6 * math.pi * r * eta)\n",
    "\n",
    "    a = t_p\n",
    "    b = -np.sqrt(t_f)\n",
    "    c = 1\n",
    "    d = 0\n",
    "    e = 1 / t_k\n",
    "\n",
    "    coeffs = [a, b, c, d, e]\n",
    "    return np.roots(coeffs)\n",
    "\n",
    "def VACF_for_integral(t1, t2, m, K, roots):\n",
    "    tau = np.abs(t2 - t1)\n",
    "    a_diff = (1/m) * sum(\n",
    "        (z**3 * scipy.special.erfcx(z * np.sqrt(tau))) /\n",
    "        (np.prod([z - z_j for z_j in roots if z != z_j])) for z in roots)\n",
    "\n",
    "    a1 = (1/m) * sum(\n",
    "        (z**3 * scipy.special.erfcx(z * np.sqrt(t1))) /\n",
    "        (np.prod([z - z_j for z_j in roots if z != z_j])) for z in roots)\n",
    "\n",
    "    a2 = (1/m) * sum(\n",
    "        (z**3 * scipy.special.erfcx(z * np.sqrt(t2))) /\n",
    "        (np.prod([z - z_j for z_j in roots if z != z_j])) for z in roots)\n",
    "\n",
    "    b1 = (1/m) * sum(\n",
    "        (z * scipy.special.erfcx(z * np.sqrt(t1))) /\n",
    "        (np.prod([z - z_j for z_j in roots if z != z_j])) for z in roots)\n",
    "\n",
    "    b2 = (1/m) * sum(\n",
    "        (z * scipy.special.erfcx(z * np.sqrt(t2))) /\n",
    "        (np.prod([z - z_j for z_j in roots if z != z_j])) for z in roots)\n",
    "\n",
    "    r_term = constants.k * temp * (np.real(a_diff) - m*np.real(a1)*np.real(a2) - K*np.real(b1)*np.real(b2))\n",
    "    return r_term\n",
    "\n",
    "def integrate_t2(t1, t, m, K, roots):\n",
    "    return scipy.integrate.quad(lambda t2: VACF_for_integral(t1, t2, m, K, roots), 0, t, epsabs=1e-14, epsrel=1e-14)[0]\n",
    "\n",
    "def compute_x_squared(t, m, K, roots):\n",
    "    return scipy.integrate.quad(lambda t1: integrate_t2(t1, t, m, K, roots), 0, t, epsabs=1e-14, epsrel=1e-14)[0]\n"
   ],
   "id": "fe7063c974b2c39",
   "outputs": [],
   "execution_count": 2
  },
  {
   "metadata": {
    "ExecuteTime": {
     "end_time": "2025-04-02T12:21:38.838494Z",
     "start_time": "2025-04-02T12:21:38.836231Z"
    }
   },
   "cell_type": "code",
   "source": [
    "def numerical_laplace_term3(t_, v0):\n",
    "    # Use arbitrary precision\n",
    "    mp.dps = 30  # number of decimal places\n",
    "    # \n",
    "    \n",
    "    pre_factor = (6*math.pi*r**2*math.sqrt(rho_f*eta)) * v0\n",
    "    \n",
    "    # Constants (you can change these)\n",
    "    a = 6*math.pi*r**2*math.sqrt(rho_f*eta)\n",
    "    b = m\n",
    "    c = 6*math.pi*r*eta\n",
    "    d = K\n",
    "    g = 1\n",
    "    \n",
    "    # Laplace-domain function F(s)\n",
    "    def F(s):\n",
    "        return g * mp.sqrt(s) / (a*s**(3/2) + b*s**2 + c*s + d)\n",
    "    \n",
    "    # Time vector\n",
    "    return pre_factor*np.array(float(mp.invertlaplace(F, t_, method='talbot')) )\n"
   ],
   "id": "7f09df8adf74460d",
   "outputs": [],
   "execution_count": 3
  },
  {
   "metadata": {
    "ExecuteTime": {
     "end_time": "2025-04-02T12:21:38.846261Z",
     "start_time": "2025-04-02T12:21:38.842384Z"
    }
   },
   "cell_type": "code",
   "source": [
    "# Generic initial V\n",
    "\n",
    "def VACF_for_var_init_integral(t1, t2, m, K, roots, v0=8.994778007266217e-05):\n",
    "    tau = np.abs(t2 - t1)\n",
    "    a_diff = (1/m) * sum(\n",
    "        (z**3 * scipy.special.erfcx(z * np.sqrt(tau))) /\n",
    "        (np.prod([z - z_j for z_j in roots if z != z_j])) for z in roots)\n",
    "\n",
    "    a1 = (1/m) * sum(\n",
    "        (z**3 * scipy.special.erfcx(z * np.sqrt(t1))) /\n",
    "        (np.prod([z - z_j for z_j in roots if z != z_j])) for z in roots)\n",
    "\n",
    "    a2 = (1/m) * sum(\n",
    "        (z**3 * scipy.special.erfcx(z * np.sqrt(t2))) /\n",
    "        (np.prod([z - z_j for z_j in roots if z != z_j])) for z in roots)\n",
    "\n",
    "    b1 = (1/m) * sum(\n",
    "        (z * scipy.special.erfcx(z * np.sqrt(t1))) /\n",
    "        (np.prod([z - z_j for z_j in roots if z != z_j])) for z in roots)\n",
    "\n",
    "    b2 = (1/m) * sum(\n",
    "        (z * scipy.special.erfcx(z * np.sqrt(t2))) /\n",
    "        (np.prod([z - z_j for z_j in roots if z != z_j])) for z in roots)\n",
    "\n",
    "    r_term = constants.k * temp * (np.real(a_diff) - m*np.real(a1)*np.real(a2) - K*np.real(b1)*np.real(b2))\n",
    "    # return r_term\n",
    "    inertial_init_term = v0**2 * m**2 * np.real(a1) * np.real(a2)\n",
    "    numerical_term = numerical_laplace_term3(t1, v0) * numerical_laplace_term3(t2, v0)\n",
    "    \n",
    "    return r_term + inertial_init_term + numerical_term\n",
    "\n",
    "\n",
    "def integrate_t2_var(t1, t, m, K, roots):\n",
    "    return scipy.integrate.quad(lambda t2: VACF_for_var_init_integral(t1, t2, m, K, roots), 0, t, epsabs=1e-14, epsrel=1e-14)[0]\n",
    "\n",
    "def compute_x_squared_var(t, m, K, roots):\n",
    "    return scipy.integrate.quad(lambda t1: integrate_t2_var(t1, t, m, K, roots), 0, t, epsabs=1e-14, epsrel=1e-14)[0]\n",
    "    "
   ],
   "id": "67ce7bf75868e0cd",
   "outputs": [],
   "execution_count": 4
  },
  {
   "metadata": {
    "ExecuteTime": {
     "end_time": "2025-04-02T12:21:41.649720Z",
     "start_time": "2025-04-02T12:21:38.851156Z"
    }
   },
   "cell_type": "code",
   "source": [
    "times = np.logspace(-7, -3, 6)\n",
    "roots = compute_roots(m, K, r)\n",
    "\n",
    "# Eq MSD\n",
    "basset_msd = hydro_msd(times)\n",
    "\n",
    "init_zero_msd = []\n",
    "\n",
    "for t in times:\n",
    "    print(f\"t = {t:.2e}\")\n",
    "    val = compute_x_squared(t, m, K, roots)\n",
    "    init_zero_msd.append(val)"
   ],
   "id": "29bfb042a2456e53",
   "outputs": [
    {
     "name": "stdout",
     "output_type": "stream",
     "text": [
      "8.841941282883075e-06\n",
      "t = 1.00e-07\n",
      "t = 6.31e-07\n",
      "t = 3.98e-06\n",
      "t = 2.51e-05\n",
      "t = 1.58e-04\n",
      "t = 1.00e-03\n"
     ]
    }
   ],
   "execution_count": 5
  },
  {
   "metadata": {
    "jupyter": {
     "is_executing": true
    },
    "ExecuteTime": {
     "start_time": "2025-04-02T12:21:41.660911Z"
    }
   },
   "cell_type": "code",
   "source": [
    "# The initial variable case\n",
    "\n",
    "roots = compute_roots(m, K, r)\n",
    "print(roots)\n",
    "init_var_hydro_msd = []\n",
    "\n",
    "for t in times:\n",
    "    print(f\"t = {t:.2e}\")\n",
    "    val2 = compute_x_squared_var(t, m, K, roots)\n",
    "    init_var_hydro_msd.append(val2)"
   ],
   "id": "5c184f6e5e4ac7a6",
   "outputs": [
    {
     "name": "stdout",
     "output_type": "stream",
     "text": [
      "[ 1.41958228e+02+304.8608164j   1.41958228e+02-304.8608164j\n",
      " -2.21985614e-02  +4.20525672j -2.21985614e-02  -4.20525672j]\n",
      "t = 1.00e-07\n",
      "t = 6.31e-07\n"
     ]
    }
   ],
   "execution_count": null
  },
  {
   "metadata": {
    "ExecuteTime": {
     "end_time": "2025-04-02T05:08:01.944136Z",
     "start_time": "2025-04-02T05:08:01.792371Z"
    }
   },
   "cell_type": "code",
   "source": [
    "# PLOT VACFs\n",
    "\n",
    "vacf = VACF_init_conditions_hydro(times, m, K, r)\n",
    "plt.plot(times, vacf)\n",
    "plt.title('VACF')\n",
    "plt.xscale('log')\n",
    "plt.yscale('log')\n",
    "plt.show()\n",
    "\n",
    "#PLOT MSDS\n",
    "\n",
    "plt.plot(times[:30], basset_msd[:30], linestyle='dashdot', label=\"Equilibrium Basset\")\n",
    "plt.scatter(times[:30], init_zero_msd[:30], label=\"init zero MSD\")\n",
    "plt.plot(times[:3], init_var_hydro_msd, label=\"Initial var MSD\")\n",
    "# plt.xlim(right = 1E-5)\n",
    "# plt.ylim(top = 1E-17, bottom = 0)\n",
    "# plt.plot(times[:50], times[:50]**(3))\n",
    "plt.plot(times[:50], times[:50]**(5.0/2)/1e5)\n",
    "# plt.plot(times[:50], times[:50]**(2)/1e8)\n",
    "plt.xscale(\"log\")\n",
    "plt.yscale(\"log\")\n",
    "plt.legend()"
   ],
   "id": "aa0a63bcdf323664",
   "outputs": [
    {
     "data": {
      "text/plain": [
       "<matplotlib.legend.Legend at 0x2877fc3cd70>"
      ]
     },
     "execution_count": 6,
     "metadata": {},
     "output_type": "execute_result"
    },
    {
     "data": {
      "text/plain": [
       "<Figure size 640x480 with 1 Axes>"
      ],
      "image/png": "[encoded data removed]"
     },
     "metadata": {},
     "output_type": "display_data"
    }
   ],
   "execution_count": 6
  }
 ],
 "metadata": {
  "kernelspec": {
   "display_name": "Python 3",
   "language": "python",
   "name": "python3"
  },
  "language_info": {
   "codemirror_mode": {
    "name": "ipython",
    "version": 2
   },
   "file_extension": ".py",
   "mimetype": "text/x-python",
   "name": "python",
   "nbconvert_exporter": "python",
   "pygments_lexer": "ipython2",
   "version": "2.7.6"
  }
 },
 "nbformat": 4,
 "nbformat_minor": 5
}
