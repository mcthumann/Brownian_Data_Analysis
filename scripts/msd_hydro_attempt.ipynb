{
 "cells": [
  {
   "cell_type": "code",
   "id": "initial_id",
   "metadata": {
    "collapsed": true,
    "ExecuteTime": {
     "end_time": "2025-04-02T20:03:00.563039Z",
     "start_time": "2025-04-02T20:03:00.556725Z"
    }
   },
   "source": [
    "import math\n",
    "import numpy as np\n",
    "from scipy import constants\n",
    "import scipy\n",
    "import matplotlib.pyplot as plt\n",
    "import mpmath as mp\n",
    "\n",
    "eta = 1e-3\n",
    "rho_f = 700\n",
    "temp = 293\n",
    "\n",
    "m = 5e-13\n",
    "K = 1e-6\n",
    "r = 3e-6\n",
    "\n",
    "# EQUILIBRIUM HYDRO MSD\n",
    "def hydro_msd(t):\n",
    "    trap_const = K\n",
    "    use_mass = m\n",
    "    m_f = 2 / 3 * np.pi * r ** 3 * 1000\n",
    "    t_k = (6 * np.pi * r * eta) / K\n",
    "    t_f = (rho_f * r ** 2) / eta\n",
    "    t_p = m / (6 * np.pi * r * eta)\n",
    "    print(t_p)\n",
    "    # find roots\n",
    "    # a * z^4 + b * z^3 + c * z^2 + d * z + e = 0\n",
    "    a_ = t_p\n",
    "    b = -1 * np.sqrt(t_f)\n",
    "    c = 1\n",
    "    d = 0\n",
    "    e = 1 / t_k\n",
    "\n",
    "    # Coefficients array for the polynomial equation\n",
    "    coefficients = [a_, b, c, d, e]\n",
    "\n",
    "    # Find the roots\n",
    "    roots = np.roots(coefficients)\n",
    "\n",
    "    # I need to learn how to vectorize my code better\n",
    "    term_1 = scipy.special.erfcx(roots[0] * np.sqrt(t)) / (\n",
    "                roots[0] * (roots[0] - roots[1]) * (roots[0] - roots[2]) * (roots[0] - roots[3]))\n",
    "    term_2 = scipy.special.erfcx(roots[1] * np.sqrt(t)) / (\n",
    "                roots[1] * (roots[1] - roots[0]) * (roots[1] - roots[2]) * (roots[1] - roots[3]))\n",
    "    term_3 = scipy.special.erfcx(roots[2] * np.sqrt(t)) / (\n",
    "                roots[2] * (roots[2] - roots[1]) * (roots[2] - roots[0]) * (roots[2] - roots[3]))\n",
    "    term_4 = scipy.special.erfcx(roots[3] * np.sqrt(t)) / (\n",
    "                roots[3] * (roots[3] - roots[1]) * (roots[3] - roots[2]) * (roots[3] - roots[0]))\n",
    "\n",
    "    D = constants.k * temp / (6 * np.pi * eta * r)\n",
    "    # Returns theoretical MSD\n",
    "    return np.real(2 * constants.k * temp / trap_const + 2 * constants.k * temp / (use_mass) * (\n",
    "                term_1 + term_2 + term_3 + term_4))\n",
    "\n",
    "# VACF WHEN V0=0\n",
    "def VACF_init_conditions_hydro(t, m, K, r):\n",
    "    t_k = (6 * math.pi * r * eta) / K\n",
    "    t_f = (rho_f * r ** 2) / eta\n",
    "    t_p = m / (6 * math.pi * r * eta)\n",
    "\n",
    "    # find roots\n",
    "    # a * z^4 + b * z^3 + c * z^2 + d * z + e = 0\n",
    "\n",
    "    a = t_p #+ (1 / 9.0) * t_f\n",
    "    b = -np.sqrt(t_f)\n",
    "    c = 1\n",
    "    d = 0\n",
    "    e = 1 / t_k\n",
    "\n",
    "    coefficients = [a, b, c, d, e]\n",
    "\n",
    "    roots = np.roots(coefficients)\n",
    "    print(\"roots: \" + str(roots))\n",
    "\n",
    "    term1 = (1/m) * sum(\n",
    "        (roots[i] ** 3 * scipy.special.erfcx(roots[i] * np.sqrt(t))) /\n",
    "        (np.prod([roots[i] - roots[j] for j in range(len(roots)) if i != j])) for i in range(len(roots))\n",
    "    )\n",
    "    big_a = np.real(term1)\n",
    "    term2 = (1/m) * sum(\n",
    "        (z * scipy.special.erfcx(z * np.sqrt(t))) /\n",
    "        (np.prod([z - z_j for z_j in roots if z != z_j])) for z in roots)\n",
    "    big_b = np.real(term2)\n",
    "    az = (1/m) * sum(\n",
    "        (z ** 3  * scipy.special.erfcx(z * np.sqrt(1e-20))) /\n",
    "        (np.prod([z - z_j for z_j in roots if z != z_j])) for z in roots\n",
    "    )\n",
    "    a_zero = np.real(az)\n",
    "    bz = (1/m) * sum(\n",
    "        (z* scipy.special.erfcx(z * np.sqrt(1e-20))) /\n",
    "        (np.prod([z - z_j for z_j in roots if z != z_j])) for z in roots)\n",
    "    b_zero = np.real(bz)\n",
    "\n",
    "    vacf = constants.k * temp * (big_a - m*a_zero*big_a - K*b_zero*big_b)\n",
    "    return vacf\n"
   ],
   "outputs": [],
   "execution_count": 25
  },
  {
   "metadata": {
    "ExecuteTime": {
     "end_time": "2025-04-02T20:03:00.579294Z",
     "start_time": "2025-04-02T20:03:00.573973Z"
    }
   },
   "cell_type": "code",
   "source": [
    "# POLYNOMIAL ROOTS\n",
    "def compute_roots(m, K, r):\n",
    "    t_k = (6 * math.pi * r * eta) / K\n",
    "    t_f = (rho_f * r ** 2) / eta\n",
    "    t_p = m / (6 * math.pi * r * eta)\n",
    "\n",
    "    a = t_p\n",
    "    b = -np.sqrt(t_f)\n",
    "    c = 1\n",
    "    d = 0\n",
    "    e = 1 / t_k\n",
    "\n",
    "    coeffs = [a, b, c, d, e]\n",
    "    return np.roots(coeffs)\n",
    "\n",
    "# VACF WHEN V0=0\n",
    "def VACF_for_integral(t1, t2, m, K, roots):\n",
    "    tau = np.abs(t2 - t1)\n",
    "    a_diff = (1/m) * sum(\n",
    "        (z**3 * scipy.special.erfcx(z * np.sqrt(tau))) /\n",
    "        (np.prod([z - z_j for z_j in roots if z != z_j])) for z in roots)\n",
    "\n",
    "    a1 = (1/m) * sum(\n",
    "        (z**3 * scipy.special.erfcx(z * np.sqrt(t1))) /\n",
    "        (np.prod([z - z_j for z_j in roots if z != z_j])) for z in roots)\n",
    "\n",
    "    a2 = (1/m) * sum(\n",
    "        (z**3 * scipy.special.erfcx(z * np.sqrt(t2))) /\n",
    "        (np.prod([z - z_j for z_j in roots if z != z_j])) for z in roots)\n",
    "\n",
    "    b1 = (1/m) * sum(\n",
    "        (z * scipy.special.erfcx(z * np.sqrt(t1))) /\n",
    "        (np.prod([z - z_j for z_j in roots if z != z_j])) for z in roots)\n",
    "\n",
    "    b2 = (1/m) * sum(\n",
    "        (z * scipy.special.erfcx(z * np.sqrt(t2))) /\n",
    "        (np.prod([z - z_j for z_j in roots if z != z_j])) for z in roots)\n",
    "\n",
    "    r_term = constants.k * temp * (np.real(a_diff) - m*np.real(a1)*np.real(a2) - K*np.real(b1)*np.real(b2))\n",
    "    return r_term\n",
    "\n",
    "# DOUBLE INTEGRAL FUNCTIONS\n",
    "def integrate_t2(t1, t, m, K, roots):\n",
    "    return scipy.integrate.quad(lambda t2: VACF_for_integral(t1, t2, m, K, roots), 0, t, epsabs=1e-14, epsrel=1e-14)[0]\n",
    "\n",
    "def compute_x_squared(t, m, K, roots):\n",
    "    return scipy.integrate.quad(lambda t1: integrate_t2(t1, t, m, K, roots), 0, t, epsabs=1e-14, epsrel=1e-14)[0]\n"
   ],
   "id": "fe7063c974b2c39",
   "outputs": [],
   "execution_count": 26
  },
  {
   "metadata": {
    "ExecuteTime": {
     "end_time": "2025-04-02T20:03:00.587552Z",
     "start_time": "2025-04-02T20:03:00.584132Z"
    }
   },
   "cell_type": "code",
   "source": [
    "# NUMERICAL APPROX FOR (g*s^(1/2))/(a*s^(3/2) + b*s^2 + c*s + d)\n",
    "def numerical_laplace_term3(t_, v0):\n",
    "    mp.dps = 30  # number of decimal places\n",
    "    \n",
    "    pre_factor = (6*math.pi*r**2*math.sqrt(rho_f*eta)) * v0\n",
    "    \n",
    "    a = 6*math.pi*r**2*math.sqrt(rho_f*eta)\n",
    "    b = m\n",
    "    c = 6*math.pi*r*eta\n",
    "    d = K\n",
    "    g = 1\n",
    "    \n",
    "    def F(s):\n",
    "        return g * mp.sqrt(s) / (a*s**(3/2) + b*s**2 + c*s + d)\n",
    "    \n",
    "    return pre_factor*np.array(float(mp.invertlaplace(F, t_, method='talbot')) )\n",
    "\n",
    "def analytic_laplace_term3(t_, v0):\n",
    "    pre_factor = (6*math.pi*r**2*math.sqrt(rho_f*eta)) * v0\n",
    "    a = 6*math.pi*r**2*math.sqrt(rho_f*eta)\n",
    "    b = m\n",
    "    c = 6*math.pi*r*eta\n",
    "    d = K\n",
    "    \n",
    "    term1 = -a**2*scipy.special.erfcx(a*np.sqrt(t_))/((a-b)*(a-c)*(a-d))\n",
    "    term2 = b**2*scipy.special.erfcx(b*np.sqrt(t_))/(a-b)\n",
    "    term3 = c**2*(d-b)*scipy.special.erfcx(c*np.sqrt(t_))/(a-c)\n",
    "    term4 = d**2*(b-c)*scipy.special.erfcx(d*np.sqrt(t_))/(a-d)\n",
    "    term5 = (term3+term4)/(c-d)\n",
    "    term6 = (term2+term5)/((b-c)*(b-d))\n",
    "    return pre_factor*(term1 + term6)\n",
    "    \n",
    "    "
   ],
   "id": "7f09df8adf74460d",
   "outputs": [],
   "execution_count": 27
  },
  {
   "metadata": {
    "ExecuteTime": {
     "end_time": "2025-04-02T20:03:00.619001Z",
     "start_time": "2025-04-02T20:03:00.613046Z"
    }
   },
   "cell_type": "code",
   "source": [
    "# VACF FOR VARIABLE INITIAL VELOCITY\n",
    "def VACF_for_var_init_integral_numerical(t1, t2, m, K, roots, v0=np.sqrt(constants.k*temp/m)):\n",
    "    tau = np.abs(t2 - t1)\n",
    "    a_diff = (1/m) * sum(\n",
    "        (z**3 * scipy.special.erfcx(z * np.sqrt(tau))) /\n",
    "        (np.prod([z - z_j for z_j in roots if z != z_j])) for z in roots)\n",
    "\n",
    "    a1 = (1/m) * sum(\n",
    "        (z**3 * scipy.special.erfcx(z * np.sqrt(t1))) /\n",
    "        (np.prod([z - z_j for z_j in roots if z != z_j])) for z in roots)\n",
    "\n",
    "    a2 = (1/m) * sum(\n",
    "        (z**3 * scipy.special.erfcx(z * np.sqrt(t2))) /\n",
    "        (np.prod([z - z_j for z_j in roots if z != z_j])) for z in roots)\n",
    "\n",
    "    b1 = (1/m) * sum(\n",
    "        (z * scipy.special.erfcx(z * np.sqrt(t1))) /\n",
    "        (np.prod([z - z_j for z_j in roots if z != z_j])) for z in roots)\n",
    "\n",
    "    b2 = (1/m) * sum(\n",
    "        (z * scipy.special.erfcx(z * np.sqrt(t2))) /\n",
    "        (np.prod([z - z_j for z_j in roots if z != z_j])) for z in roots)\n",
    "\n",
    "    r_term = constants.k * temp * (np.real(a_diff) - m*np.real(a1)*np.real(a2) - K*np.real(b1)*np.real(b2))\n",
    "    # return r_term\n",
    "    inertial_init_term = v0**2 * m**2 * np.real(a1) * np.real(a2)\n",
    "    numerical_term = numerical_laplace_term3(t1, v0) * numerical_laplace_term3(t2, v0)\n",
    "    return r_term + inertial_init_term + numerical_term\n",
    "\n",
    "def VACF_for_var_init_integral_analytical(t1, t2, m, K, roots, v0=np.sqrt(constants.k*temp/m)):\n",
    "    tau = np.abs(t2 - t1)\n",
    "    a_diff = (1/m) * sum(\n",
    "        (z**3 * scipy.special.erfcx(z * np.sqrt(tau))) /\n",
    "        (np.prod([z - z_j for z_j in roots if z != z_j])) for z in roots)\n",
    "\n",
    "    a1 = (1/m) * sum(\n",
    "        (z**3 * scipy.special.erfcx(z * np.sqrt(t1))) /\n",
    "        (np.prod([z - z_j for z_j in roots if z != z_j])) for z in roots)\n",
    "\n",
    "    a2 = (1/m) * sum(\n",
    "        (z**3 * scipy.special.erfcx(z * np.sqrt(t2))) /\n",
    "        (np.prod([z - z_j for z_j in roots if z != z_j])) for z in roots)\n",
    "\n",
    "    b1 = (1/m) * sum(\n",
    "        (z * scipy.special.erfcx(z * np.sqrt(t1))) /\n",
    "        (np.prod([z - z_j for z_j in roots if z != z_j])) for z in roots)\n",
    "\n",
    "    b2 = (1/m) * sum(\n",
    "        (z * scipy.special.erfcx(z * np.sqrt(t2))) /\n",
    "        (np.prod([z - z_j for z_j in roots if z != z_j])) for z in roots)\n",
    "\n",
    "    r_term = constants.k * temp * (np.real(a_diff) - m*np.real(a1)*np.real(a2) - K*np.real(b1)*np.real(b2))\n",
    "    # return r_term\n",
    "    inertial_init_term = v0**2 * m**2 * np.real(a1) * np.real(a2)\n",
    "    numerical_term = analytic_laplace_term3(t1, v0) * analytic_laplace_term3(t2, v0)\n",
    "    return r_term + inertial_init_term + numerical_term\n",
    "\n",
    "def integrate_t2_var_n(t1, t, m, K, roots, v0):\n",
    "    return scipy.integrate.quad(lambda t2: VACF_for_var_init_integral_numerical(t1, t2, m, K, roots, v0), 0, t, epsabs=1e-14, epsrel=1e-14)[0]\n",
    "\n",
    "def compute_x_squared_var_n(t, m, K, roots, v0):\n",
    "    return scipy.integrate.quad(lambda t1: integrate_t2_var_n(t1, t, m, K, roots, v0), 0, t, epsabs=1e-14, epsrel=1e-14)[0]\n",
    "\n",
    "\n",
    "def integrate_t2_var_a(t1, t, m, K, roots, v0):\n",
    "    return scipy.integrate.quad(lambda t2: VACF_for_var_init_integral_analytical(t1, t2, m, K, roots, v0), 0, t, epsabs=1e-14, epsrel=1e-14)[0]\n",
    "\n",
    "def compute_x_squared_var_a(t, m, K, roots, v0):\n",
    "    return scipy.integrate.quad(lambda t1: integrate_t2_var_a(t1, t, m, K, roots, v0), 0, t, epsabs=1e-14, epsrel=1e-14)[0]\n",
    "    "
   ],
   "id": "67ce7bf75868e0cd",
   "outputs": [],
   "execution_count": 28
  },
  {
   "metadata": {
    "ExecuteTime": {
     "end_time": "2025-04-02T20:03:03.312012Z",
     "start_time": "2025-04-02T20:03:00.623762Z"
    }
   },
   "cell_type": "code",
   "source": [
    "times = np.logspace(-7, -3, 6)\n",
    "roots = compute_roots(m, K, r)\n",
    "\n",
    "# EQ MSD\n",
    "basset_msd = hydro_msd(times)\n",
    "\n",
    "# V0 = 0 MSD\n",
    "init_zero_msd = []\n",
    "\n",
    "for t in times:\n",
    "    print(f\"t = {t:.2e}\")\n",
    "    val = compute_x_squared(t, m, K, roots)\n",
    "    init_zero_msd.append(val)"
   ],
   "id": "29bfb042a2456e53",
   "outputs": [
    {
     "name": "stdout",
     "output_type": "stream",
     "text": [
      "8.841941282883075e-06\n",
      "t = 1.00e-07\n",
      "t = 6.31e-07\n",
      "t = 3.98e-06\n",
      "t = 2.51e-05\n",
      "t = 1.58e-04\n",
      "t = 1.00e-03\n"
     ]
    }
   ],
   "execution_count": 29
  },
  {
   "metadata": {
    "ExecuteTime": {
     "end_time": "2025-04-02T20:05:46.558498Z",
     "start_time": "2025-04-02T20:03:03.317049Z"
    }
   },
   "cell_type": "code",
   "source": [
    "# VARIABLE V0 HYDRO MSD\n",
    "\n",
    "# Set v0\n",
    "v0 = 0\n",
    "v02 = np.sqrt(constants.k*temp/m)\n",
    "v03 = np.sqrt(constants.k*temp/m)/3\n",
    "\n",
    "init_var_hydro_msd = []\n",
    "\n",
    "for t in times:\n",
    "    print(f\"t = {t:.2e}\")\n",
    "    val2 = compute_x_squared_var_a(t, m, K, roots, v0)\n",
    "    init_var_hydro_msd.append(val2)\n",
    "    \n",
    "\n",
    "init_var_hydro_msd2 = []\n",
    "\n",
    "for t in times:\n",
    "    print(f\"t = {t:.2e}\")\n",
    "    val2 = compute_x_squared_var_a(t, m, K, roots, v02)\n",
    "    init_var_hydro_msd2.append(val2)\n",
    "    \n",
    "    \n",
    "# init_var_hydro_msd3 = []\n",
    "# \n",
    "# for t in times:\n",
    "#     print(f\"t = {t:.2e}\")\n",
    "#     val2 = compute_x_squared_var_n(t, m, K, roots, v03)\n",
    "#     init_var_hydro_msd3.append(val2)\n",
    "    \n",
    "init_var_hydro_msd4 = []\n",
    "\n",
    "for t in times:\n",
    "    print(f\"t = {t:.2e}\")\n",
    "    val2 = compute_x_squared_var_a(t, m, K, roots, v03)\n",
    "    init_var_hydro_msd4.append(val2)"
   ],
   "id": "5c184f6e5e4ac7a6",
   "outputs": [
    {
     "name": "stdout",
     "output_type": "stream",
     "text": [
      "t = 1.00e-07\n",
      "t = 6.31e-07\n",
      "t = 3.98e-06\n",
      "t = 2.51e-05\n",
      "t = 1.58e-04\n",
      "t = 1.00e-03\n",
      "t = 1.00e-07\n",
      "t = 6.31e-07\n",
      "t = 3.98e-06\n",
      "t = 2.51e-05\n",
      "t = 1.58e-04\n",
      "t = 1.00e-03\n",
      "t = 1.00e-07\n",
      "t = 6.31e-07\n",
      "t = 3.98e-06\n",
      "t = 2.51e-05\n",
      "t = 1.58e-04\n",
      "t = 1.00e-03\n",
      "t = 1.00e-07\n",
      "t = 6.31e-07\n",
      "t = 3.98e-06\n",
      "t = 2.51e-05\n",
      "t = 1.58e-04\n",
      "t = 1.00e-03\n"
     ]
    }
   ],
   "execution_count": 30
  },
  {
   "metadata": {
    "ExecuteTime": {
     "end_time": "2025-04-02T20:05:46.801939Z",
     "start_time": "2025-04-02T20:05:46.563386Z"
    }
   },
   "cell_type": "code",
   "source": [
    "#PLOT MSDS\n",
    "plt.plot(times[:30], basset_msd[:30], linestyle='dashdot', label=\"Equilibrium Basset\")\n",
    "plt.scatter(times[:30], init_zero_msd[:30], label=\"init zero MSD\")\n",
    "plt.plot(times, init_var_hydro_msd, label=\"Initial var MSD\")\n",
    "plt.plot(times, init_var_hydro_msd2, label=\"Initial var MSD2\")\n",
    "plt.plot(times, init_var_hydro_msd3, label=\"Initial var MSD N\")\n",
    "plt.scatter(times, init_var_hydro_msd4, label=\"Initial var MSD A\")\n",
    "plt.xscale(\"log\")\n",
    "plt.yscale(\"log\")\n",
    "plt.legend()"
   ],
   "id": "aa0a63bcdf323664",
   "outputs": [
    {
     "data": {
      "text/plain": [
       "<matplotlib.legend.Legend at 0x1f6af539950>"
      ]
     },
     "execution_count": 31,
     "metadata": {},
     "output_type": "execute_result"
    },
    {
     "data": {
      "text/plain": [
       "<Figure size 640x480 with 1 Axes>"
      ],
      "image/png": "[encoded data removed]"
     },
     "metadata": {},
     "output_type": "display_data"
    }
   ],
   "execution_count": 31
  },
  {
   "metadata": {
    "ExecuteTime": {
     "end_time": "2025-04-02T20:05:46.953317Z",
     "start_time": "2025-04-02T20:05:46.806944Z"
    }
   },
   "cell_type": "code",
   "source": [
    "# Calculate VACF\n",
    "vacf_z = VACF_init_conditions_hydro(times, m, K, r)\n",
    "vacf_z2 = []\n",
    "vacf_var1 = []\n",
    "vacf_var2 = []\n",
    "\n",
    "for t in times:\n",
    "    z2 = VACF_for_integral(1e-20, t, m, K, roots)\n",
    "    var1 = VACF_for_var_init_integral_analytical(1e-20, t, m, K, roots, v0=(np.sqrt(scipy.constants.k*temp/m))/100)\n",
    "    vacf_var1.append(var1)\n",
    "    var2 = VACF_for_var_init_integral_analytical(1e-20, t, m, K, roots, v0=(np.sqrt(scipy.constants.k*temp/m))/2)\n",
    "    vacf_var2.append(var2)\n",
    "    vacf_z2.append(z2)\n",
    "    \n",
    "# PLOT VACFs\n",
    "\n",
    "plt.plot(times, vacf_z, label=\"1\")\n",
    "plt.scatter(times, vacf_z2, label=\"2\")\n",
    "plt.scatter(times, vacf_var1, label=\"var\")\n",
    "\n",
    "plt.scatter(times, vacf_var2, label=\"var2\")\n",
    "plt.title('VACF')\n",
    "plt.xscale('log')\n",
    "plt.yscale('log')\n",
    "plt.legend()\n",
    "plt.show()"
   ],
   "id": "a67bbde8d4c39d4e",
   "outputs": [
    {
     "name": "stdout",
     "output_type": "stream",
     "text": [
      "roots: [ 1.41958228e+02+304.8608164j   1.41958228e+02-304.8608164j\n",
      " -2.21985614e-02  +4.20525672j -2.21985614e-02  -4.20525672j]\n"
     ]
    },
    {
     "data": {
      "text/plain": [
       "<Figure size 640x480 with 1 Axes>"
      ],
      "image/png": "[encoded data removed]"
     },
     "metadata": {},
     "output_type": "display_data"
    }
   ],
   "execution_count": 32
  },
  {
   "metadata": {
    "ExecuteTime": {
     "end_time": "2025-04-02T20:05:46.959582Z",
     "start_time": "2025-04-02T20:05:46.958182Z"
    }
   },
   "cell_type": "code",
   "source": "",
   "id": "e4480cfc9ad082eb",
   "outputs": [],
   "execution_count": null
  },
  {
   "metadata": {
    "ExecuteTime": {
     "end_time": "2025-04-02T20:05:46.967966Z",
     "start_time": "2025-04-02T20:05:46.966096Z"
    }
   },
   "cell_type": "code",
   "source": "",
   "id": "9fcb2a66c9f66822",
   "outputs": [],
   "execution_count": null
  }
 ],
 "metadata": {
  "kernelspec": {
   "display_name": "Python 3",
   "language": "python",
   "name": "python3"
  },
  "language_info": {
   "codemirror_mode": {
    "name": "ipython",
    "version": 2
   },
   "file_extension": ".py",
   "mimetype": "text/x-python",
   "name": "python",
   "nbconvert_exporter": "python",
   "pygments_lexer": "ipython2",
   "version": "2.7.6"
  }
 },
 "nbformat": 4,
 "nbformat_minor": 5
}
