{
 "cells": [
  {
   "metadata": {},
   "cell_type": "raw",
   "source": "",
   "id": "8b9bdd998b703a1c"
  },
  {
   "metadata": {
    "ExecuteTime": {
     "end_time": "2025-03-23T23:27:06.264628Z",
     "start_time": "2025-03-23T23:27:04.140735Z"
    }
   },
   "cell_type": "code",
   "source": [
    "import numpy as np\n",
    "import matplotlib.pyplot as plt\n",
    "from tqdm import tqdm\n",
    "import scipy\n",
    "import pandas as pd"
   ],
   "id": "441f2aa9fd11149f",
   "outputs": [],
   "execution_count": 1
  },
  {
   "metadata": {
    "ExecuteTime": {
     "end_time": "2025-03-23T19:26:16.642056Z",
     "start_time": "2025-03-23T19:26:16.632555Z"
    }
   },
   "cell_type": "code",
   "source": [
    "# SHARED\n",
    "_k_b = scipy.constants.k\n",
    "_rho = 4400\n",
    "_rho_f = 790\n",
    "_r = 2.738*10**-6\n",
    "_m = 4/3 *np.pi *_r**3*_rho\n",
    "_temp = 293\n",
    "_viscous = 0.36e-3\n",
    "_v_force = 6*np.pi*_r*_viscous\n",
    "\n",
    "_K = 9.384e-5 # Need to adjust"
   ],
   "id": "4327fd68d6c63efd",
   "outputs": [],
   "execution_count": 2
  },
  {
   "metadata": {
    "ExecuteTime": {
     "end_time": "2025-03-23T20:41:38.765911Z",
     "start_time": "2025-03-23T20:41:38.751876Z"
    }
   },
   "cell_type": "code",
   "source": [
    "# Calculate the average MSD\n",
    "def compute_msd(time_trace, dt):\n",
    "    n = len(time_trace)\n",
    "    msd = np.zeros(n)  # Allocate array for MSD\n",
    "    lag_times = np.arange(n) * dt  # Calculate lag times\n",
    "\n",
    "    for tau in tqdm(range(n)):\n",
    "        displacements = time_trace[tau:] - time_trace[:n - tau]\n",
    "        msd[tau] = np.mean(displacements**2)\n",
    "\n",
    "    return msd, lag_times\n",
    "\n",
    "# Calculate the zero init MSD\n",
    "def compute_init_msd(time_trace, dt):\n",
    "\n",
    "    n = len(time_trace)\n",
    "    lag_times = np.arange(n) * dt  # Calculate lag times\n",
    "\n",
    "    msd = [(time_trace[0]-time_trace[i])**2 for i in range(n)]\n",
    "    return msd, lag_times\n"
   ],
   "id": "48344925a2de7b07",
   "outputs": [],
   "execution_count": 22
  },
  {
   "cell_type": "code",
   "id": "initial_id",
   "metadata": {
    "collapsed": true,
    "ExecuteTime": {
     "end_time": "2025-03-23T19:26:22.543046Z",
     "start_time": "2025-03-23T19:26:22.523058Z"
    }
   },
   "source": [
    "# ANALYTICAL FUNCTIONS\n",
    "\n",
    "# GENERAL WHITE NOISE\n",
    "def msd_wn(t):\n",
    "    tau = _m / _v_force\n",
    "    omega_0 = np.sqrt(_K / _m)\n",
    "    omega_1 = np.sqrt(1/(4*tau**2) - omega_0**2)\n",
    "    return (2*_k_b*_temp/_K)*(1-np.exp(-t/(2*tau))*(np.cosh(omega_1*t)+(1/(2*omega_1*tau))*np.sinh(omega_1*t)))\n",
    "\n",
    "# INITIALLY ZERO WHITE NOISE\n",
    "def just_noise(t):\n",
    "\n",
    "    tau = _m / _v_force\n",
    "    omega_0 = np.sqrt(_K / _m)\n",
    "    omega_1 = np.sqrt(1/(4*tau**2) - omega_0**2)\n",
    "    numerator = tau*np.exp(-1*t / tau)*(-1-4*tau**2*(-1 + np.exp(t/tau))*omega_1**2 + np.cosh(2*t*omega_1)+2*tau*omega_1*np.sinh(2*t*omega_1))\n",
    "    denominator = -2 + 8*tau**2*omega_1**2#-1*8*tau**2*omega_0**2\n",
    "    final_scale = 12*np.pi*_r*_viscous*_k_b*_temp / _m**2 / omega_1**2\n",
    "    return (numerator / denominator) * final_scale\n",
    "\n",
    "# INITIAL SET VARIANCE WHITE NOISE\n",
    "def known_initial_v_0(t, tol_percent):\n",
    "\n",
    "    tau = _m / _v_force\n",
    "\n",
    "    #Defines important auxillary variables\n",
    "\n",
    "    omega_0 = np.sqrt(_K / _m)\n",
    "    omega_1 = np.sqrt(1/(4*tau**2) - omega_0**2)\n",
    "    T = omega_1*t\n",
    "\n",
    "    #Gets contribution from the thermal white noise\n",
    "    gamma = just_noise(t)\n",
    "\n",
    "    #Gets contribution from initial position variation\n",
    "    # hyp_factors = np.exp(-1*t/tau)*(np.cosh(T)**2 + 1/(4*(omega_1*tau)**2)*np.sinh(T)**2 + 1/(omega_1*tau)*np.cosh(T)*np.sinh(T)) - np.exp(-1*t/(2*tau))*(2*np.cosh(T) - 1/(2*omega_1*tau)*np.sinh(T))\n",
    "    hyp_factors = (1 - np.exp(-t/(2*tau))*(np.cosh(omega_1*t) + np.sinh(omega_1*t)/(2*omega_1*tau)))**2\n",
    "\n",
    "    #alpha easier to type than tol_percent\n",
    "    alpha = tol_percent\n",
    "\n",
    "    #Gets the second moment of the velocity assuming a probabiity distribution of\n",
    "    #a Gaussian cut off on its wings by some fraction of its standard deviation (alpha/tol_percent)\n",
    "    updated_sigma = 1 - alpha*np.exp(-alpha**2/2)*np.sqrt(2/np.pi)/scipy.special.erf(alpha/np.sqrt(2))\n",
    "\n",
    "    #Calculates the contribution from the intitial velocity spread\n",
    "    velo = np.exp(-1*t/tau) / omega_1**2 * np.sinh(omega_1*t)**2 *_k_b*_temp / _m * updated_sigma\n",
    "\n",
    "    #Puts the pieces together\n",
    "    return _k_b*_temp / _K * ( hyp_factors) + gamma + velo\n",
    "\n",
    "# HYDRODYNAMIC GENERAL CASE\n",
    "def hydro_msd(t):\n",
    "    trap_const = _K\n",
    "    use_mass = _m\n",
    "    m_f = 2 / 3 * np.pi * _r ** 3 * 1000\n",
    "    t_k = (6 * np.pi * _r * _viscous) / _K\n",
    "    t_f = (_rho_f * _r ** 2) / _viscous\n",
    "    t_p = _m / (6 * np.pi * _r * _viscous)\n",
    "    print(t_p)\n",
    "    # find roots\n",
    "    # a * z^4 + b * z^3 + c * z^2 + d * z + e = 0\n",
    "    a_ = t_p\n",
    "    b = -1 * np.sqrt(t_f)\n",
    "    c = 1\n",
    "    d = 0\n",
    "    e = 1 / t_k\n",
    "\n",
    "    # Coefficients array for the polynomial equation\n",
    "    coefficients = [a_, b, c, d, e]\n",
    "\n",
    "    # Find the roots\n",
    "    roots = np.roots(coefficients)\n",
    "\n",
    "    # I need to learn how to vectorize my code better\n",
    "    term_1 = scipy.special.erfcx(roots[0] * np.sqrt(t)) / (\n",
    "                roots[0] * (roots[0] - roots[1]) * (roots[0] - roots[2]) * (roots[0] - roots[3]))\n",
    "    term_2 = scipy.special.erfcx(roots[1] * np.sqrt(t)) / (\n",
    "                roots[1] * (roots[1] - roots[0]) * (roots[1] - roots[2]) * (roots[1] - roots[3]))\n",
    "    term_3 = scipy.special.erfcx(roots[2] * np.sqrt(t)) / (\n",
    "                roots[2] * (roots[2] - roots[1]) * (roots[2] - roots[0]) * (roots[2] - roots[3]))\n",
    "    term_4 = scipy.special.erfcx(roots[3] * np.sqrt(t)) / (\n",
    "                roots[3] * (roots[3] - roots[1]) * (roots[3] - roots[2]) * (roots[3] - roots[0]))\n",
    "\n",
    "    D = _k_b * _temp / (6 * np.pi * _viscous * _r)\n",
    "    # Returns theoretical MSD\n",
    "    return np.real(2 * _k_b * _temp / trap_const + 2 * _k_b * _temp / (use_mass) * (\n",
    "                term_1 + term_2 + term_3 + term_4))"
   ],
   "outputs": [],
   "execution_count": 4
  },
  {
   "metadata": {
    "ExecuteTime": {
     "end_time": "2025-03-23T19:55:20.025483Z",
     "start_time": "2025-03-23T19:26:23.813029Z"
    }
   },
   "cell_type": "code",
   "source": [
    "# SIMULATIONS\n",
    "\n",
    "chunksize = 10 ** 6  # Adjust chunk size based on your memory availability\n",
    "chunks = []\n",
    "\n",
    "for chunk in pd.read_csv(r'C:\\Users\\mcthu\\PycharmProjects\\MarkovianEmbedding\\position_velocity_data.csv', chunksize=chunksize, low_memory=False):\n",
    "    # process each chunk individually or filter/aggregate it\n",
    "    chunks.append(chunk)\n",
    "\n",
    "df = pd.concat(chunks, ignore_index=True)\n",
    "\n",
    "# Extract only the columns that start with 'Position' or 'Velocity'\n",
    "position_cols = [col for col in df.columns if col.startswith('Position')]\n",
    "velocity_cols = [col for col in df.columns if col.startswith('Velocity')]\n",
    "\n",
    "timestep_sim = df['real_timestep_s'].values[0]\n",
    "\n",
    "positions_sim = np.array([df[col].astype(float).values for col in position_cols])\n",
    "velocities_sim = np.array([df[col].astype(float).values for col in velocity_cols])\n",
    "\n",
    "# Optionally, convert to numpy arrays with shape (num_traces, num_points)\n",
    "# positions_sim = np.array(positions_sim)\n",
    "# velocities_sim = np.array(velocities_sim)\n",
    "\n",
    "# Print the shapes to verify\n",
    "print(f\"Positions shape: {positions_sim.shape}\")\n",
    "print(f\"Velocities shape: {velocities_sim.shape}\")\n",
    "\n",
    "bin_num_sim = 100\n",
    "fs_sim = 1/(timestep_sim * bin_num_sim)\n",
    "\n",
    "def bin_data(series, bin_size):\n",
    "    # Ensuring the length of series is divisible by bin_size\n",
    "    length = len(series) - len(series) % bin_size\n",
    "    series = np.array(series[:length])\n",
    "    return np.mean(series.reshape(-1, bin_size), axis=1)\n",
    "\n",
    "traces_sim = []\n",
    "for trace in positions_sim:\n",
    "    series = bin_data(trace, bin_num_sim)\n",
    "    traces_sim.append(series)\n",
    "\n",
    "v_traces_sim = []\n",
    "for trace in velocities_sim:\n",
    "    series = bin_data(trace, bin_num_sim)\n",
    "    v_traces_sim.append(series)\n",
    "\n",
    "\n",
    "# GET THE EQ MSD\n",
    "all_msd_sim = []\n",
    "lag_times_sim = 0\n",
    "for series in traces_sim:\n",
    "    msd, lag_times_sim = compute_msd(series, timestep_sim*bin_num_sim)\n",
    "    all_msd_sim.append(msd)\n",
    "\n",
    "eq_msd_sim = np.mean(all_msd_sim, axis=0)\n",
    "\n"
   ],
   "id": "157b9ee36d161564",
   "outputs": [
    {
     "name": "stdout",
     "output_type": "stream",
     "text": [
      "Positions shape: (1, 45469480)\n",
      "Velocities shape: (1, 45469480)\n"
     ]
    },
    {
     "name": "stderr",
     "output_type": "stream",
     "text": [
      "100%|██████████| 454694/454694 [27:40<00:00, 273.89it/s]  \n"
     ]
    }
   ],
   "execution_count": 5
  },
  {
   "metadata": {
    "ExecuteTime": {
     "end_time": "2025-03-23T22:40:35.095541Z",
     "start_time": "2025-03-23T22:37:28.049749Z"
    }
   },
   "cell_type": "code",
   "source": [
    "# SIM PART 2\n",
    "\n",
    "# GET THE VAR INT MSD\n",
    "# CONDITIONING (Find spots where velocity is zero)\n",
    "tol =.3\n",
    "\n",
    "all_init_msd_sim = []\n",
    "init_lag_times_sim = 0\n",
    "init_len = int(len(traces_sim[0])/2)\n",
    "\n",
    "for i in range(len(traces_sim)):\n",
    "    zero_idxs_sim = []\n",
    "    v_tolerance = (tol * np.std(v_traces_sim[i]))\n",
    "    p_tolerance = (tol * np.std(traces_sim[i]))\n",
    "    v_indices = np.where(abs(v_traces_sim[i]) < v_tolerance)[0]\n",
    "    print(\"v idx sim: \" + str(len(v_indices)))\n",
    "    p_indices = np.where(abs(traces_sim[i]) < p_tolerance)[0]\n",
    "    print(\"p idx sim: \" + str(len(p_indices)))\n",
    "\n",
    "    # Add the idx that appear in both arrays\n",
    "    for idx in v_indices:\n",
    "        if idx in p_indices:\n",
    "            if idx + init_len < len(traces_sim[i]):\n",
    "                zero_idxs_sim.append(idx)\n",
    "\n",
    "    print(\"total idx sim: \" + str(len(zero_idxs_sim)))\n",
    "\n",
    "    for idx in zero_idxs_sim:\n",
    "        msd, init_lag_times_sim = compute_init_msd(traces_sim[i][idx:idx+init_len], timestep_sim*bin_num_sim)\n",
    "        all_init_msd_sim.append(msd)\n",
    "\n",
    "init_msd_sim = np.mean(all_init_msd_sim, axis=0)"
   ],
   "id": "8a3a943236681b64",
   "outputs": [
    {
     "name": "stdout",
     "output_type": "stream",
     "text": [
      "v idx sim: 107069\n",
      "p idx sim: 102780\n",
      "total idx sim: 12474\n"
     ]
    },
    {
     "ename": "MemoryError",
     "evalue": "",
     "output_type": "error",
     "traceback": [
      "\u001B[1;31m---------------------------------------------------------------------------\u001B[0m",
      "\u001B[1;31mMemoryError\u001B[0m                               Traceback (most recent call last)",
      "Cell \u001B[1;32mIn[47], line 29\u001B[0m\n\u001B[0;32m     26\u001B[0m     \u001B[38;5;28mprint\u001B[39m(\u001B[38;5;124m\"\u001B[39m\u001B[38;5;124mtotal idx sim: \u001B[39m\u001B[38;5;124m\"\u001B[39m \u001B[38;5;241m+\u001B[39m \u001B[38;5;28mstr\u001B[39m(\u001B[38;5;28mlen\u001B[39m(zero_idxs_sim)))\n\u001B[0;32m     28\u001B[0m     \u001B[38;5;28;01mfor\u001B[39;00m idx \u001B[38;5;129;01min\u001B[39;00m zero_idxs_sim:\n\u001B[1;32m---> 29\u001B[0m         msd, init_lag_times_sim \u001B[38;5;241m=\u001B[39m compute_init_msd(traces_sim[i][idx:idx\u001B[38;5;241m+\u001B[39minit_len], timestep_sim\u001B[38;5;241m*\u001B[39mbin_num_sim)\n\u001B[0;32m     30\u001B[0m         all_init_msd_sim\u001B[38;5;241m.\u001B[39mappend(msd)\n\u001B[0;32m     32\u001B[0m init_msd_sim \u001B[38;5;241m=\u001B[39m np\u001B[38;5;241m.\u001B[39mmean(all_init_msd_sim, axis\u001B[38;5;241m=\u001B[39m\u001B[38;5;241m0\u001B[39m)\n",
      "Cell \u001B[1;32mIn[22], line 19\u001B[0m, in \u001B[0;36mcompute_init_msd\u001B[1;34m(time_trace, dt)\u001B[0m\n\u001B[0;32m     16\u001B[0m n \u001B[38;5;241m=\u001B[39m \u001B[38;5;28mlen\u001B[39m(time_trace)\n\u001B[0;32m     17\u001B[0m lag_times \u001B[38;5;241m=\u001B[39m np\u001B[38;5;241m.\u001B[39marange(n) \u001B[38;5;241m*\u001B[39m dt  \u001B[38;5;66;03m# Calculate lag times\u001B[39;00m\n\u001B[1;32m---> 19\u001B[0m msd \u001B[38;5;241m=\u001B[39m [(time_trace[\u001B[38;5;241m0\u001B[39m]\u001B[38;5;241m-\u001B[39mtime_trace[i])\u001B[38;5;241m*\u001B[39m\u001B[38;5;241m*\u001B[39m\u001B[38;5;241m2\u001B[39m \u001B[38;5;28;01mfor\u001B[39;00m i \u001B[38;5;129;01min\u001B[39;00m \u001B[38;5;28mrange\u001B[39m(n)]\n\u001B[0;32m     20\u001B[0m \u001B[38;5;28;01mreturn\u001B[39;00m msd, lag_times\n",
      "\u001B[1;31mMemoryError\u001B[0m: "
     ]
    }
   ],
   "execution_count": 47
  },
  {
   "metadata": {
    "ExecuteTime": {
     "end_time": "2025-03-23T22:51:53.473530Z",
     "start_time": "2025-03-23T22:51:28.162141Z"
    }
   },
   "cell_type": "code",
   "source": [
    "# DATA\n",
    "\n",
    "timestep_data = 0.825E-6\n",
    "\n",
    "\n",
    "chunksize = 10 ** 6  # Adjust chunk size based on your memory availability\n",
    "chunks1 = []\n",
    "\n",
    "for chunk in pd.read_csv(r'C:\\Users\\mcthu\\OneDrive\\Desktop\\Lab Data\\PROCESSED_DATA\\barium_titanate_in_acetone_position.csv', chunksize=chunksize, low_memory=False):\n",
    "    # process each chunk individually or filter/aggregate it\n",
    "    chunks1.append(chunk)\n",
    "\n",
    "data_df_pos_data = pd.concat(chunks1, ignore_index=True)\n",
    "\n",
    "chunks2 = []\n",
    "\n",
    "for chunk in pd.read_csv(r'C:\\Users\\mcthu\\OneDrive\\Desktop\\Lab Data\\PROCESSED_DATA\\barium_titanate_in_acetone_velocity.csv', chunksize=chunksize, low_memory=False):\n",
    "    # process each chunk individually or filter/aggregate it\n",
    "    chunks2.append(chunk)\n",
    "\n",
    "data_df_vel_data = pd.concat(chunks2, ignore_index=True)\n",
    "\n",
    "# Convert DataFrame into a numpy array where each column is an entry\n",
    "traces_data = data_df_pos_data.to_numpy().T  # transpose if you want each col as an entry\n",
    "\n",
    "# Convert DataFrame into a numpy array where each column is an entry\n",
    "v_traces_data = data_df_vel_data.to_numpy().T  # transpose if you want each col as an entry\n",
    "\n",
    "\n",
    "# GET THE EQ MSD\n",
    "all_msd_data = []\n",
    "lag_times_data = 0\n",
    "for series in traces_data:\n",
    "    msd, lag_times_data = compute_msd(series, timestep_data)\n",
    "    all_msd_data.append(msd)\n",
    "\n",
    "eq_msd_data = np.mean(all_msd_data, axis=0)\n"
   ],
   "id": "caa226dac07d2f77",
   "outputs": [
    {
     "name": "stderr",
     "output_type": "stream",
     "text": [
      "100%|██████████| 50840/50840 [00:02<00:00, 24115.70it/s]\n",
      "100%|██████████| 50840/50840 [00:02<00:00, 25062.11it/s]\n",
      "100%|██████████| 50840/50840 [00:02<00:00, 24740.78it/s]\n",
      "100%|██████████| 50840/50840 [00:02<00:00, 23568.99it/s]\n",
      "100%|██████████| 50840/50840 [00:02<00:00, 24413.86it/s]\n",
      "100%|██████████| 50840/50840 [00:02<00:00, 24594.84it/s]\n",
      "100%|██████████| 50840/50840 [00:01<00:00, 25545.90it/s]\n",
      "100%|██████████| 50840/50840 [00:02<00:00, 24952.60it/s]\n",
      "100%|██████████| 50840/50840 [00:02<00:00, 25166.56it/s]\n",
      "100%|██████████| 50840/50840 [00:02<00:00, 24962.28it/s]\n",
      "100%|██████████| 50840/50840 [00:02<00:00, 24539.09it/s]\n",
      "100%|██████████| 50840/50840 [00:02<00:00, 24821.87it/s]\n"
     ]
    }
   ],
   "execution_count": 49
  },
  {
   "metadata": {
    "jupyter": {
     "is_executing": true
    },
    "ExecuteTime": {
     "start_time": "2025-03-23T22:51:57.686648Z"
    }
   },
   "cell_type": "code",
   "source": [
    "# DATA PT 2\n",
    "# SIM PART 2\n",
    "\n",
    "# GET THE VAR INT MSD\n",
    "# CONDITIONING (Find spots where velocity is zero)\n",
    "\n",
    "all_init_msd_data = []\n",
    "init_lag_times_data = 0\n",
    "init_len = int(len(traces_data[0])/2)\n",
    "\n",
    "for i in range(len(traces_data)):\n",
    "    zero_idxs_data = []\n",
    "    v_tolerance = (tol * np.std(v_traces_data[i]))\n",
    "    p_tolerance = (tol * np.std(traces_data[i]))\n",
    "    v_indices = np.where(abs(v_traces_data[i]) < v_tolerance)[0]\n",
    "    print(\"v idx data: \" + str(len(v_indices)))\n",
    "    p_indices = np.where(abs(traces_data[i]) < p_tolerance)[0]\n",
    "    print(\"p idx data: \" + str(len(p_indices)))\n",
    "\n",
    "    # Add the idx that appear in both arrays\n",
    "    for idx in v_indices:\n",
    "        if idx in p_indices:\n",
    "            if idx + init_len < len(traces_data[i]):\n",
    "                zero_idxs_data.append(idx)\n",
    "\n",
    "    print(\"total idx data: \" + str(len(zero_idxs_data)))\n",
    "\n",
    "    for idx in zero_idxs_data:\n",
    "        msd, init_lag_times_data = compute_init_msd(traces_data[i][idx:idx+init_len], timestep_data)\n",
    "        all_init_msd_data.append(msd)\n",
    "\n",
    "init_msd_data = np.mean(all_init_msd_data, axis=0)"
   ],
   "id": "4529c6e7cfb47616",
   "outputs": [
    {
     "name": "stdout",
     "output_type": "stream",
     "text": [
      "v idx data: 14323\n",
      "p idx data: 14323\n",
      "total idx data: 7595\n"
     ]
    }
   ],
   "execution_count": null
  },
  {
   "metadata": {
    "ExecuteTime": {
     "end_time": "2025-03-23T22:41:20.426405Z",
     "start_time": "2025-03-23T22:41:18.780430Z"
    }
   },
   "cell_type": "code",
   "source": [
    "# GRAPHING\n",
    "\n",
    "#  Set times for analytic functions\n",
    "times_analytic = np.logspace(-8, 1, 1000)\n",
    "\n",
    "init_zero_WN_analytic = just_noise(times_analytic)\n",
    "init_var_WN_analytic = known_initial_v_0(times_analytic, tol)\n",
    "WN_EQ_analytic = msd_wn(times_analytic)\n",
    "basset_msd = hydro_msd(times_analytic)\n",
    "\n",
    "# ANALYTIC GRAPHING\n",
    "plt.plot(times_analytic, init_zero_WN_analytic, label=\"Initial Zero White\")\n",
    "plt.plot(times_analytic, init_var_WN_analytic, label=\"Initial Variable Variance White\")\n",
    "plt.plot(times_analytic, WN_EQ_analytic, label=\"Equilibrium Initial Variance White\")\n",
    "plt.plot(times_analytic, basset_msd, label=\"Equilibrium Basset\")\n",
    "\n",
    "# SIMULATION GRAPHING\n",
    "# plt.plot(lag_times_sim[1:], eq_msd_sim[1:], label=\"Equilibrium Basset SIM\")\n",
    "plt.plot(init_lag_times_sim[1:], init_msd_sim[1:], label=\"Initial Variable Basset Variance Basset SIM\")\n",
    "\n",
    "# DATA GRAPHING\n",
    "plt.plot(lag_times_data[1:], eq_msd_data[1:], label=\"Equilibrium Basset DATA\")\n",
    "plt.plot(init_lag_times_data[1:], init_msd_data[1:], label=\"Initial Variable Basset Variance Basset DATA\")\n",
    "\n",
    "# plt.xlim(left=1E-5)\n",
    "# plt.ylim(bottom=1E-18)\n",
    "plt.xscale('log')\n",
    "plt.yscale('log')\n",
    "plt.legend()\n",
    "plt.show()\n"
   ],
   "id": "d91a734a5b977fd2",
   "outputs": [
    {
     "name": "stderr",
     "output_type": "stream",
     "text": [
      "C:\\Users\\mcthu\\AppData\\Local\\Temp\\ipykernel_17552\\2107893332.py:16: RuntimeWarning: overflow encountered in exp\n",
      "  numerator = tau*np.exp(-1*t / tau)*(-1-4*tau**2*(-1 + np.exp(t/tau))*omega_1**2 + np.cosh(2*t*omega_1)+2*tau*omega_1*np.sinh(2*t*omega_1))\n",
      "C:\\Users\\mcthu\\AppData\\Local\\Temp\\ipykernel_17552\\2107893332.py:16: RuntimeWarning: overflow encountered in cosh\n",
      "  numerator = tau*np.exp(-1*t / tau)*(-1-4*tau**2*(-1 + np.exp(t/tau))*omega_1**2 + np.cosh(2*t*omega_1)+2*tau*omega_1*np.sinh(2*t*omega_1))\n",
      "C:\\Users\\mcthu\\AppData\\Local\\Temp\\ipykernel_17552\\2107893332.py:16: RuntimeWarning: invalid value encountered in add\n",
      "  numerator = tau*np.exp(-1*t / tau)*(-1-4*tau**2*(-1 + np.exp(t/tau))*omega_1**2 + np.cosh(2*t*omega_1)+2*tau*omega_1*np.sinh(2*t*omega_1))\n",
      "C:\\Users\\mcthu\\AppData\\Local\\Temp\\ipykernel_17552\\2107893332.py:16: RuntimeWarning: overflow encountered in sinh\n",
      "  numerator = tau*np.exp(-1*t / tau)*(-1-4*tau**2*(-1 + np.exp(t/tau))*omega_1**2 + np.cosh(2*t*omega_1)+2*tau*omega_1*np.sinh(2*t*omega_1))\n",
      "C:\\Users\\mcthu\\AppData\\Local\\Temp\\ipykernel_17552\\2107893332.py:16: RuntimeWarning: invalid value encountered in multiply\n",
      "  numerator = tau*np.exp(-1*t / tau)*(-1-4*tau**2*(-1 + np.exp(t/tau))*omega_1**2 + np.cosh(2*t*omega_1)+2*tau*omega_1*np.sinh(2*t*omega_1))\n",
      "C:\\Users\\mcthu\\AppData\\Local\\Temp\\ipykernel_17552\\2107893332.py:37: RuntimeWarning: overflow encountered in cosh\n",
      "  hyp_factors = (1 - np.exp(-t/(2*tau))*(np.cosh(omega_1*t) + np.sinh(omega_1*t)/(2*omega_1*tau)))**2\n",
      "C:\\Users\\mcthu\\AppData\\Local\\Temp\\ipykernel_17552\\2107893332.py:37: RuntimeWarning: overflow encountered in sinh\n",
      "  hyp_factors = (1 - np.exp(-t/(2*tau))*(np.cosh(omega_1*t) + np.sinh(omega_1*t)/(2*omega_1*tau)))**2\n",
      "C:\\Users\\mcthu\\AppData\\Local\\Temp\\ipykernel_17552\\2107893332.py:37: RuntimeWarning: invalid value encountered in multiply\n",
      "  hyp_factors = (1 - np.exp(-t/(2*tau))*(np.cosh(omega_1*t) + np.sinh(omega_1*t)/(2*omega_1*tau)))**2\n",
      "C:\\Users\\mcthu\\AppData\\Local\\Temp\\ipykernel_17552\\2107893332.py:47: RuntimeWarning: overflow encountered in sinh\n",
      "  velo = np.exp(-1*t/tau) / omega_1**2 * np.sinh(omega_1*t)**2 *_k_b*_temp / _m * updated_sigma\n",
      "C:\\Users\\mcthu\\AppData\\Local\\Temp\\ipykernel_17552\\2107893332.py:47: RuntimeWarning: overflow encountered in square\n",
      "  velo = np.exp(-1*t/tau) / omega_1**2 * np.sinh(omega_1*t)**2 *_k_b*_temp / _m * updated_sigma\n",
      "C:\\Users\\mcthu\\AppData\\Local\\Temp\\ipykernel_17552\\2107893332.py:47: RuntimeWarning: invalid value encountered in multiply\n",
      "  velo = np.exp(-1*t/tau) / omega_1**2 * np.sinh(omega_1*t)**2 *_k_b*_temp / _m * updated_sigma\n",
      "C:\\Users\\mcthu\\AppData\\Local\\Temp\\ipykernel_17552\\2107893332.py:8: RuntimeWarning: overflow encountered in cosh\n",
      "  return (2*_k_b*_temp/_K)*(1-np.exp(-t/(2*tau))*(np.cosh(omega_1*t)+(1/(2*omega_1*tau))*np.sinh(omega_1*t)))\n",
      "C:\\Users\\mcthu\\AppData\\Local\\Temp\\ipykernel_17552\\2107893332.py:8: RuntimeWarning: overflow encountered in sinh\n",
      "  return (2*_k_b*_temp/_K)*(1-np.exp(-t/(2*tau))*(np.cosh(omega_1*t)+(1/(2*omega_1*tau))*np.sinh(omega_1*t)))\n",
      "C:\\Users\\mcthu\\AppData\\Local\\Temp\\ipykernel_17552\\2107893332.py:8: RuntimeWarning: invalid value encountered in multiply\n",
      "  return (2*_k_b*_temp/_K)*(1-np.exp(-t/(2*tau))*(np.cosh(omega_1*t)+(1/(2*omega_1*tau))*np.sinh(omega_1*t)))\n"
     ]
    },
    {
     "name": "stdout",
     "output_type": "stream",
     "text": [
      "2.0361255308641968e-05\n"
     ]
    },
    {
     "data": {
      "text/plain": [
       "<Figure size 640x480 with 1 Axes>"
      ],
      "image/png": "[encoded data removed]"
     },
     "metadata": {},
     "output_type": "display_data"
    }
   ],
   "execution_count": 48
  },
  {
   "metadata": {},
   "cell_type": "code",
   "outputs": [],
   "execution_count": null,
   "source": "",
   "id": "b458f8bb2c96ca94"
  }
 ],
 "metadata": {
  "kernelspec": {
   "display_name": "Python 3",
   "language": "python",
   "name": "python3"
  },
  "language_info": {
   "codemirror_mode": {
    "name": "ipython",
    "version": 2
   },
   "file_extension": ".py",
   "mimetype": "text/x-python",
   "name": "python",
   "nbconvert_exporter": "python",
   "pygments_lexer": "ipython2",
   "version": "2.7.6"
  }
 },
 "nbformat": 4,
 "nbformat_minor": 5
}
