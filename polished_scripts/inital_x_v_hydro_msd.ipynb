{
 "cells": [
  {
   "metadata": {
    "ExecuteTime": {
     "end_time": "2025-05-09T19:24:07.072475Z",
     "start_time": "2025-05-09T19:24:06.229176Z"
    }
   },
   "cell_type": "code",
   "source": [
    "from math import gamma\n",
    "\n",
    "import scipy\n",
    "import numpy as np\n",
    "import scipy.constants as constants\n",
    "import math\n",
    "import matplotlib.pyplot as plt\n",
    "\n",
    "m = 4e-13\n",
    "temp = 273\n",
    "K = .0002\n",
    "r = 2.7e-6\n",
    "eta = .36e-3\n",
    "rho_f = 789\n",
    "\n",
    "times = np.logspace(-8, 2, 60)\n",
    "zeros = np.zeros(len(times))\n",
    "\n",
    "def compute_roots(m, K, r, eta, rho_f):\n",
    "    t_f = (rho_f * r ** 2) / eta\n",
    "    t_p = m / (6 * np.pi * r * eta)\n",
    "    a = 1\n",
    "    b = -6*math.pi*r**2*np.sqrt(rho_f*eta)/m\n",
    "    c = 6*math.pi*r*eta/m\n",
    "    d = 0\n",
    "    e = K/m\n",
    "\n",
    "    coeffs = [a, b, c, d, e]\n",
    "    return np.roots(coeffs)\n",
    "\n",
    "roots_ = compute_roots(m, K, r, eta, rho_f)\n"
   ],
   "id": "c4f9f10daff107df",
   "outputs": [],
   "execution_count": 1
  },
  {
   "cell_type": "code",
   "id": "initial_id",
   "metadata": {
    "collapsed": true,
    "ExecuteTime": {
     "end_time": "2025-05-09T19:49:34.356826Z",
     "start_time": "2025-05-09T19:49:34.348135Z"
    }
   },
   "source": [
    "def hydro_msd(t, roots):\n",
    "    return 2*constants.k*temp*c_inverse_form(t, roots)\n",
    "\n",
    "# NEW AND CORRECTED CODE\n",
    "\n",
    "def a_inverse_form(t, roots):\n",
    "    return np.real((1/m) * sum(\n",
    "        (z**3 * scipy.special.erfcx(z * np.sqrt(t))) /\n",
    "        (np.prod([z - z_j for z_j in roots if z != z_j])) for z in roots))\n",
    "\n",
    "def b_inverse_form(t, roots):\n",
    "    return np.real((1/m) * sum(\n",
    "        (z * scipy.special.erfcx(z * np.sqrt(t))) /\n",
    "        (np.prod([z - z_j for z_j in roots if z != z_j])) for z in roots))\n",
    "\n",
    "def c_inverse_form(t, roots):\n",
    "    a = roots[0]\n",
    "    b = roots[1]\n",
    "    c = roots[2]\n",
    "    d = roots[3]\n",
    "\n",
    "    m_over_k = 1/(a*b*c*d)\n",
    "\n",
    "    ret = np.real((1/m) * sum(\n",
    "        (scipy.special.erfcx(z * np.sqrt(t))) /\n",
    "        (z*(np.prod([z - z_j for z_j in roots if z != z_j]))) for z in roots))\n",
    "\n",
    "    return ret + m_over_k/m\n",
    "\n",
    "def s_half_b_inverse_form(t, roots):\n",
    "    return np.real((-1/m) * sum(\n",
    "        (z**2 * scipy.special.erfcx(z * np.sqrt(t))) /\n",
    "        (np.prod([z - z_j for z_j in roots if z != z_j])) for z in roots))\n",
    "\n",
    "def s_minus_half_b_inverse_form(t, roots):\n",
    "     return np.real((-1/m) * sum(\n",
    "        (scipy.special.erfcx(z * np.sqrt(t))) /\n",
    "        (np.prod([z - z_j for z_j in roots if z != z_j])) for z in roots))\n",
    "\n",
    "\n",
    "def experfc_inverse_form(t, tau, roots):\n",
    "    return np.real((1/m) * sum(\n",
    "        (z * ((1/np.sqrt(np.pi*(t-tau)))-(z*np.exp(z**2*(t-tau))*scipy.special.erfc(z*np.sqrt(t-tau))))) /\n",
    "        (np.prod([z - z_j for z_j in roots if z != z_j])) for z in roots))\n",
    "\n",
    "def ensemble_r_term(t1, t2, m, K, roots):\n",
    "    return np.real((constants.k*temp)*(c_inverse_form(t1, roots) + c_inverse_form(t2, roots) - c_inverse_form(np.abs(t2-t1), roots) - m*b_inverse_form(t1, roots)*b_inverse_form(t2, roots) - K*c_inverse_form(t1, roots)*c_inverse_form(t2, roots)))\n",
    "\n",
    "def e_and_f(t, mass, radius, rho_f, eta, x0, v0, roots):\n",
    "    gamma = 6*np.pi*radius*eta\n",
    "    z = 6*radius**2*np.pi*np.sqrt(rho_f*eta)\n",
    "    return mass*x0*a_inverse_form(t, roots) + mass*v0*b_inverse_form(t, roots) + gamma*x0*b_inverse_form(t, roots) + z*x0*s_half_b_inverse_form(t, roots) #+ z*v0*s_minus_half_b_inverse_form(t, roots)\n",
    "\n",
    "def x_t1_x_t2(t1, t2, m, K, radius, eta, rho_f, x0, v0):\n",
    "    return e_and_f(t1, m, radius, rho_f, eta, x0, v0, roots_)*e_and_f(t2, m, radius, rho_f, eta, x0, v0, roots_) + ensemble_r_term(t1,t2, m, K, roots_)\n",
    "\n",
    "def full_hydro_msd(t1, t2, m, K, radius, eta, rho_f, x0, v0):\n",
    "    return x_t1_x_t2(t1, t1, m, K, radius, eta, rho_f, x0, v0) + x_t1_x_t2(t2, t2, m, K, radius, eta, rho_f, x0, v0) - 2 * x_t1_x_t2(t1, t2, m, K, radius, eta, rho_f, x0, v0)\n",
    "\n",
    "stationairy = hydro_msd(times, roots_)\n",
    "\n",
    "def full_hydro_with_history(t1, t2, m, K, radius, eta, rho_f, x0, v0, u_vector, v_g):\n",
    "    v_gomez = v_g*(m/(6*math.pi*radius*eta))\n",
    "    return np.real(x_t1_x_t2_u(t1, t1, m, K, radius, eta, rho_f, x0, v0, u_vector, v_gomez) + x_t1_x_t2_u(t2, t2, m, K, radius, eta, rho_f, x0, v0, u_vector, v_gomez) - 2 * x_t1_x_t2_u(t1, t2, m, K, radius, eta, rho_f, x0, v0, u_vector, v_gomez))\n",
    "\n",
    "def x_t1_x_t2_u(t1, t2, m, K, radius, eta, rho_f, x0, v0, u_vector, v_gomez):\n",
    "    return e_and_f_u(t1, m, radius, rho_f, eta, x0, v0, roots_, u_vector, v_gomez)*e_and_f_u(t2, m, radius, rho_f, eta, x0, v0, roots_, u_vector, v_gomez) + ensemble_r_term(t1,t2, m, K, roots_)\n",
    "\n",
    "def e_and_f_u(t, mass, radius, rho, eta, x0, v0, roots, u_vector, v_gomez):\n",
    "    gamma = 6*np.pi*radius*eta\n",
    "    z = 6*radius**2*np.pi*np.sqrt(rho*eta)\n",
    "    print(u_term(t, u_vector, roots, v_gomez))\n",
    "    return mass*x0*a_inverse_form(t, roots) + mass*v0*b_inverse_form(t, roots) + gamma*x0*b_inverse_form(t, roots) + z*x0*s_half_b_inverse_form(t, roots) + z*v0*s_minus_half_b_inverse_form(t, roots) + u_term(t, u_vector, roots, v_gomez)\n",
    "\n",
    "import numpy as np\n",
    "from scipy.special import erfi\n",
    "\n",
    "def u_term(t, u_vector, roots, v_gomez):\n",
    "    a = roots[0]\n",
    "    b = roots[1]\n",
    "    c = roots[2]\n",
    "    d = roots[3]\n",
    "    u_vector = u_vector #/2000000000000\n",
    "    ret = 0\n",
    "    for i in range(len(u_vector)):\n",
    "        w = v_gomez/5**(i+1)\n",
    "        # print(\"w is \" + str(w))\n",
    "        add_u = u_vector[i]*((1/m) * sum(\n",
    "            (z * scipy.special.erfcx(z * np.sqrt(t))) /\n",
    "            (np.prod([z - z_j for z_j in roots if z != z_j]))*(z**2+w) for z in roots) + (np.exp(-t*w)*(a*b*c*d - (b*c + (b + c)*d + a*(b + c + d))*w + w**2 + np.sqrt(w)*(a*b*c + a*b*d + a*c*d + b*c*d - (a + b + c + d)*w)*erfi(np.sqrt(w)*np.sqrt(t))))/((a**2+w)*(b**2+w)*(c**2+w)*(d**2+w)))\n",
    "        ret += add_u\n",
    "    return ret"
   ],
   "outputs": [],
   "execution_count": 31
  },
  {
   "metadata": {
    "ExecuteTime": {
     "end_time": "2025-05-09T19:24:07.708138Z",
     "start_time": "2025-05-09T19:24:07.694891Z"
    }
   },
   "cell_type": "code",
   "source": [
    "def load_mean_u_by_velocity(filename):\n",
    "    velocity_blocks = []\n",
    "    current_block = []\n",
    "    current_velocity = None\n",
    "\n",
    "    with open(filename, \"r\") as f:\n",
    "        for line in f:\n",
    "            if line.startswith(\"# velocity\"):\n",
    "                if current_block:\n",
    "                    velocity_blocks.append((current_velocity, np.array(current_block)))\n",
    "                    current_block = []\n",
    "                current_velocity = float(line.split(\":\")[1])\n",
    "            else:\n",
    "                parts = line.strip().split()\n",
    "                current_block.append((float(parts[0]), float(parts[1])))\n",
    "\n",
    "        # Add the last block\n",
    "        if current_block:\n",
    "            velocity_blocks.append((current_velocity, np.array(current_block)))\n",
    "\n",
    "    return velocity_blocks\n",
    "velocity_blocks = load_mean_u_by_velocity(r\"..\\data\\mean_u_by_velocity.txt\")\n",
    "\n",
    "def find_mean_u_at_velocity(v_query, velocity_blocks):\n",
    "    # Assume evenly spaced bins — use difference between two known centers\n",
    "    if len(velocity_blocks) < 2:\n",
    "        raise ValueError(\"Need at least two bins to determine bin width.\")\n",
    "\n",
    "    bin_width = abs(velocity_blocks[1][0] - velocity_blocks[0][0])\n",
    "\n",
    "    for v_bin_center, arr in velocity_blocks:\n",
    "        # print(v_query, v_bin_center)\n",
    "        if abs(v_query - v_bin_center) < bin_width / 2:\n",
    "            return arr[:,0]  # shape (13, 2): each row is (mean, std)\n",
    "\n",
    "    return np.zeros(13)"
   ],
   "id": "fe5736e41df78016",
   "outputs": [],
   "execution_count": 3
  },
  {
   "metadata": {
    "ExecuteTime": {
     "end_time": "2025-05-09T19:24:07.715254Z",
     "start_time": "2025-05-09T19:24:07.712909Z"
    }
   },
   "cell_type": "code",
   "source": [
    "# We need the IC for v(0 as a funtion of x_0)\n",
    "def v_0_for_x0(x_0, m, radius, eta, roots_):\n",
    "    ret = x_0 * (1 - m*a_inverse_form())"
   ],
   "id": "5d441784cba86fb7",
   "outputs": [],
   "execution_count": 4
  },
  {
   "metadata": {
    "ExecuteTime": {
     "end_time": "2025-05-09T19:24:07.825711Z",
     "start_time": "2025-05-09T19:24:07.720175Z"
    }
   },
   "cell_type": "code",
   "source": [
    "# Sample from a normal distribution to get the msd for different x0, v0\n",
    "\n",
    "mu = 0\n",
    "sigma_v = np.sqrt(constants.k*temp/m)\n",
    "sigma_x = np.sqrt(constants.k*temp/K)\n",
    "num_samples = [60]\n",
    "mean_xs = []\n",
    "mean_vs = []\n",
    "avg_nu_sample_msd = []\n",
    "for num_sample in num_samples:\n",
    "    initial_conditions_v = np.random.normal(mu, sigma_v, num_sample)\n",
    "    initial_conditions_x = np.random.normal(mu, sigma_x, num_sample)\n",
    "\n",
    "    # mean_xs.append(np.mean(initial_conditions_x))\n",
    "    # mean_vs.append(np.mean(initial_conditions_v))\n",
    "\n",
    "    results = np.zeros((num_sample, len(times)))\n",
    "    # results2 = np.zeros((num_sample, len(times)))\n",
    "\n",
    "    for i in range(num_sample):\n",
    "        # u_vec = find_mean_u_at_velocity(initial_conditions_v[i], velocity_blocks)\n",
    "        # print(u_vec)\n",
    "        results[i, :] = full_hydro_msd(0, times, m, K, r, eta, rho_f, initial_conditions_x[i], initial_conditions_v[i])\n",
    "        # results2[i, :] = full_hydro_with_history(0, times, m, K, r, eta, rho_f, initial_conditions_x[i], initial_conditions_v[i], u_vec, 10**3)\n",
    "\n",
    "    averaged_initial_msd = results.mean(axis=0)\n",
    "    avg_nu_sample_msd.append(averaged_initial_msd)\n",
    "    # averaged_initial_msd2 = results2.mean(axis=0)\n",
    "\n",
    "ic_is_sigma = full_hydro_msd(0, times, m, K, r, eta, rho_f,  -np.sqrt(constants.k*temp/K), -np.sqrt(constants.k*temp/m))\n",
    "zero_ic = full_hydro_msd(0, times, m, K, r, eta, rho_f,  0, 0)\n"
   ],
   "id": "e34f7271afa9befd",
   "outputs": [],
   "execution_count": 5
  },
  {
   "metadata": {
    "ExecuteTime": {
     "end_time": "2025-05-09T19:24:08.137324Z",
     "start_time": "2025-05-09T19:24:07.832875Z"
    }
   },
   "cell_type": "code",
   "source": [
    "\n",
    "plt.plot(times, stationairy, linestyle = 'dashed', label = \"stationairy\")\n",
    "# plt.plot(times, averaged_initial_msd2/1e32, label = \"Distribution of initial conditions with History\")\n",
    "plt.plot(times, avg_nu_sample_msd[0], label = \"Distribution of initial conditions\")\n",
    "# plt.plot(times, ic_is_sigma, label = \"initial x0 = kT/K, intial v0 = kT/m\")\n",
    "# plt.plot(times, zero_ic, label = \"initial x0 = 0, intial v0 = 0\")\n",
    "plt.title(\"stationary and distribution initial conditions at t=0 comparison\")\n",
    "plt.legend()\n",
    "plt.xscale('log')\n",
    "plt.yscale('log')\n",
    "plt.show()\n",
    "\n",
    "# plt.plot(times, stationairy, linestyle = 'dashed', label = \"stationairy\")\n",
    "# plt.plot(times, averaged_initial_msd, label = \"Distribution of initial conditions\")\n",
    "# plt.title(\"Comparison with initial conditions = sigma and initial conditions at t=0\")\n",
    "# plt.legend()\n",
    "# plt.xscale('log')\n",
    "# plt.yscale('log')\n",
    "# plt.show()\n",
    "\n",
    "diffs = []\n",
    "for i in range(1, len(num_samples)):\n",
    "    diff = (stationairy - avg_nu_sample_msd[i])/stationairy\n",
    "    diffs.append(diff)\n",
    "    plt.plot(times, diff, label = f\"diff num={num_samples[i]}\")\n",
    "    plt.legend()\n",
    "    plt.xscale('log')\n",
    "# plt.legend()\n",
    "# plt.xscale('log')\n",
    "# plt.yscale('log')\n",
    "# plt.yscale('log')\n",
    "\n"
   ],
   "id": "c0a61ce7364fa520",
   "outputs": [
    {
     "name": "stderr",
     "output_type": "stream",
     "text": [
      "C:\\Users\\Cole Thumann\\AppData\\Local\\Programs\\Python\\Python313\\Lib\\site-packages\\matplotlib\\cbook.py:1762: ComplexWarning: Casting complex values to real discards the imaginary part\n",
      "  return math.isfinite(val)\n",
      "C:\\Users\\Cole Thumann\\AppData\\Local\\Programs\\Python\\Python313\\Lib\\site-packages\\matplotlib\\cbook.py:1398: ComplexWarning: Casting complex values to real discards the imaginary part\n",
      "  return np.asarray(x, float)\n"
     ]
    },
    {
     "data": {
      "text/plain": [
       "<Figure size 640x480 with 1 Axes>"
      ],
      "image/png": "[encoded data removed]"
     },
     "metadata": {},
     "output_type": "display_data"
    }
   ],
   "execution_count": 6
  },
  {
   "metadata": {
    "ExecuteTime": {
     "end_time": "2025-05-09T19:24:08.184385Z",
     "start_time": "2025-05-09T19:24:08.144466Z"
    }
   },
   "cell_type": "code",
   "source": [
    "\n",
    "areas = [np.trapz(diff) for diff in diffs]\n",
    "plt.plot(areas)\n"
   ],
   "id": "725260212ed1a93e",
   "outputs": [
    {
     "data": {
      "text/plain": [
       "[<matplotlib.lines.Line2D at 0x22492625950>]"
      ]
     },
     "execution_count": 7,
     "metadata": {},
     "output_type": "execute_result"
    },
    {
     "data": {
      "text/plain": [
       "<Figure size 640x480 with 1 Axes>"
      ],
      "image/png": "[encoded data removed]"
     },
     "metadata": {},
     "output_type": "display_data"
    }
   ],
   "execution_count": 7
  },
  {
   "metadata": {
    "ExecuteTime": {
     "end_time": "2025-05-09T19:24:08.476768Z",
     "start_time": "2025-05-09T19:24:08.191126Z"
    }
   },
   "cell_type": "code",
   "source": [
    "t1s = [0, 1e-5, 1e-3]\n",
    "t1_comparisons = []\n",
    "num_samples = 1000\n",
    "\n",
    "for t1 in t1s:\n",
    "    t1 = np.full(len(times), t1)\n",
    "    t2 = t1 + times\n",
    "\n",
    "    for i in range(num_samples):\n",
    "      results[i, :] = full_hydro_msd(t1, t2, m, K, r, eta, rho_f, initial_conditions_x[i], initial_conditions_v[i])\n",
    "    averaged_initial_msd = results.mean(axis=0)\n",
    "    t1_comparisons.append(averaged_initial_msd)\n",
    "\n",
    "for i in range(len(t1s)):\n",
    "    plt.plot(times, t1_comparisons[i], label = f\"t1={t1s[i]}\")\n",
    "plt.plot(times, stationairy, linestyle=\"dashed\", label = \"stationairy\")\n",
    "plt.xscale('log')\n",
    "plt.yscale('log')\n",
    "plt.legend()"
   ],
   "id": "58ec313744cf1006",
   "outputs": [
    {
     "ename": "IndexError",
     "evalue": "index 60 is out of bounds for axis 0 with size 60",
     "output_type": "error",
     "traceback": [
      "\u001B[1;31m---------------------------------------------------------------------------\u001B[0m",
      "\u001B[1;31mIndexError\u001B[0m                                Traceback (most recent call last)",
      "Cell \u001B[1;32mIn[8], line 10\u001B[0m\n\u001B[0;32m      7\u001B[0m t2 \u001B[38;5;241m=\u001B[39m t1 \u001B[38;5;241m+\u001B[39m times\n\u001B[0;32m      9\u001B[0m \u001B[38;5;28;01mfor\u001B[39;00m i \u001B[38;5;129;01min\u001B[39;00m \u001B[38;5;28mrange\u001B[39m(num_samples):\n\u001B[1;32m---> 10\u001B[0m   results[i, :] \u001B[38;5;241m=\u001B[39m full_hydro_msd(t1, t2, m, K, r, eta, rho_f, \u001B[43minitial_conditions_x\u001B[49m\u001B[43m[\u001B[49m\u001B[43mi\u001B[49m\u001B[43m]\u001B[49m, initial_conditions_v[i])\n\u001B[0;32m     11\u001B[0m averaged_initial_msd \u001B[38;5;241m=\u001B[39m results\u001B[38;5;241m.\u001B[39mmean(axis\u001B[38;5;241m=\u001B[39m\u001B[38;5;241m0\u001B[39m)\n\u001B[0;32m     12\u001B[0m t1_comparisons\u001B[38;5;241m.\u001B[39mappend(averaged_initial_msd)\n",
      "\u001B[1;31mIndexError\u001B[0m: index 60 is out of bounds for axis 0 with size 60"
     ]
    }
   ],
   "execution_count": 8
  },
  {
   "metadata": {
    "ExecuteTime": {
     "end_time": "2025-05-09T19:52:19.550269Z",
     "start_time": "2025-05-09T19:52:18.906344Z"
    }
   },
   "cell_type": "code",
   "source": [
    "from scipy.interpolate import interp1d\n",
    "# from scipy.integrate import cumtrapz\n",
    "from mpmath import mp, invertlaplace, mpc, mpf, sqrt, pi, exp, erfc\n",
    "# GRAPH C\n",
    "a_help = a_inverse_form(times, roots_)\n",
    "c_help = c_inverse_form(times, roots_)\n",
    "b_help = b_inverse_form(times, roots_)\n",
    "s_minus = s_minus_half_b_inverse_form(times, roots_)\n",
    "s_plus = s_half_b_inverse_form(times, roots_)\n",
    "erfe = experfc_inverse_form(times, .0001, roots_)\n",
    "tau = 1e-6\n",
    "\n",
    "\n",
    "# Laplace-domain function F(s, tau)\n",
    "def F(s, tau):\n",
    "    s = mpc(s)\n",
    "    tau = mpf(tau)\n",
    "    D = m*(roots_[0] + sqrt(s)) * (roots_[1] + sqrt(s)) * (roots_[2] + sqrt(s)) * (roots_[3] + sqrt(s))\n",
    "    inv = 2/sqrt(-tau) - 2 * exp(-tau*s) * sqrt(s) * sqrt(pi) * erfc(sqrt(-tau*s))\n",
    "    return inv / D\n",
    "\n",
    "# Inverse Laplace transform f(t, tau)\n",
    "def f(t, tau):\n",
    "    def F_fixed_s(s):\n",
    "        return F(s, tau)\n",
    "    return float(mp.re(invertlaplace(F_fixed_s, t, method='talbot')))\n",
    "\n",
    "numerical_erfe = [f(time, tau) for time in times]\n",
    "\n",
    "b_min_e = b_inverse_form(times, roots_)/np.sqrt(tau) - np.sqrt(np.pi)*experfc_inverse_form(times, tau, roots_)\n",
    "\n",
    "# Create interpolation function\n",
    "a_int_b = interp1d(times, a_help, kind='cubic')  # Cubic for smoothness\n",
    "b_int_c = interp1d(times, b_help, kind='cubic')\n",
    "sm_int_sp = interp1d(times, s_plus, kind='cubic')\n",
    "\n",
    "# Compute the integral using cumtrapz\n",
    "# Evaluate a_int_b at times for integration\n",
    "a_help_interp = a_int_b(times)\n",
    "# integral_a = cumtrapz(a_help_interp, times, initial=0)\n",
    "\n",
    "b_help_interp = b_int_c(times)\n",
    "# integral_b = cumtrapz(b_help_interp, times, initial=0)\n",
    "\n",
    "s_plus_interp = sm_int_sp(times)\n",
    "# integral_sp = cumtrapz(s_plus_interp, times, initial=0)\n",
    "\n",
    "# plt.plot(times, a_help, label = \"a\")\n",
    "plt.plot(times, b_help, label = \"b\")\n",
    "# plt.plot(times, integral_a, label = \"integral of a\")\n",
    "#\n",
    "# plt.plot(times, c_help, label = \"c\")\n",
    "# plt.plot(times, integral_b, label = \"integral of b\")\n",
    "\n",
    "plt.plot(times, a_help, label = \"a\")\n",
    "plt.plot(times, b_min_e*100000, label = \"erfe\")\n",
    "plt.plot(times, numerical_erfe, label = \"numerical\")\n",
    "# plt.plot(times, integral_sp, label = \"integral s+\")\n",
    "# plt.plot(times, s_plus, label = \"s+\")\n",
    "plt.xscale('log')\n",
    "# plt.yscale('log')\n",
    "# plt.xlim(left=100)\n",
    "# plt.ylim(bottom = 0, top=0.01)\n",
    "plt.legend()"
   ],
   "id": "14ade0c8d1d47502",
   "outputs": [
    {
     "name": "stderr",
     "output_type": "stream",
     "text": [
      "C:\\Users\\Cole Thumann\\AppData\\Local\\Temp\\ipykernel_6488\\2076590384.py:43: RuntimeWarning: invalid value encountered in sqrt\n",
      "  (z * ((1/np.sqrt(np.pi*(t-tau)))-(z*np.exp(z**2*(t-tau))*scipy.special.erfc(z*np.sqrt(t-tau))))) /\n",
      "C:\\Users\\Cole Thumann\\AppData\\Local\\Temp\\ipykernel_6488\\2076590384.py:43: RuntimeWarning: invalid value encountered in multiply\n",
      "  (z * ((1/np.sqrt(np.pi*(t-tau)))-(z*np.exp(z**2*(t-tau))*scipy.special.erfc(z*np.sqrt(t-tau))))) /\n"
     ]
    },
    {
     "data": {
      "text/plain": [
       "<matplotlib.legend.Legend at 0x22499ad0550>"
      ]
     },
     "execution_count": 38,
     "metadata": {},
     "output_type": "execute_result"
    },
    {
     "data": {
      "text/plain": [
       "<Figure size 640x480 with 1 Axes>"
      ],
      "image/png": "[encoded data removed]"
     },
     "metadata": {},
     "output_type": "display_data"
    }
   ],
   "execution_count": 38
  },
  {
   "metadata": {},
   "cell_type": "code",
   "source": "",
   "id": "862d2fecc1052d05",
   "outputs": [],
   "execution_count": null
  },
  {
   "metadata": {},
   "cell_type": "code",
   "source": "",
   "id": "ad2ff3d2943fa08e",
   "outputs": [],
   "execution_count": null
  }
 ],
 "metadata": {
  "kernelspec": {
   "display_name": "Python 3",
   "language": "python",
   "name": "python3"
  },
  "language_info": {
   "codemirror_mode": {
    "name": "ipython",
    "version": 2
   },
   "file_extension": ".py",
   "mimetype": "text/x-python",
   "name": "python",
   "nbconvert_exporter": "python",
   "pygments_lexer": "ipython2",
   "version": "2.7.6"
  }
 },
 "nbformat": 4,
 "nbformat_minor": 5
}
