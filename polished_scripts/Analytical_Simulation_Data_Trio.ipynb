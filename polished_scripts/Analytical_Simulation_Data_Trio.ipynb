{
 "cells": [
  {
   "metadata": {},
   "cell_type": "raw",
   "source": "",
   "id": "8b9bdd998b703a1c"
  },
  {
   "metadata": {
    "ExecuteTime": {
     "end_time": "2025-04-28T21:17:17.888819Z",
     "start_time": "2025-04-28T21:17:15.894740Z"
    }
   },
   "cell_type": "code",
   "source": [
    "import numpy as np\n",
    "import matplotlib.pyplot as plt\n",
    "from sympy import gamma\n",
    "from sympy.printing.pretty.pretty_symbology import line_width\n",
    "# from scipy.special import linestyle\n",
    "from tqdm import tqdm\n",
    "import scipy\n",
    "import pandas as pd\n",
    "\n",
    "from polished_scripts.utils import full_hydro_msd_no_half"
   ],
   "id": "441f2aa9fd11149f",
   "outputs": [],
   "execution_count": 1
  },
  {
   "metadata": {
    "ExecuteTime": {
     "end_time": "2025-04-28T21:17:17.901061Z",
     "start_time": "2025-04-28T21:17:17.888819Z"
    }
   },
   "cell_type": "code",
   "source": [
    "# SHARED\n",
    "_k_b = scipy.constants.k\n",
    "_rho = 4200\n",
    "_rho_f = 789\n",
    "_r =  2.6392235755368e-06\n",
    "_m = 4/3 *np.pi *_r**3*_rho + 2/3 *np.pi *_r**3*_rho_f\n",
    "_temp = 293\n",
    "_viscous = 0.36e-3\n",
    "_v_force = 6*np.pi*_r*_viscous\n",
    "\n",
    "_K = 8.061743253740993e-05\n",
    "_gain = np.sqrt(335982165125421.5 )\n",
    "\n",
    "bin_number_data = 100\n",
    "timestep_data = bin_number_data/200000000\n",
    "\n",
    "print(timestep_data)\n",
    "print(\"momentum relation time is \" + str(_m/_v_force))\n",
    "# TOLERANCES\n",
    "tols = [.0051]\n",
    "gap_min = 500"
   ],
   "id": "4327fd68d6c63efd",
   "outputs": [
    {
     "name": "stdout",
     "output_type": "stream",
     "text": [
      "5e-07\n",
      "momentum relation time is 1.9754935012178625e-05\n"
     ]
    }
   ],
   "execution_count": 2
  },
  {
   "metadata": {
    "ExecuteTime": {
     "end_time": "2025-04-28T21:17:17.977581Z",
     "start_time": "2025-04-28T21:17:17.971556Z"
    }
   },
   "cell_type": "code",
   "source": [
    "# Calculate the average MSD\n",
    "def compute_msd(time_trace, dt):\n",
    "    n = len(time_trace)\n",
    "    msd = np.zeros(n)  # Allocate array for MSD\n",
    "    lag_times = np.arange(n) * dt  # Calculate lag times\n",
    "\n",
    "    for tau in tqdm(range(n)):\n",
    "        displacements = time_trace[tau:] - time_trace[:n - tau]\n",
    "        msd[tau] = np.mean(displacements**2)\n",
    "\n",
    "    return msd, lag_times\n",
    "\n",
    "# Calculate the zero init MSD\n",
    "\n",
    "def compute_init_msd(sequence):\n",
    "    MS = np.zeros(len(sequence))\n",
    "    for i in range(1, len(MS)):\n",
    "        MS[i] = (sequence[0] - sequence[i])**2\n",
    "        #print(np.abs(sequence[0] - sequence[1]) / np.abs(sequence[50] - sequence[55]))\n",
    "    return MS\n",
    "\n",
    "def compute_init_msd2(time_trace, dt):\n",
    "\n",
    "    n = len(time_trace)\n",
    "    lag_times = np.arange(n) * dt  # Calculate lag times\n",
    "\n",
    "    msd_ = [(time_trace[k]-time_trace[0])**2 for k in range(n)]\n",
    "    return msd_, lag_times\n"
   ],
   "id": "48344925a2de7b07",
   "outputs": [],
   "execution_count": 3
  },
  {
   "cell_type": "code",
   "id": "initial_id",
   "metadata": {
    "collapsed": true,
    "ExecuteTime": {
     "end_time": "2025-04-28T21:17:17.998780Z",
     "start_time": "2025-04-28T21:17:17.990153Z"
    }
   },
   "source": [
    "# ANALYTICAL FUNCTIONS\n",
    "\n",
    "# GENERAL WHITE NOISE\n",
    "def msd_wn(t):\n",
    "    tau = _m / _v_force\n",
    "    omega_0 = np.sqrt(_K / _m)\n",
    "    omega_1 = np.sqrt(1/(4*tau**2) - omega_0**2)\n",
    "    return (2*_k_b*_temp/_K)*(1-np.exp(-t/(2*tau))*(np.cosh(omega_1*t)+(1/(2*omega_1*tau))*np.sinh(omega_1*t)))\n",
    "\n",
    "# INITIALLY ZERO WHITE NOISE\n",
    "def just_noise(t):\n",
    "\n",
    "    tau = _m / _v_force\n",
    "    omega_0 = np.sqrt(_K / _m)\n",
    "    omega_1 = np.sqrt(1/(4*tau**2) - omega_0**2)\n",
    "    numerator = tau*np.exp(-1*t / tau)*(-1-4*tau**2*(-1 + np.exp(t/tau))*omega_1**2 + np.cosh(2*t*omega_1)+2*tau*omega_1*np.sinh(2*t*omega_1))\n",
    "    denominator = -2 + 8*tau**2*omega_1**2#-1*8*tau**2*omega_0**2\n",
    "    final_scale = 12*np.pi*_r*_viscous*_k_b*_temp / _m**2 / omega_1**2\n",
    "    return (numerator / denominator) * final_scale\n",
    "\n",
    "# INITIAL SET VARIANCE WHITE NOISE\n",
    "def known_initial_v_0(t, tol_percent):\n",
    "\n",
    "    tau = _m / _v_force\n",
    "\n",
    "    #Defines important auxillary variables\n",
    "\n",
    "    omega_0 = np.sqrt(_K / _m)\n",
    "    omega_1 = np.sqrt(1/(4*tau**2) - omega_0**2)\n",
    "    T = omega_1*t\n",
    "\n",
    "    #Gets contribution from the thermal white noise\n",
    "    gamma = just_noise(t)\n",
    "\n",
    "    #Gets contribution from initial position variation\n",
    "    # hyp_factors = np.exp(-1*t/tau)*(np.cosh(T)**2 + 1/(4*(omega_1*tau)**2)*np.sinh(T)**2 + 1/(omega_1*tau)*np.cosh(T)*np.sinh(T)) - np.exp(-1*t/(2*tau))*(2*np.cosh(T) - 1/(2*omega_1*tau)*np.sinh(T))\n",
    "    hyp_factors = (1 - np.exp(-t/(2*tau))*(np.cosh(omega_1*t) + np.sinh(omega_1*t)/(2*omega_1*tau)))**2\n",
    "\n",
    "    #alpha easier to type than tol_percent\n",
    "    alpha = tol_percent\n",
    "\n",
    "    #Gets the second moment of the velocity assuming a probabiity distribution of\n",
    "    #a Gaussian cut off on its wings by some fraction of its standard deviation (alpha/tol_percent)\n",
    "    updated_sigma = 1 - alpha*np.exp(-alpha**2/2)*np.sqrt(2/np.pi)/scipy.special.erf(alpha/np.sqrt(2))\n",
    "\n",
    "    #Calculates the contribution from the intitial velocity spread\n",
    "    velo = np.exp(-1*t/tau) / omega_1**2 * np.sinh(omega_1*t)**2 *_k_b*_temp / _m * updated_sigma\n",
    "\n",
    "    #Puts the pieces together\n",
    "    return _k_b*_temp / _K * ( hyp_factors) + gamma + velo\n",
    "\n",
    "# HYDRODYNAMIC GENERAL CASE\n",
    "def hydro_msd(t):\n",
    "    trap_const = _K\n",
    "    use_mass = _m\n",
    "    m_f = 2 / 3 * np.pi * _r ** 3 * 1000\n",
    "    t_k = (6 * np.pi * _r * _viscous) / _K\n",
    "    t_f = (_rho_f * _r ** 2) / _viscous\n",
    "    t_p = _m / (6 * np.pi * _r * _viscous)\n",
    "    print(\"tp is \" + str(t_p))\n",
    "    print(t_f)\n",
    "    # find roots\n",
    "    # a * z^4 + b * z^3 + c * z^2 + d * z + e = 0\n",
    "    a_ = t_p\n",
    "    b = -1 * np.sqrt(t_f)\n",
    "    c = 1\n",
    "    d = 0\n",
    "    e = 1 / t_k\n",
    "\n",
    "    # Coefficients array for the polynomial equation\n",
    "    coefficients = [a_, b, c, d, e]\n",
    "\n",
    "    # Find the roots\n",
    "    roots = np.roots(coefficients)\n",
    "\n",
    "    # I need to learn how to vectorize my code better\n",
    "    term_1 = scipy.special.erfcx(roots[0] * np.sqrt(t)) / (\n",
    "                roots[0] * (roots[0] - roots[1]) * (roots[0] - roots[2]) * (roots[0] - roots[3]))\n",
    "    term_2 = scipy.special.erfcx(roots[1] * np.sqrt(t)) / (\n",
    "                roots[1] * (roots[1] - roots[0]) * (roots[1] - roots[2]) * (roots[1] - roots[3]))\n",
    "    term_3 = scipy.special.erfcx(roots[2] * np.sqrt(t)) / (\n",
    "                roots[2] * (roots[2] - roots[1]) * (roots[2] - roots[0]) * (roots[2] - roots[3]))\n",
    "    term_4 = scipy.special.erfcx(roots[3] * np.sqrt(t)) / (\n",
    "                roots[3] * (roots[3] - roots[1]) * (roots[3] - roots[2]) * (roots[3] - roots[0]))\n",
    "\n",
    "    D = _k_b * _temp / (6 * np.pi * _viscous * _r)\n",
    "    # Returns theoretical MSD\n",
    "    return np.real(2 * _k_b * _temp / trap_const + 2 * _k_b * _temp / (use_mass) * (\n",
    "                term_1 + term_2 + term_3 + term_4))\n",
    "\n"
   ],
   "outputs": [],
   "execution_count": 4
  },
  {
   "metadata": {
    "ExecuteTime": {
     "end_time": "2025-04-29T18:48:22.096971Z",
     "start_time": "2025-04-29T18:47:50.190314Z"
    }
   },
   "cell_type": "code",
   "source": [
    "# SIMULATIONS\n",
    "\n",
    "chunksize = 10 ** 6  # Adjust chunk size based on your memory availability\n",
    "chunks = []\n",
    "\n",
    "for chunk in pd.read_csv(r'C:\\Users\\mcthu\\PycharmProjects\\MarkovianEmbedding\\position_velocity_data.csv', chunksize=chunksize, low_memory=False):\n",
    "    # process each chunk individually or filter/aggregate it\n",
    "    chunks.append(chunk)\n",
    "\n",
    "df = pd.concat(chunks, ignore_index=True)\n",
    "\n",
    "# Extract only the columns that start with 'Position' or 'Velocity'\n",
    "position_cols = [col for col in df.columns if col.startswith('Position')]\n",
    "velocity_cols = [col for col in df.columns if col.startswith('Velocity')]\n",
    "\n",
    "timestep_sim = df['real_timestep_s'].values[0]\n",
    "positions_sim = []\n",
    "velocities_sim = []\n",
    "for i in range(len(position_cols)):\n",
    "    positions_sim.append(df[position_cols[i]].astype(float).values)\n",
    "    velocities_sim.append(df[velocity_cols[i]].astype(float).values)\n",
    "\n",
    "# print(f\"Positions shape: {positions_sim.shape}\")\n",
    "# print(f\"Velocities shape: {velocities_sim.shape}\")\n",
    "\n",
    "bin_num_sim = 10\n",
    "fs_sim = 1/(timestep_sim * bin_num_sim)\n",
    "print(1/fs_sim)\n",
    "\n",
    "def bin_data(series, bin_size):\n",
    "    # Ensuring the length of series is divisible by bin_size\n",
    "    length = len(series) - len(series) % bin_size\n",
    "    series = np.array(series[:length])\n",
    "    return np.mean(series.reshape(-1, bin_size), axis=1)\n",
    "\n",
    "traces_sim = []\n",
    "for trace in positions_sim:\n",
    "    series = bin_data(trace, bin_num_sim)\n",
    "    traces_sim.append(series)\n",
    "\n",
    "v_traces_sim = []\n",
    "for trace in velocities_sim:\n",
    "    series = bin_data(trace, bin_num_sim)\n",
    "    v_traces_sim.append(series)\n",
    "\n",
    "\n",
    "# GET THE EQ MSD\n",
    "all_msd_sim = []\n",
    "lag_times_sim = 0\n",
    "for series in traces_sim:\n",
    "    msd, lag_times_sim = compute_msd(series[:100000], timestep_sim*bin_num_sim)\n",
    "    all_msd_sim.append(msd)\n",
    "\n",
    "eq_msd_sim = np.mean(all_msd_sim, axis=0)\n",
    "\n"
   ],
   "id": "157b9ee36d161564",
   "outputs": [
    {
     "name": "stdout",
     "output_type": "stream",
     "text": [
      "1.9754935012178623e-08\n"
     ]
    },
    {
     "name": "stderr",
     "output_type": "stream",
     "text": [
      "100%|██████████| 100000/100000 [00:07<00:00, 13676.34it/s]\n"
     ]
    }
   ],
   "execution_count": 17
  },
  {
   "metadata": {
    "ExecuteTime": {
     "end_time": "2025-04-28T21:17:42.610327Z",
     "start_time": "2025-04-28T21:17:38.999376Z"
    }
   },
   "cell_type": "code",
   "source": [
    "# SIM PART 2\n",
    "\n",
    "# GET THE VAR INT MSD\n",
    "# CONDITIONING (Find spots where velocity is zero)\n",
    "sim_tol_msds = []\n",
    "init_lag_times_sim = 0\n",
    "\n",
    "for tol in tols:\n",
    "    all_init_msd_sim = []\n",
    "    init_len = int(len(traces_sim[0])/1000)\n",
    "    \n",
    "    # msd_num_lim = 5000\n",
    "    # j = 0\n",
    "    \n",
    "    for i in range(len(traces_sim)):\n",
    "        zero_idxs_sim = []\n",
    "        print(\"std of sim data vel \" + str(np.std(v_traces_sim[i])))\n",
    "        v_tolerance = (tol * np.std(v_traces_sim[i]))\n",
    "        v_indices = np.where(abs(v_traces_sim[i]) < v_tolerance)[0]\n",
    "        print(\"v idx sim: \" + str(len(v_indices)))\n",
    "\n",
    "        # last_idx = -np.inf\n",
    "        #\n",
    "        # p_tolerance = (tol * np.std(traces_sim[i]))\n",
    "        # p_indices = np.where(abs(traces_sim[i]) < p_tolerance)[0]\n",
    "        # print(\"p idx data: \" + str(len(p_indices)))\n",
    "        # overlap = np.intersect1d(v_indices, p_indices)\n",
    "        # print(\"overlap data: \" + str(len(overlap)))\n",
    "\n",
    "        # for idx in overlap:\n",
    "        #     if idx - last_idx > (init_len / gap_min) and idx + init_len < len(traces_sim[i]):\n",
    "        #         zero_idxs_sim.append(idx)\n",
    "        #         last_idx = idx\n",
    "        # NO POSITION\n",
    "\n",
    "        for idx in v_indices:\n",
    "            if idx + init_len < len(traces_sim[i]): #idx - last_idx > (init_len / 100) and\n",
    "                zero_idxs_sim.append(idx)\n",
    "                last_idx = idx\n",
    "\n",
    "        print(\"total idx sim: \" + str(len(zero_idxs_sim)))\n",
    "    \n",
    "        for idx in zero_idxs_sim:\n",
    "            # j+=1\n",
    "            # if j > msd_num_lim:\n",
    "            #     break\n",
    "            msd, init_lag_times_sim = compute_init_msd2(traces_sim[i][idx:idx+init_len], timestep_sim*bin_num_sim)\n",
    "            all_init_msd_sim.append(msd)\n",
    "    \n",
    "    init_msd_sim = np.mean(all_init_msd_sim, axis=0)\n",
    "    sim_tol_msds.append(init_msd_sim)"
   ],
   "id": "8a3a943236681b64",
   "outputs": [
    {
     "name": "stdout",
     "output_type": "stream",
     "text": [
      "std of sim data vel 0.00010643373808415319\n",
      "v idx sim: 6488\n",
      "total idx sim: 6486\n"
     ]
    }
   ],
   "execution_count": 6
  },
  {
   "metadata": {
    "ExecuteTime": {
     "end_time": "2025-04-28T21:17:48.135715Z",
     "start_time": "2025-04-28T21:17:42.667717Z"
    }
   },
   "cell_type": "code",
   "source": [
    "# LOOK FOR SPECIFIC SPEEDS\n",
    "# SIM PART 3\n",
    "speeds = [1]\n",
    "# GET THE VAR INT MSD\n",
    "sim_speeds_msds = []\n",
    "speed_tol = .0009\n",
    "lag_times_speed = 0\n",
    "for speed in speeds:\n",
    "    all_speed_msd_sim = []\n",
    "    init_len = int(len(traces_sim[0])/70)\n",
    "\n",
    "    for i in range(len(traces_sim)):\n",
    "        speed_idxs_sim = []\n",
    "        print(\"std of sim data vel \" + str(np.std(v_traces_sim[i])))\n",
    "        v_tolerance = (speed * np.std(v_traces_sim[i]))\n",
    "        speed_tolerance = speed_tol * np.std(v_traces_sim[i])\n",
    "        v_indices = np.where((v_traces_sim[i] < v_tolerance + speed_tolerance) & (v_traces_sim[i] > v_tolerance - speed_tolerance))[0]\n",
    "        print(\"speed idx sim: \" + str(len(v_indices)))\n",
    "\n",
    "        for idx in v_indices:\n",
    "            if idx + init_len < len(traces_sim[i]):\n",
    "                speed_idxs_sim.append(idx)\n",
    "\n",
    "        print(\"total idx speed sim: \" + str(len(speed_idxs_sim)))\n",
    "\n",
    "        for idx in speed_idxs_sim:\n",
    "            msd, lag_times_speed = compute_init_msd2(traces_sim[i][idx:idx+init_len], timestep_sim*bin_num_sim)\n",
    "            all_speed_msd_sim.append(msd)\n",
    "\n",
    "    speed_msd_sim = np.mean(all_speed_msd_sim, axis=0)\n",
    "    sim_speeds_msds.append(speed_msd_sim)"
   ],
   "id": "f6df4b768bcb31d6",
   "outputs": [
    {
     "name": "stdout",
     "output_type": "stream",
     "text": [
      "std of sim data vel 0.00010643373808415319\n",
      "speed idx sim: 683\n",
      "total idx speed sim: 670\n"
     ]
    }
   ],
   "execution_count": 7
  },
  {
   "metadata": {
    "ExecuteTime": {
     "end_time": "2025-04-28T21:18:12.557355Z",
     "start_time": "2025-04-28T21:17:48.216167Z"
    }
   },
   "cell_type": "code",
   "source": [
    "# DATA\n",
    "\n",
    "chunksize = 10 ** 6  # Adjust chunk size based on your memory availability\n",
    "chunks1 = []\n",
    "\n",
    "for chunk in pd.read_csv(r'C:\\Users\\mcthu\\PycharmProjects\\Brownian_Data_Analysis\\data\\barium_titanate_in_acetone_position.csv', chunksize=chunksize, low_memory=False):\n",
    "    # process each chunk individually or filter/aggregate it\n",
    "    chunks1.append(chunk)\n",
    "\n",
    "data_df_pos_data = pd.concat(chunks1, ignore_index=True)\n",
    "\n",
    "chunks2 = []\n",
    "\n",
    "for chunk in pd.read_csv(r'C:\\Users\\mcthu\\PycharmProjects\\Brownian_Data_Analysis\\data\\barium_titanate_in_acetone_velocity.csv', chunksize=chunksize, low_memory=False):\n",
    "    # process each chunk individually or filter/aggregate it\n",
    "    chunks2.append(chunk)\n",
    "\n",
    "data_df_vel_data = pd.concat(chunks2, ignore_index=True)\n",
    "\n",
    "# Convert DataFrame into a numpy array where each column is an entry\n",
    "traces_data = data_df_pos_data.to_numpy().T  # transpose if you want each col as an entry\n",
    "\n",
    "# Convert DataFrame into a numpy array where each column is an entry\n",
    "v_traces_data = data_df_vel_data.to_numpy().T  # transpose if you want each col as an entry\n",
    "\n",
    "\n",
    "# GET THE EQ MSD\n",
    "all_msd_data = []\n",
    "lag_times_data = 0\n",
    "for series in traces_data:\n",
    "    msd, lag_times_data = compute_msd(series, timestep_data)\n",
    "    all_msd_data.append(msd)\n",
    "\n",
    "eq_msd_data = np.mean(all_msd_data, axis=0)\n"
   ],
   "id": "caa226dac07d2f77",
   "outputs": [
    {
     "name": "stderr",
     "output_type": "stream",
     "text": [
      "100%|██████████| 83886/83886 [00:03<00:00, 25129.55it/s]\n",
      "100%|██████████| 83886/83886 [00:03<00:00, 26830.71it/s]\n",
      "100%|██████████| 83886/83886 [00:03<00:00, 24065.26it/s]\n",
      "100%|██████████| 83886/83886 [00:03<00:00, 24413.50it/s]\n",
      "100%|██████████| 83886/83886 [00:03<00:00, 23629.72it/s]\n",
      "100%|██████████| 83886/83886 [00:03<00:00, 22757.92it/s]\n",
      "100%|██████████| 83886/83886 [00:03<00:00, 23871.53it/s]\n"
     ]
    }
   ],
   "execution_count": 8
  },
  {
   "metadata": {
    "ExecuteTime": {
     "end_time": "2025-04-28T21:18:17.380317Z",
     "start_time": "2025-04-28T21:18:12.668927Z"
    }
   },
   "cell_type": "code",
   "source": [
    "# DATA PT 2\n",
    "\n",
    "# GET THE VAR INT MSD\n",
    "# CONDITIONING (Find spots where velocity is zero)\n",
    "data_tol_msds = []\n",
    "init_lag_times_data = 0\n",
    "for tol in tols:\n",
    "        \n",
    "    all_init_msd_data = []\n",
    "    init_len = int(len(traces_data[0])/10)\n",
    "    #\n",
    "    msd_num_lim = 5000\n",
    "    j = 0\n",
    "    \n",
    "    for i in range(len(traces_data)):\n",
    "        zero_idxs_data = []\n",
    "        print(\"STD of vel data \"+ str(np.std(v_traces_data[i])/_gain))\n",
    "        v_tolerance = (tol * np.average(np.abs((v_traces_data[0]))))\n",
    "        v_indices = np.where(np.abs(v_traces_data[i]) < v_tolerance)[0]\n",
    "        print(v_indices)\n",
    "        last_idx = -np.inf\n",
    "\n",
    "        # p_tolerance = (tol * np.std(traces_data[i]))\n",
    "        # p_indices = np.where(abs(traces_data[i]) < p_tolerance)[0]\n",
    "        # print(\"p idx data: \" + str(len(p_indices)))\n",
    "\n",
    "        # overlap = np.intersect1d(v_indices, p_indices)\n",
    "        # print(\"overlap idx data: \" + str(len(overlap)))\n",
    "        # for idx in overlap:\n",
    "        #     if idx + init_len < len(traces_data[i]):#idx - last_idx > (init_len / gap_min) and\n",
    "        #         zero_idxs_data.append(idx)\n",
    "\n",
    "        # NO POSITION\n",
    "        for idx in v_indices:\n",
    "            if idx + init_len < len(traces_data[i]) and idx>100:\n",
    "                zero_idxs_data.append(idx)\n",
    "\n",
    "        # def find_adjacent_groups(arr):\n",
    "        #     arr = np.sort(np.unique(arr))  # Sort and deduplicate\n",
    "        #     splits = np.where(np.diff(arr) != 1)[0] + 1\n",
    "        #     groups = np.split(arr, splits)\n",
    "        #     return groups\n",
    "        #\n",
    "        # groups = find_adjacent_groups(zero_idxs_data)\n",
    "\n",
    "        # zero_idxs_data_f = []\n",
    "        # for group in groups:\n",
    "        #     # print(group)\n",
    "        #     # print(group[-1])\n",
    "        #     zero_idxs_data_f.append(group[-1])\n",
    "        # zero_idxs_data_ff = []\n",
    "        # last_idx = -np.inf\n",
    "\n",
    "        # for idx in zero_idxs_data_f:\n",
    "        #     if idx - last_idx > (init_len / gap_min):\n",
    "        #         last_idx = idx\n",
    "        #         zero_idxs_data_ff.append(idx)\n",
    "    \n",
    "        print(\"total idx data: \" + str(len(zero_idxs_data)))\n",
    "\n",
    "        for idx in zero_idxs_data:\n",
    "            # print(idx)\n",
    "            # j+=1\n",
    "            # if j > msd_num_lim:\n",
    "            #     break\n",
    "            msd = compute_init_msd(traces_data[i][idx:idx+init_len])\n",
    "            init_lag_times_data = timestep_data*np.arange(len(msd))\n",
    "            all_init_msd_data.append(msd)\n",
    "    \n",
    "    init_msd_data = np.mean(all_init_msd_data, axis=0)\n",
    "    data_tol_msds.append(init_msd_data)"
   ],
   "id": "4529c6e7cfb47616",
   "outputs": [
    {
     "name": "stdout",
     "output_type": "stream",
     "text": [
      "STD of vel data 0.00011773921978223673\n",
      "[   86    99   719   752  2549  2684  2699  3131  3281  3404  3712  4255\n",
      "  4617  4626  4778  4891  4988  5115  6021  6180  6310  6403  6437  6852\n",
      "  7007  7669  8172  8457  8781  9333  9723 10613 11031 11097 11253 12008\n",
      " 12047 12639 12827 14265 14444 14847 15349 15350 15625 15712 16746 17225\n",
      " 17276 17433 17781 17798 18004 18095 19167 19446 19661 19874 20114 20140\n",
      " 20247 20364 20929 21344 21451 21704 21890 21975 22021 23279 23291 23333\n",
      " 23678 23944 24247 24622 25239 25521 25722 25973 26519 26538 26958 27178\n",
      " 27660 27663 27692 28058 28201 28323 28421 28663 28845 29626 30674 30996\n",
      " 31059 31166 31547 31598 31602 31854 31912 31953 32235 32662 32901 33529\n",
      " 34265 34291 34716 34817 35512 35719 35732 35912 36135 36481 36516 36907\n",
      " 37257 38096 38217 38485 38855 39083 39151 39460 39624 39791 40483 40553\n",
      " 41229 41403 42145 42191 42855 43504 44400 44862 45324 45491 46449 46720\n",
      " 46813 46837 46863 47175 47529 47890 48169 48251 48748 49068 49181 49262\n",
      " 50034 50587 51340 52196 52268 53209 53429 53958 54141 54443 54666 55699\n",
      " 55776 56106 56229 56501 57539 57779 57925 58066 58262 58623 58732 59092\n",
      " 59097 59625 60034 60041 60815 61413 62042 62442 62963 63270 63305 63472\n",
      " 64082 64123 64137 64902 64983 65544 66000 66078 66098 66437 67250 67351\n",
      " 67385 67434 67764 67979 68528 68766 68775 69212 69266 69284 69550 69657\n",
      " 70033 70561 70766 70798 70970 71055 71156 71217 71307 71391 71735 71763\n",
      " 72178 72375 72436 73660 73886 73896 74128 74769 74950 74984 76441 76805\n",
      " 77022 77106 77165 77180 77286 77490 77660 77731 77788 77853 79210 79768\n",
      " 80050 80242 80870 80951 81302 81366 82199 83073 83446 83739]\n",
      "total idx data: 236\n",
      "STD of vel data 0.0001237905545503229\n",
      "[  175   838  1531  1660  2087  2183  2344  2771  2983  3127  3332  3519\n",
      "  3847  3899  4197  4447  4735  4986  5094  6139  6444  6620  6900  7417\n",
      "  7488  7498  7697  8216  8373  8720  8722  8803  9945 10083 10492 11381\n",
      " 11416 11739 12797 13138 13201 13212 13241 13249 13255 13441 13696 13841\n",
      " 14183 15155 15334 15397 15552 15740 15895 15945 16488 16577 16991 17186\n",
      " 17193 17345 18229 18598 19309 19973 20901 21030 21271 22426 22472 23016\n",
      " 23035 23124 23239 23273 23402 23564 24470 24881 24973 25356 26196 26654\n",
      " 26771 26867 27740 27903 28150 28313 28516 28548 29433 29504 29788 30135\n",
      " 30486 31803 32082 32499 32606 32613 33348 33398 33516 33930 34687 34797\n",
      " 34824 34960 35027 35042 35706 36194 36463 36572 36698 36976 37038 37311\n",
      " 37399 37864 38571 38960 39218 39271 39750 39918 39953 40299 40911 41123\n",
      " 41654 42052 42701 43204 44026 45008 45712 45787 45865 46361 46878 47477\n",
      " 48012 49086 49168 50068 50860 51989 53017 53077 53448 53738 53882 53958\n",
      " 54389 54840 55029 55465 55632 56061 56266 56327 56587 56976 57909 57913\n",
      " 58553 59216 59961 60097 60136 60224 60509 60557 60822 61078 61178 61435\n",
      " 61595 61874 61963 62097 62402 63099 63630 63755 63854 64062 64594 64737\n",
      " 65253 65435 65650 65771 65905 66821 66970 67501 68768 69120 69319 69331\n",
      " 69422 69833 69911 70016 70602 71002 71976 72104 72618 72788 73304 73627\n",
      " 73916 73965 74013 74014 74592 74602 74613 74628 74797 75174 75213 75819\n",
      " 75888 76024 76065 77135 77333 77357 77397 77434 77467 77496 77514 78032\n",
      " 79587 79667 79810 79914 80176 80312 80354 80432 80637 81770 81772 82597\n",
      " 82923 83672 83731 83819]\n",
      "total idx data: 227\n",
      "STD of vel data 0.0001078131280770791\n",
      "[  555  1138  1625  1805  2170  2272  2746  4586  4827  4966  8250  8305\n",
      "  8700  8761  8850  8878  9151  9188  9202  9623 10086 10150 10798 11084\n",
      " 11144 11341 11585 11954 12060 12769 12882 12927 13018 13662 13849 14699\n",
      " 14765 14802 15078 15153 15246 15248 15329 15824 16492 16588 16773 16825\n",
      " 17020 17190 17385 17534 17765 18378 18777 19081 19352 19566 19695 19714\n",
      " 19735 20013 20457 21201 21206 21221 22213 23312 23550 23696 23823 24156\n",
      " 24874 25163 25191 25671 25839 26132 26626 26692 26726 26733 26810 27262\n",
      " 27742 28061 28614 28788 29293 29830 29889 30154 30160 30566 30624 31114\n",
      " 31184 31350 32322 32609 32885 33572 34314 34596 34628 35344 35412 35464\n",
      " 36098 36209 36429 36618 36689 36692 36776 37223 37239 37468 37782 38975\n",
      " 39046 39327 39506 39653 39983 40128 40417 41605 41670 42160 42332 42578\n",
      " 42582 42841 43001 43044 43121 43553 43606 44146 44417 44464 44511 44816\n",
      " 45233 45853 46083 46225 46357 46361 46717 46970 47223 47233 47562 47766\n",
      " 47826 47852 47910 48065 48142 49251 49459 50050 50499 51057 52083 52238\n",
      " 53424 53470 53991 54061 54378 54505 54720 54943 55050 55810 56222 56231\n",
      " 56246 56643 56857 57369 57370 57581 58097 58106 58969 59202 59263 59283\n",
      " 59599 59697 59954 60322 60409 60575 60630 60858 61139 62244 62718 62837\n",
      " 62995 63361 63559 63902 63905 65151 66662 66919 67031 67209 67377 67584\n",
      " 67647 68534 68584 68598 68895 68980 69021 69111 69682 69685 69718 69800\n",
      " 69879 69987 70433 70459 70681 70769 71028 71958 72079 72125 72127 72593\n",
      " 72729 72780 72892 72945 73227 73401 73600 74044 74051 74055 74158 74239\n",
      " 74374 74412 75150 76005 76028 76722 77041 77109 77959 78928 79474 79678\n",
      " 79726 79902 80502 80702 80716 80859 81927 82084 82097 82141 82145 82373\n",
      " 82534 82572 83628]\n",
      "total idx data: 255\n",
      "STD of vel data 0.00012972511572316615\n",
      "[  211   954  1679  1689  2807  2860  2891  2897  3068  3222  3896  5254\n",
      "  5289  5561  6579  6713  6842  7172  7323  7743  7980  8316  9442  9658\n",
      "  9730 10900 10916 10986 11649 11837 12257 12269 13315 13335 13861 14035\n",
      " 14141 14211 14475 14558 14578 14588 14618 14656 14664 15207 15215 15463\n",
      " 16375 17090 17574 17721 18142 18301 18957 19749 19856 20236 20592 20911\n",
      " 21499 22414 22960 23256 23318 23619 24289 24481 24541 24692 25055 25100\n",
      " 25170 25199 26191 26806 26840 27629 28161 28276 28399 28656 28665 29170\n",
      " 29671 29814 30569 30623 30630 30918 31080 31415 31426 31543 31565 32008\n",
      " 32183 32243 32269 32483 32668 32842 33889 34037 34076 34732 34808 35021\n",
      " 35110 35274 35667 35704 35891 35965 36039 36042 36105 36140 36242 36253\n",
      " 36423 36474 36832 36854 37402 37592 38168 38227 38288 38623 38873 39242\n",
      " 39470 39685 40326 40338 40742 41480 41535 41712 42089 42205 42212 42548\n",
      " 43156 43201 43333 43567 43678 43786 44471 44686 45268 45503 45686 45777\n",
      " 46457 46528 46538 46652 46664 46841 47191 47655 47847 48383 48396 48706\n",
      " 49250 49520 49566 49629 49659 50867 51545 51927 52322 52705 52734 52870\n",
      " 53010 53011 53417 53914 54148 54578 54852 54870 55027 55281 56758 57157\n",
      " 57577 57969 57997 58014 58048 58637 59255 60256 60275 60504 61340 61959\n",
      " 61968 62141 62533 62807 63780 64271 65094 65100 65238 65322 65700 65916\n",
      " 66329 66850 66938 67113 68024 68219 68264 68320 68391 68401 68509 68982\n",
      " 69222 69643 70377 70400 70756 70853 71070 72171 72218 72419 72438 72476\n",
      " 73357 73694 73913 74143 75183 76384 76739 76899 76952 77612 77779 77817\n",
      " 78998 79024 79162 79440 79474 79508 79713 79743 79931 80167 80271 80631\n",
      " 81088 81892 82461 83048 83879]\n",
      "total idx data: 245\n",
      "STD of vel data 0.00013066148648134256\n",
      "[   31   495   598   832  1096  1139  1686  1856  2013  2479  2557  2838\n",
      "  2986  3371  3845  4115  4202  5072  5872  6173  6313  8050  8196  8336\n",
      "  8514  8672  8889  9257 10057 10474 10986 11129 11331 11979 12160 12184\n",
      " 12878 12888 13382 14086 14447 15041 15760 16621 17820 17899 17900 18068\n",
      " 18137 18370 18938 18980 19122 19252 19501 20613 20658 20787 21952 21965\n",
      " 22131 23077 23206 23574 23882 23883 24144 24366 25023 25268 25647 26170\n",
      " 26374 27078 27579 27655 27962 28091 28419 28420 28728 28768 29630 29712\n",
      " 30162 30175 30629 30724 31069 31267 31655 31674 31773 31789 32046 32184\n",
      " 32245 32448 33620 34613 34646 35370 35883 36134 36992 37294 37744 37749\n",
      " 38854 38887 39046 39491 40008 40138 40432 40488 40905 40933 41041 42182\n",
      " 42819 42851 43027 43061 43594 43602 44703 44804 45106 45220 45294 45879\n",
      " 46805 46827 47236 47718 48448 48725 48798 49109 49524 49903 50640 50723\n",
      " 51150 51411 52463 52676 53142 53209 53463 54298 54747 55130 55231 55256\n",
      " 55683 55732 56368 56380 56515 57139 57207 57549 58180 58213 58605 58704\n",
      " 59387 59902 60252 60464 60695 60812 61710 61888 61996 62605 63092 63102\n",
      " 63138 63880 64277 64907 65463 65594 66718 66988 68093 68557 68632 68674\n",
      " 68790 69172 69217 69339 70035 70074 70636 71100 71124 71329 71773 71886\n",
      " 72369 72804 72947 73037 73538 73787 73917 74528 74628 75017 75546 75748\n",
      " 75751 75967 76085 76277 76770 77369 77486 77674 78785 78795 78847 78850\n",
      " 79026 79242 80029 80220 80592 80690 81131 81407 81415 81971 82082 82647\n",
      " 83451 83667]\n",
      "total idx data: 213\n",
      "STD of vel data 0.0001324939691686962\n",
      "[   87   247   300   378   402  1135  1803  1943  2463  2484  2562  2818\n",
      "  2860  3253  3789  3844  3919  4259  4270  4777  4809  5005  5348  5392\n",
      "  5425  5475  5777  6167  6522  6831  7027  7111  7382  7525  8264  8653\n",
      "  8655  9181  9261  9556  9681 10951 11546 12076 12734 12927 12928 12947\n",
      " 13128 13529 13530 13592 13980 13990 14343 14401 14486 14606 15636 15660\n",
      " 15893 16320 16406 16558 17001 17724 17853 17936 17955 17989 18678 19039\n",
      " 19102 20518 20540 20576 20679 20784 20897 21126 21288 21638 21819 21848\n",
      " 21976 22297 23799 24456 24556 24689 24783 24796 25312 25643 25714 25997\n",
      " 26129 26215 26312 26527 26903 27065 27391 27514 27561 27884 27928 27938\n",
      " 28071 28524 28758 29038 29684 30241 30456 30605 30886 30901 31019 31156\n",
      " 31276 31397 31881 32032 32508 32592 32697 32952 33690 35140 35286 35425\n",
      " 35831 36123 36132 36536 37649 37759 38779 39636 39654 39681 39843 40298\n",
      " 40775 40878 40903 42013 42180 42650 42652 43111 43536 43719 43804 44149\n",
      " 44422 45259 45261 45355 45404 45529 46059 46475 46512 47377 47666 48593\n",
      " 48752 49257 49599 49767 50272 50388 51128 51438 52420 52979 53369 53377\n",
      " 53440 53621 54035 54618 54966 54984 55071 55421 56349 56350 57974 58887\n",
      " 59163 59210 59549 60162 60918 60962 61321 61325 61656 61697 61710 61712\n",
      " 61992 62151 62185 62573 62611 63058 63211 63395 63467 63623 63641 63704\n",
      " 63793 63871 64016 64431 65857 65893 65903 66074 66198 66238 66347 67133\n",
      " 68091 68099 68213 68458 68697 68707 68831 69169 69263 69338 70005 70244\n",
      " 70257 70289 70491 71144 71519 71664 72299 72355 72369 73974 74811 75297\n",
      " 75306 75323 75329 75391 75405 75495 75624 75672 76820 77122 77752 77999\n",
      " 78193 78365 78537 78737 79260 80196 80273 80833 80978 81080 81102 81472\n",
      " 81693 82270 82566 82998 83211 83562 83724 83781 83795]\n",
      "total idx data: 257\n",
      "STD of vel data 0.0001263733474738147\n",
      "[  227   722  1191  1475  1625  1970  2181  2347  2512  2734  3138  3450\n",
      "  4074  4485  4722  4800  4930  5287  5561  5749  5775  5933  6197  6429\n",
      "  6485  6696  6746  7013  7288  7415  7576  7775  8190  8287 10063 10217\n",
      " 10324 10447 10578 10831 11608 11943 12081 12398 12403 12980 13438 13479\n",
      " 13526 13610 13934 14477 14694 14785 14829 14959 15442 15587 16037 16257\n",
      " 16377 16462 16624 17172 17264 17335 17795 18213 18407 19142 19148 19446\n",
      " 20047 20251 21131 21648 21765 21816 21852 21883 21900 22239 23128 23468\n",
      " 24393 24447 24516 24918 25732 26294 26636 27484 28287 29806 29846 30318\n",
      " 30462 31483 31625 31922 31985 31995 32259 32488 32494 32663 32802 33165\n",
      " 33577 33643 33694 33850 34188 34352 34475 34762 34976 35267 35439 35687\n",
      " 35831 36802 36872 37555 37862 37951 38249 38374 38597 38856 38934 38983\n",
      " 39764 39785 39997 40013 40800 41136 41394 41395 41522 41568 41574 41692\n",
      " 42141 42503 42564 42706 42778 42943 44028 44864 44990 45207 45255 45674\n",
      " 45956 46093 47051 47279 47490 48064 49643 49808 49890 50790 51082 51231\n",
      " 51237 51238 51289 51502 51856 51878 52024 52731 52769 52785 53006 53656\n",
      " 53746 53826 53867 54219 54447 55636 55901 56475 56872 56924 57170 57206\n",
      " 57779 57803 57821 57917 58158 58399 58621 58916 59155 59164 59350 59634\n",
      " 59842 60206 60366 60561 61010 61084 61400 61761 61912 62199 62435 62457\n",
      " 62752 62878 63339 63487 63707 63710 63786 63838 64183 64386 64673 64958\n",
      " 64967 65659 65776 65781 67457 68419 68689 69157 69909 69996 70803 71290\n",
      " 71998 72137 72217 72431 73055 73160 73215 73224 74023 74214 74700 74877\n",
      " 75167 75231 76329 77997 78250 78413 78500 78586 78610 79343 79605 79822\n",
      " 80192 80466 80797 81418 81422 81594 81638 82320 82431 83255 83259 83591]\n",
      "total idx data: 254\n"
     ]
    }
   ],
   "execution_count": 9
  },
  {
   "metadata": {
    "ExecuteTime": {
     "end_time": "2025-04-28T21:19:03.041869Z",
     "start_time": "2025-04-28T21:18:17.390058Z"
    }
   },
   "cell_type": "code",
   "source": [
    "\n",
    "from utils import full_hydro_msd, compute_roots\n",
    "\n",
    "roots = compute_roots(_m, _K, _r, _viscous, _rho_f)\n",
    "times_analytic = np.logspace(-9, 1, 1000)\n",
    "\n",
    "mu = 0\n",
    "# sigma_v = np.sqrt(_k_b*_temp/_m)\n",
    "sigma_x = np.sqrt(_k_b*_temp/_K)\n",
    "num_samples = 1000\n",
    "\n",
    "# initial_conditions_v = np.random.normal(mu, sigma_v, num_samples)\n",
    "initial_conditions_x = np.random.normal(mu, sigma_x, num_samples)\n",
    "\n",
    "results_speed = np.zeros((num_samples, len(times_analytic)))\n",
    "results_speed_no_half = np.zeros((num_samples, len(times_analytic)))\n",
    "results = np.zeros((num_samples, len(times_analytic)))\n",
    "#\n",
    "# for i in range(num_samples):\n",
    "#     results[i, :] = full_hydro_msd(0, times_analytic, _m, _K, _r, _viscous, _rho_f, initial_conditions_x[i], 0, roots, _temp)\n",
    "\n",
    "speeds_analytic = []\n",
    "speeds_analytic_no_half = []\n",
    "for speed in speeds:\n",
    "    print(\"Speed X\")\n",
    "    for i in range(num_samples):\n",
    "        results_speed[i, :] = full_hydro_msd(0, times_analytic, _m, _K, _r, _viscous, _rho_f, initial_conditions_x[i], speed* np.std(v_traces_sim[0]), roots, _temp)\n",
    "        results_speed_no_half[i, :] = full_hydro_msd_no_half(0, times_analytic, _m, _K, _r, _viscous, _rho_f, initial_conditions_x[i], speed* np.std(v_traces_sim[0]), roots, _temp)\n",
    "    speeds_analytic.append(results_speed.mean(axis=0))\n",
    "    speeds_analytic_no_half.append(results_speed_no_half.mean(axis=0))\n",
    "    results_speed = np.zeros((num_samples, len(times_analytic)))\n",
    "    results_speed_no_half = np.zeros((num_samples, len(times_analytic)))\n",
    "\n",
    "averaged_initial_msd = results.mean(axis=0)\n",
    "\n"
   ],
   "id": "fa3f88995e999cd7",
   "outputs": [
    {
     "name": "stdout",
     "output_type": "stream",
     "text": [
      "Speed X\n"
     ]
    }
   ],
   "execution_count": 10
  },
  {
   "metadata": {
    "ExecuteTime": {
     "end_time": "2025-04-28T21:19:03.981122Z",
     "start_time": "2025-04-28T21:19:03.118475Z"
    }
   },
   "cell_type": "code",
   "source": [
    "# GRAPHING\n",
    "plt.figure(figsize=(10,10))\n",
    "\n",
    "#  Set times for analytic functions\n",
    "\n",
    "init_zero_WN_analytic = just_noise(times_analytic)\n",
    "analytic_tol_msds = []\n",
    "for tol in tols:\n",
    "    init_var_WN_analytic = known_initial_v_0(times_analytic, tol)\n",
    "    analytic_tol_msds.append(init_var_WN_analytic)\n",
    "WN_EQ_analytic = msd_wn(times_analytic)\n",
    "basset_msd = hydro_msd(times_analytic)\n",
    "\n",
    "laplace_form = full_hydro_msd(0, times_analytic, _m, _K, _r, _viscous, _rho_f, np.sqrt(_k_b*_temp/_K), 0, roots, _temp)\n",
    "laplace_form2 = full_hydro_msd(0, times_analytic, _m, _K, _r, _viscous, _rho_f, np.sqrt(_k_b*_temp/_K), (.5 * np.average(np.abs((v_traces_data[0]))))/_gain, roots, _temp)\n",
    "# stationairy1 = full_hydro_msd(1000, 1000+times_analytic, _m, _K, _r, _viscous, _rho_f, np.sqrt(_k_b*_temp/_K), np.sqrt(_k_b*_temp/_m), roots, _temp)\n",
    "stationairy2 = full_hydro_msd(1000, 1000+times_analytic, _m, _K, _r, _viscous, _rho_f, 0,0, roots, _temp)\n",
    "\n",
    "def form_func(times):\n",
    "    return (2/3)*(12/5)*(np.sqrt((_rho_f*_r**2/_viscous)/np.pi))*(times)**(5/2)*(_k_b*_temp/(_m**2/_v_force)) - 2/3 * (_k_b*_temp/(_m**2/_v_force))*(times)**(3)\n",
    "def graph_5_2(times):\n",
    "    return (4/3)*(12/5)*(np.sqrt((_rho_f*_r**2/_viscous)/np.pi))*(times)**(5/2)*(_k_b*_temp/(_m**2/_v_force))# - 2/3 * (_k_b*_temp/(_m**2/_v_force))*(times)**(3)\n",
    "def graph_2(times):\n",
    "    return (2/100)*(np.sqrt((_rho_f*_r**2/_viscous)/np.pi))*(times)**(2)*(_k_b*_temp/(_m**2/_v_force))# - 2/3 * (_k_b*_temp/(_m**2/_v_force))*(times)**(3)\n",
    "\n",
    "# ANALYTIC GRAPHING\n",
    "# plt.plot(times_analytic, stationairy2*_gain**2, label=\"stationairy 2\")\n",
    "# plt.plot(times_analytic, stationairy1*_gain**2, label=\"stationairy 1\")\n",
    "# plt.plot(times_analytic, laplace_form*_gain**2, linewidth=4, label=\"inital zero basset\", color='green')\n",
    "# plt.plot(times_analytic, averaged_initial_msd*_gain**2, label=\"cole FORM2\")\n",
    "# plt.scatter(times_analytic, laplace_form2*_gain**2, s=.2, label=\"cole FORM2\")\n",
    "# plt.plot(times_analytic[30:int(len(times_analytic)/7)], graph_5_2(np.array(times_analytic[30:int(len(times_analytic)/7)]))*_gain**2, label=\"5/2\", color='black', linewidth=3)\n",
    "# plt.plot(times_analytic[30:int(len(times_analytic)/7)], graph_2(np.array(times_analytic[30:int(len(times_analytic)/7)]))*_gain**2, label=\"2\", color='black', linewidth=3)\n",
    "# plt.plot(times_analytic, init_zero_WN_analytic*_gain**2, linestyle='dashed', label=\"Initial Zero White\")\n",
    "# plt.plot(times_analytic, analytic_tol_msds[0], linestyle='dashed', label=f\"Initial Variable Variance White tol={tols[0]}\")\n",
    "# for i in range(len(tols)):\n",
    "#     plt.plot(times_analytic, analytic_tol_msds[i], linestyle='dashed', label=f\"Initial Variable Variance White tol={tols[i]}\")\n",
    "# plt.plot(times_analytic, WN_EQ_analytic*_gain**2, linestyle='dashed', label=\"Equilibrium White\")\n",
    "# plt.plot(times_analytic, basset_msd*_gain**2, color='green', linewidth=4,label=\"Equilibrium Basset\")\n",
    "\n",
    "# SIMULATION GRAPHING\n",
    "# plt.plot(lag_times_sim[1:10000], eq_msd_sim[1:10000]*_gain**2, color = \"red\", label=\"Equilibrium Basset SIM\")\n",
    "# plt.plot(init_lag_times_sim[1:], sim_tol_msds[-1][1:], label=f\"Initial Variable Basset Variance Basset SIM tol={tols[0]}\")\n",
    "# for i in range(len(tols)):\n",
    "    # plt.plot(init_lag_times_sim[40:], sim_tol_msds[i][40:]*_gain**2, linestyle = 'dashed', color = \"red\", label=f\"Initial Variable Basset Variance Basset SIM tol={tols[i]}\")\n",
    "\n",
    "# SPEEDS\n",
    "for i in range(len(speeds)):\n",
    "    # plt.plot(lag_times_speed[:], sim_speeds_msds[i][:]*_gain**2, linestyle = 'dashed', label=f\"Speed Basset Variance Basset SIM tol={speeds[i]}\")\n",
    "    plt.plot(times_analytic, speeds_analytic[i]*_gain**2, label=f\"speed {speeds[i]} basset form\")\n",
    "    plt.plot(times_analytic, speeds_analytic_no_half[i]*_gain**2, label=f\"speed {speeds[i]} no half basset form\")\n",
    "\n",
    "\n",
    "# DATA GRAPHING\n",
    "# plt.scatter(lag_times_data[1:], eq_msd_data[1:],s=20, label=\"Equilibrium Basset DATA\", color = \"blue\")\n",
    "# plt.plot(init_lag_times_data, data_tol_msds[0], linestyle='dotted', label=f\"Initial Variable Basset Variance Basset DATA tol={tols[0]}\")\n",
    "# for i in range(len(tols)):\n",
    "    # plt.scatter(init_lag_times_data, data_tol_msds[i], s=20, color = \"blue\", label=f\"Initial Variable Basset Variance Basset DATA tol={tols[i]}\")\n",
    "\n",
    "# data = np.column_stack((init_lag_times_data, data_tol_msds[0]))\n",
    "# a_form = np.column_stack((times_analytic, laplace_form*_gain**2))\n",
    "# eq_data = np.column_stack((lag_times_data[1:], eq_msd_data[1:]))\n",
    "# eq_form = np.column_stack((times_analytic, basset_msd*_gain**2))\n",
    "\n",
    "# Save to a text file\n",
    "# np.savetxt('../data/data.dat', data, fmt='%.15e', delimiter=' ', header='# lag msd_z_ic', comments='')\n",
    "# np.savetxt('../data/a_form.dat', a_form, fmt='%.15e', delimiter=' ', header='# lag msd_z_ic', comments='')\n",
    "# np.savetxt('../data/eq_data.dat', eq_data, fmt='%.15e', delimiter=' ', header='# lag msd_z_ic', comments='')\n",
    "# np.savetxt('../data/eq_form.dat', eq_form, fmt='%.15e', delimiter=' ', header='# lag msd_z_ic', comments='')\n",
    "\n",
    "# ONE TIME GRAPH\n",
    "# plt.plot(times_analytic, analytic_tol_msds[0], linestyle='dashed', label=f\"Initial Variable Variance White tol={tols[0]}\")\n",
    "# plt.plot(times_analytic, analytic_tol_msds[-1], linestyle='dashed', label=f\"Initial Variable Variance White tol={tols[-1]}\")\n",
    "# plt.plot(times_analytic, analytic_tol_msds[3], linestyle='dashed', label=f\"Initial Variable Variance White tol={tols[3]}\")\n",
    "#\n",
    "# plt.plot(init_lag_times_sim[1:], sim_tol_msds[0][1:], label=f\"Initial Variable Basset Variance Basset SIM tol={tols[0]}\")\n",
    "# plt.plot(init_lag_times_sim[1:], sim_tol_msds[-1][1:], label=f\"Initial Variable Basset Variance Basset SIM tol={tols[-1]}\")\n",
    "# plt.plot(init_lag_times_sim[1:], sim_tol_msds[3][1:], label=f\"Initial Variable Basset Variance Basset SIM tol={tols[3]}\")\n",
    "\n",
    "\n",
    "# plt.xlim(left =1E-7, right=5E-2)\n",
    "# plt.ylim(bottom=1E-8, top =5e-2)\n",
    "# plt.xlim(left =3E-7, right=5E-5)\n",
    "# plt.ylim(bottom=1E-22, top =5e-18)\n",
    "plt.xscale('log')\n",
    "plt.yscale('log')\n",
    "plt.legend()\n",
    "plt.show()\n"
   ],
   "id": "d91a734a5b977fd2",
   "outputs": [
    {
     "name": "stdout",
     "output_type": "stream",
     "text": [
      "tp is 1.9754935012178625e-05\n",
      "1.5266056537325107e-05\n"
     ]
    },
    {
     "name": "stderr",
     "output_type": "stream",
     "text": [
      "C:\\Users\\mcthu\\AppData\\Local\\Temp\\ipykernel_26660\\1809820822.py:16: RuntimeWarning: overflow encountered in exp\n",
      "  numerator = tau*np.exp(-1*t / tau)*(-1-4*tau**2*(-1 + np.exp(t/tau))*omega_1**2 + np.cosh(2*t*omega_1)+2*tau*omega_1*np.sinh(2*t*omega_1))\n",
      "C:\\Users\\mcthu\\AppData\\Local\\Temp\\ipykernel_26660\\1809820822.py:16: RuntimeWarning: overflow encountered in cosh\n",
      "  numerator = tau*np.exp(-1*t / tau)*(-1-4*tau**2*(-1 + np.exp(t/tau))*omega_1**2 + np.cosh(2*t*omega_1)+2*tau*omega_1*np.sinh(2*t*omega_1))\n",
      "C:\\Users\\mcthu\\AppData\\Local\\Temp\\ipykernel_26660\\1809820822.py:16: RuntimeWarning: invalid value encountered in add\n",
      "  numerator = tau*np.exp(-1*t / tau)*(-1-4*tau**2*(-1 + np.exp(t/tau))*omega_1**2 + np.cosh(2*t*omega_1)+2*tau*omega_1*np.sinh(2*t*omega_1))\n",
      "C:\\Users\\mcthu\\AppData\\Local\\Temp\\ipykernel_26660\\1809820822.py:16: RuntimeWarning: overflow encountered in sinh\n",
      "  numerator = tau*np.exp(-1*t / tau)*(-1-4*tau**2*(-1 + np.exp(t/tau))*omega_1**2 + np.cosh(2*t*omega_1)+2*tau*omega_1*np.sinh(2*t*omega_1))\n",
      "C:\\Users\\mcthu\\AppData\\Local\\Temp\\ipykernel_26660\\1809820822.py:16: RuntimeWarning: invalid value encountered in multiply\n",
      "  numerator = tau*np.exp(-1*t / tau)*(-1-4*tau**2*(-1 + np.exp(t/tau))*omega_1**2 + np.cosh(2*t*omega_1)+2*tau*omega_1*np.sinh(2*t*omega_1))\n",
      "C:\\Users\\mcthu\\AppData\\Local\\Temp\\ipykernel_26660\\1809820822.py:37: RuntimeWarning: overflow encountered in cosh\n",
      "  hyp_factors = (1 - np.exp(-t/(2*tau))*(np.cosh(omega_1*t) + np.sinh(omega_1*t)/(2*omega_1*tau)))**2\n",
      "C:\\Users\\mcthu\\AppData\\Local\\Temp\\ipykernel_26660\\1809820822.py:37: RuntimeWarning: overflow encountered in sinh\n",
      "  hyp_factors = (1 - np.exp(-t/(2*tau))*(np.cosh(omega_1*t) + np.sinh(omega_1*t)/(2*omega_1*tau)))**2\n",
      "C:\\Users\\mcthu\\AppData\\Local\\Temp\\ipykernel_26660\\1809820822.py:37: RuntimeWarning: invalid value encountered in multiply\n",
      "  hyp_factors = (1 - np.exp(-t/(2*tau))*(np.cosh(omega_1*t) + np.sinh(omega_1*t)/(2*omega_1*tau)))**2\n",
      "C:\\Users\\mcthu\\AppData\\Local\\Temp\\ipykernel_26660\\1809820822.py:47: RuntimeWarning: overflow encountered in sinh\n",
      "  velo = np.exp(-1*t/tau) / omega_1**2 * np.sinh(omega_1*t)**2 *_k_b*_temp / _m * updated_sigma\n",
      "C:\\Users\\mcthu\\AppData\\Local\\Temp\\ipykernel_26660\\1809820822.py:47: RuntimeWarning: overflow encountered in square\n",
      "  velo = np.exp(-1*t/tau) / omega_1**2 * np.sinh(omega_1*t)**2 *_k_b*_temp / _m * updated_sigma\n",
      "C:\\Users\\mcthu\\AppData\\Local\\Temp\\ipykernel_26660\\1809820822.py:47: RuntimeWarning: invalid value encountered in multiply\n",
      "  velo = np.exp(-1*t/tau) / omega_1**2 * np.sinh(omega_1*t)**2 *_k_b*_temp / _m * updated_sigma\n",
      "C:\\Users\\mcthu\\AppData\\Local\\Temp\\ipykernel_26660\\1809820822.py:8: RuntimeWarning: overflow encountered in cosh\n",
      "  return (2*_k_b*_temp/_K)*(1-np.exp(-t/(2*tau))*(np.cosh(omega_1*t)+(1/(2*omega_1*tau))*np.sinh(omega_1*t)))\n",
      "C:\\Users\\mcthu\\AppData\\Local\\Temp\\ipykernel_26660\\1809820822.py:8: RuntimeWarning: overflow encountered in sinh\n",
      "  return (2*_k_b*_temp/_K)*(1-np.exp(-t/(2*tau))*(np.cosh(omega_1*t)+(1/(2*omega_1*tau))*np.sinh(omega_1*t)))\n",
      "C:\\Users\\mcthu\\AppData\\Local\\Temp\\ipykernel_26660\\1809820822.py:8: RuntimeWarning: invalid value encountered in multiply\n",
      "  return (2*_k_b*_temp/_K)*(1-np.exp(-t/(2*tau))*(np.cosh(omega_1*t)+(1/(2*omega_1*tau))*np.sinh(omega_1*t)))\n"
     ]
    },
    {
     "data": {
      "text/plain": [
       "<Figure size 1000x1000 with 1 Axes>"
      ],
      "image/png": "[encoded data removed]"
     },
     "metadata": {},
     "output_type": "display_data"
    }
   ],
   "execution_count": 11
  },
  {
   "metadata": {
    "ExecuteTime": {
     "end_time": "2025-04-28T21:19:04.452084Z",
     "start_time": "2025-04-28T21:19:04.048777Z"
    }
   },
   "cell_type": "code",
   "source": [
    "from scipy.interpolate import interp1d\n",
    "s_interp = interp1d(times_analytic, speeds_analytic[0])\n",
    "\n",
    "a_speed = s_interp(lag_times_speed[1:])\n",
    "diff = (sim_speeds_msds[0][1:] - a_speed)/a_speed\n",
    "plt.plot(lag_times_speed[1:],diff, label=f\"Speed difference\")\n",
    "# plt.xlim(left = 0, right = 2e-5)\n",
    "plt.xscale('log')\n",
    "plt.show()"
   ],
   "id": "6c1ac7edb96ed204",
   "outputs": [
    {
     "data": {
      "text/plain": [
       "<Figure size 640x480 with 1 Axes>"
      ],
      "image/png": "[encoded data removed]"
     },
     "metadata": {},
     "output_type": "display_data"
    }
   ],
   "execution_count": 12
  },
  {
   "metadata": {
    "ExecuteTime": {
     "end_time": "2025-04-28T21:19:04.648761Z",
     "start_time": "2025-04-28T21:19:04.544366Z"
    }
   },
   "cell_type": "code",
   "source": [
    "from scipy.interpolate import interp1d #find ratio\n",
    "off_by = []\n",
    "\n",
    "f = interp1d(times_analytic, form_func(np.array(times_analytic))*_gain**2, kind='linear')\n",
    "\n",
    "interpolated_arr2 = f(init_lag_times_sim[1:])\n",
    "\n",
    "ratio =  sim_tol_msds[i][1:]*_gain**2 / interpolated_arr2\n",
    "\n",
    "plt.plot(ratio[5:9])"
   ],
   "id": "47a167eb9b573424",
   "outputs": [
    {
     "data": {
      "text/plain": [
       "[<matplotlib.lines.Line2D at 0x219ec5e4650>]"
      ]
     },
     "execution_count": 13,
     "metadata": {},
     "output_type": "execute_result"
    },
    {
     "data": {
      "text/plain": [
       "<Figure size 640x480 with 1 Axes>"
      ],
      "image/png": "[encoded data removed]"
     },
     "metadata": {},
     "output_type": "display_data"
    }
   ],
   "execution_count": 13
  },
  {
   "metadata": {
    "ExecuteTime": {
     "end_time": "2025-04-28T21:19:04.732768Z",
     "start_time": "2025-04-28T21:19:04.722088Z"
    }
   },
   "cell_type": "code",
   "source": [
    "# restrict to overlapping domain\n",
    "from scipy.interpolate import interp1d\n",
    "\n",
    "crossings_for_tols = []\n",
    "\n",
    "for i in range(len(tols)):\n",
    "\n",
    "    x1 = times_analytic\n",
    "    x2 = init_lag_times_sim[1:]\n",
    "    y1 = analytic_tol_msds[i]\n",
    "    y2 = sim_tol_msds[i][1:]\n",
    "\n",
    "    xmin = max(x1.min(), x2.min())\n",
    "    xmax = min(x1.max(), x2.max())\n",
    "\n",
    "    if xmin>xmax:\n",
    "        print(\"Error: No overlapping domain\")\n",
    "    else:\n",
    "        x_common = np.linspace(xmin, xmax, 100000)\n",
    "\n",
    "        #interpolate both functions\n",
    "        f_1 = interp1d(x1, y1, kind='linear',bounds_error=False, fill_value=np.nan)\n",
    "        f_2 = interp1d(x2, y2, kind='linear',bounds_error=False, fill_value=np.nan)\n",
    "\n",
    "        y1_interp = f_1(x_common)\n",
    "        y2_interp = f_2(x_common)\n",
    "\n",
    "        # Find a sign change in the difference\n",
    "        diff = y1_interp - y2_interp\n",
    "        mask = ~np.isnan(diff)\n",
    "        diff = diff[mask]\n",
    "        x_common = x_common[mask]\n",
    "        sign_changes = np.where(np.diff(np.sign(diff)))[0]\n",
    "\n",
    "        x_crossings = []\n",
    "        for j in sign_changes:\n",
    "            x0, x1 = x_common[j], x_common[j+1]\n",
    "            y0, y1_ = diff[j], diff[j+1]\n",
    "            x_cross = x0 - y0 * (x1 - x0) / (y1_ - y0)\n",
    "            x_crossings.append(x_cross)\n",
    "\n",
    "        if not x_crossings:\n",
    "            print(f\"No crossing found for tol: {tols[i]}\")\n",
    "        else:\n",
    "            print(f\"{len(x_crossings)} crossings found for tol: {tols[i]}\")\n",
    "\n",
    "        crossings_for_tols.append(x_crossings)\n",
    "\n",
    "print(crossings_for_tols)"
   ],
   "id": "b458f8bb2c96ca94",
   "outputs": [
    {
     "name": "stdout",
     "output_type": "stream",
     "text": [
      "1 crossings found for tol: 0.0051\n",
      "[[1.960909381454455e-05]]\n"
     ]
    }
   ],
   "execution_count": 14
  },
  {
   "metadata": {
    "ExecuteTime": {
     "end_time": "2025-04-28T21:19:04.947599Z",
     "start_time": "2025-04-28T21:19:04.818991Z"
    }
   },
   "cell_type": "code",
   "source": [
    "\n",
    "x_values = []\n",
    "y_values = []\n",
    "\n",
    "for i, tol in enumerate(tols):\n",
    "    # For each tolerance, repeat the tol value for each crossing\n",
    "    num_crossings = len(crossings_for_tols[i])\n",
    "    x_values.extend([tol] * num_crossings)  # Repeat tol for each crossing\n",
    "    y_values.extend(crossings_for_tols[i])   # Add all crossings as y-values\n",
    "\n",
    "# Create the scatter plot\n",
    "plt.figure(figsize=(10, 6))\n",
    "plt.scatter(x_values, y_values, linewidth=0.5)\n",
    "\n",
    "# Customize the plot\n",
    "plt.xlabel('Tolerance Values')\n",
    "plt.ylabel('Crossing Points')\n",
    "plt.title('Crossing Points for Each Tolerance')\n",
    "plt.grid(True, linestyle='--', alpha=0.7)\n",
    "\n",
    "# Optional: Use log scale if tolerance values vary widely\n",
    "# plt.xscale('log')\n",
    "plt.ylim(bottom=.1E-5, top = 3E-5)\n",
    "plt.show()"
   ],
   "id": "2662b9f5176644f9",
   "outputs": [
    {
     "data": {
      "text/plain": [
       "<Figure size 1000x600 with 1 Axes>"
      ],
      "image/png": "[encoded data removed]"
     },
     "metadata": {},
     "output_type": "display_data"
    }
   ],
   "execution_count": 15
  },
  {
   "metadata": {
    "ExecuteTime": {
     "end_time": "2025-04-28T21:19:05.133016Z",
     "start_time": "2025-04-28T21:19:05.036454Z"
    }
   },
   "cell_type": "code",
   "source": [
    "# Find the msd val for every tolerance (both analytical and sim) at 12 microseconds and plot against tolerances\n",
    "\n",
    "twelve_us_msd_white = []\n",
    "twelve_us_msd_basset = []\n",
    "\n",
    "for i in range(len(tols)):\n",
    "    x1 = times_analytic\n",
    "    x2 = init_lag_times_sim[1:]\n",
    "    y1 = analytic_tol_msds[i]\n",
    "    y2 = sim_tol_msds[i][1:]\n",
    "    \n",
    "    f_1 = interp1d(x1, y1, kind='linear',bounds_error=False, fill_value=np.nan)\n",
    "    f_2 = interp1d(x2, y2, kind='linear',bounds_error=False, fill_value=np.nan)\n",
    "    \n",
    "    twelve_us_msd_white.append(f_1(1.2e-5))\n",
    "    twelve_us_msd_basset.append(f_2(1.2e-5))\n",
    "    \n",
    "plt.figure(figsize=(10, 6))\n",
    "plt.scatter(tols, twelve_us_msd_white, label='White MSD at 12us')\n",
    "plt.scatter(tols, twelve_us_msd_basset, label='Basset MSD at 12 us')\n",
    "plt.legend()\n",
    "plt.show()"
   ],
   "id": "3bbedba2461f9624",
   "outputs": [
    {
     "data": {
      "text/plain": [
       "<Figure size 1000x600 with 1 Axes>"
      ],
      "image/png": "[encoded data removed]"
     },
     "metadata": {},
     "output_type": "display_data"
    }
   ],
   "execution_count": 16
  },
  {
   "metadata": {
    "ExecuteTime": {
     "end_time": "2025-04-28T21:19:05.205909Z",
     "start_time": "2025-04-28T21:19:05.201347Z"
    }
   },
   "cell_type": "code",
   "source": "",
   "id": "b5f409ea103296d3",
   "outputs": [],
   "execution_count": null
  }
 ],
 "metadata": {
  "kernelspec": {
   "display_name": "Python 3",
   "language": "python",
   "name": "python3"
  },
  "language_info": {
   "codemirror_mode": {
    "name": "ipython",
    "version": 2
   },
   "file_extension": ".py",
   "mimetype": "text/x-python",
   "name": "python",
   "nbconvert_exporter": "python",
   "pygments_lexer": "ipython2",
   "version": "2.7.6"
  }
 },
 "nbformat": 4,
 "nbformat_minor": 5
}
