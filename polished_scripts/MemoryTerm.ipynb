{
 "cells": [
  {
   "cell_type": "code",
   "execution_count": null,
   "id": "initial_id",
   "metadata": {
    "collapsed": true
   },
   "outputs": [],
   "source": [
    "import numpy as np\n",
    "import matplotlib.pyplot as plt\n",
    "import scipy\n",
    "import pandas as pd"
   ]
  },
  {
   "metadata": {},
   "cell_type": "code",
   "outputs": [],
   "execution_count": null,
   "source": [
    "# SIMULATIONS\n",
    "\n",
    "chunksize = 10 ** 6  # Adjust chunk size based on your memory availability\n",
    "chunks = []\n",
    "\n",
    "for chunk in pd.read_csv(r'C:\\Users\\mcthu\\PycharmProjects\\MarkovianEmbedding\\position_velocity_data.csv', chunksize=chunksize, low_memory=False):\n",
    "    # process each chunk individually or filter/aggregate it\n",
    "    chunks.append(chunk)\n",
    "\n",
    "df = pd.concat(chunks, ignore_index=True)\n",
    "\n",
    "# Extract only the columns that start with 'Position' or 'Velocity'\n",
    "position_cols = [col for col in df.columns if col.startswith('Position')]\n",
    "velocity_cols = [col for col in df.columns if col.startswith('Velocity')]\n",
    "\n",
    "timestep_sim = df['real_timestep_s'].values[0]\n",
    "positions_sim = []\n",
    "velocities_sim = []\n",
    "for i in range(len(position_cols)):\n",
    "    positions_sim.append(df[position_cols[i]].astype(float).values)\n",
    "    velocities_sim.append(df[velocity_cols[i]].astype(float).values)\n",
    "\n",
    "# print(f\"Positions shape: {positions_sim.shape}\")\n",
    "# print(f\"Velocities shape: {velocities_sim.shape}\")\n",
    "\n",
    "bin_num_sim = 10\n",
    "fs_sim = 1/(timestep_sim * bin_num_sim)\n",
    "\n",
    "def bin_data(series, bin_size):\n",
    "    # Ensuring the length of series is divisible by bin_size\n",
    "    length = len(series) - len(series) % bin_size\n",
    "    series = np.array(series[:length])\n",
    "    return np.mean(series.reshape(-1, bin_size), axis=1)\n",
    "\n",
    "traces_sim = []\n",
    "for trace in positions_sim:\n",
    "    series = bin_data(trace, bin_num_sim)\n",
    "    traces_sim.append(series)\n",
    "\n",
    "v_traces_sim = []\n",
    "for trace in velocities_sim:\n",
    "    series = bin_data(trace, bin_num_sim)\n",
    "    v_traces_sim.append(series)"
   ],
   "id": "badcdddd57a107a5"
  },
  {
   "metadata": {
    "ExecuteTime": {
     "end_time": "2025-04-29T19:10:33.994792Z",
     "start_time": "2025-04-29T19:10:32.949411Z"
    }
   },
   "cell_type": "code",
   "source": [
    "# SIM PART 2\n",
    "vos = [-2, -1, 0, 1, 2]\n",
    "tol = .005\n",
    "hist_len = int(10e-6/fs_sim)\n",
    "\n",
    "sim_histories = []\n",
    "\n",
    "\n",
    "# integrand = v / t**(1.5)\n",
    "\n",
    "for speed in vos:\n",
    "    print(\"length of history is \" + str(hist_len) )\n",
    "    print(\"length of trace is \" + str(len(v_traces_sim[0])))\n",
    "\n",
    "    for i in range(len(traces_sim)):\n",
    "        v_tolerance = (speed * np.std(v_traces_sim[i]))\n",
    "        speed_tolerance = tol * np.std(v_traces_sim[i])\n",
    "        v_indices = np.where((v_traces_sim[i] < v_tolerance + speed_tolerance) & (v_traces_sim[i] > v_tolerance - speed_tolerance))[0]\n",
    "        print(\"speed idx sim: \" + str(len(v_indices)))\n",
    "\n",
    "        hist_idx = []\n",
    "        for idx in v_indices:\n",
    "            if idx - hist_len > 0: #idx - last_idx > (init_len / 100) and\n",
    "                hist_idx.append(idx)\n",
    "\n",
    "        print(\"total hist idx: \" + str(len(hist_idx)))\n",
    "\n",
    "        for idx in hist_idx:\n",
    "            v = v_traces_sim[idx - hist_len: idx][::-1]\n",
    "            t_hist = [range(1, len(v) + 1)]*(1/fs_sim)\n",
    "            plt.plot(t_hist, v)\n",
    "\n"
   ],
   "id": "ec0903a37981b870",
   "outputs": [
    {
     "ename": "NameError",
     "evalue": "name 'fs_sim' is not defined",
     "output_type": "error",
     "traceback": [
      "\u001B[1;31m---------------------------------------------------------------------------\u001B[0m",
      "\u001B[1;31mNameError\u001B[0m                                 Traceback (most recent call last)",
      "Cell \u001B[1;32mIn[1], line 4\u001B[0m\n\u001B[0;32m      2\u001B[0m vos \u001B[38;5;241m=\u001B[39m [\u001B[38;5;241m-\u001B[39m\u001B[38;5;241m2\u001B[39m, \u001B[38;5;241m-\u001B[39m\u001B[38;5;241m1\u001B[39m, \u001B[38;5;241m0\u001B[39m, \u001B[38;5;241m1\u001B[39m, \u001B[38;5;241m2\u001B[39m]\n\u001B[0;32m      3\u001B[0m tol \u001B[38;5;241m=\u001B[39m \u001B[38;5;241m.005\u001B[39m\n\u001B[1;32m----> 4\u001B[0m hist_len \u001B[38;5;241m=\u001B[39m \u001B[38;5;28mint\u001B[39m(\u001B[38;5;241m10e-6\u001B[39m\u001B[38;5;241m/\u001B[39mfs_sim)\n\u001B[0;32m      6\u001B[0m sim_histories \u001B[38;5;241m=\u001B[39m []\n\u001B[0;32m      9\u001B[0m \u001B[38;5;66;03m# integrand = v / t**(1.5)\u001B[39;00m\n",
      "\u001B[1;31mNameError\u001B[0m: name 'fs_sim' is not defined"
     ]
    }
   ],
   "execution_count": 1
  },
  {
   "metadata": {},
   "cell_type": "code",
   "outputs": [],
   "execution_count": null,
   "source": "",
   "id": "e10a03645f5d4532"
  }
 ],
 "metadata": {
  "kernelspec": {
   "display_name": "Python 3",
   "language": "python",
   "name": "python3"
  },
  "language_info": {
   "codemirror_mode": {
    "name": "ipython",
    "version": 2
   },
   "file_extension": ".py",
   "mimetype": "text/x-python",
   "name": "python",
   "nbconvert_exporter": "python",
   "pygments_lexer": "ipython2",
   "version": "2.7.6"
  }
 },
 "nbformat": 4,
 "nbformat_minor": 5
}
